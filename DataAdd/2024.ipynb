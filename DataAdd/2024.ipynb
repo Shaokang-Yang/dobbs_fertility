{
 "cells": [
  {
   "cell_type": "code",
   "execution_count": null,
   "id": "a9498638",
   "metadata": {},
   "outputs": [],
   "source": []
  },
  {
   "cell_type": "code",
   "execution_count": 4,
   "id": "a21b41cd",
   "metadata": {},
   "outputs": [],
   "source": [
    "# import os\n",
    "# os.chdir(\"birthrate_mtgp\")\n",
    "from jax import numpy as jnp\n",
    "import numpy as np\n",
    "import numpyro.distributions as dist\n",
    "import jax.numpy as jnp\n",
    "import numpyro\n",
    "from numpyro.handlers import scope"
   ]
  },
  {
   "cell_type": "code",
   "execution_count": 7,
   "id": "fe9644b6",
   "metadata": {},
   "outputs": [
    {
     "name": "stdout",
     "output_type": "stream",
     "text": [
      "✅ Updated data saved to: /Users/shaokangyang/Library/CloudStorage/GoogleDrive-sky.ang510@gmail.com/My Drive/Code/dobbs_fertility/data/fertility_data_updated.csv\n"
     ]
    }
   ],
   "source": [
    "import pandas as pd\n",
    "\n",
    "# File paths\n",
    "path_fertility = \"/Users/shaokangyang/Library/CloudStorage/GoogleDrive-sky.ang510@gmail.com/My Drive/Code/dobbs_fertility/data/fertility_data with 2024.csv\"\n",
    "path_2024 = \"/Users/shaokangyang/Library/CloudStorage/GoogleDrive-sky.ang510@gmail.com/My Drive/Code/dobbs_fertility/data/2024 Mother Age.csv\"\n",
    "\n",
    "# Step 1: Load both datasets\n",
    "df_fert = pd.read_csv(path_fertility)\n",
    "df_2024 = pd.read_csv(path_2024)\n",
    "\n",
    "# Step 2: Standardize column names\n",
    "df_2024.columns = df_2024.columns.str.strip().str.lower()\n",
    "df_2024.rename(columns={'month': 'month', 'state': 'state', 'motherage': 'age', 'births': 'births'}, inplace=True)\n",
    "\n",
    "# Step 3: Map age groups to match target columns\n",
    "def map_age_group(age):\n",
    "    if age in ['15-19', '20-24']:\n",
    "        return 'births_age1524'\n",
    "    elif age in ['25-29', '30-34']:\n",
    "        return 'births_age2534'\n",
    "    elif age in ['35-39', '40-44']:\n",
    "        return 'births_age3544'\n",
    "    else:\n",
    "        return None\n",
    "\n",
    "df_2024['age_group'] = df_2024['age'].apply(map_age_group)\n",
    "df_2024 = df_2024.dropna(subset=['age_group'])\n",
    "\n",
    "# Step 4: Compute bimonthly code (bmcode: 1 for Jan-Feb, ..., 6 for Nov-Dec)\n",
    "df_2024['bmcode'] = ((df_2024['month'] - 1) // 2 + 1).astype(int)\n",
    "\n",
    "# Step 5: Aggregate to state-bmcode-age_group level\n",
    "df_agg = df_2024.groupby(['state', 'bmcode', 'age_group'])['births'].sum().unstack('age_group').reset_index()\n",
    "df_agg['year'] = 2023\n",
    "\n",
    "# Step 6: Reorder and match column order with original dataset\n",
    "df_agg = df_agg[['state', 'year', 'bmcode', 'births_age1524', 'births_age2534', 'births_age3544']]\n",
    "\n",
    "# Step 7: Replace 2023 rows in original data\n",
    "df_fert_no2023 = df_fert[df_fert['year'] != 2023]\n",
    "df_updated = pd.concat([df_fert_no2023, df_agg], ignore_index=True)\n",
    "\n",
    "# Step 8: Save updated dataset\n",
    "output_path = path_fertility.replace(\"fertility_data with 2024.csv\", \"fertility_data_updated.csv\")\n",
    "df_updated.to_csv(output_path, index=False)\n",
    "print(\"✅ Updated data saved to:\", output_path)\n"
   ]
  }
 ],
 "metadata": {
  "kernelspec": {
   "display_name": "Python 3",
   "language": "python",
   "name": "python3"
  },
  "language_info": {
   "codemirror_mode": {
    "name": "ipython",
    "version": 3
   },
   "file_extension": ".py",
   "mimetype": "text/x-python",
   "name": "python",
   "nbconvert_exporter": "python",
   "pygments_lexer": "ipython3",
   "version": "3.11.3"
  }
 },
 "nbformat": 4,
 "nbformat_minor": 5
}
