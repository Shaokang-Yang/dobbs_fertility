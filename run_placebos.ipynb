{
 "cells": [
  {
   "cell_type": "code",
   "execution_count": 1,
   "id": "699c322a",
   "metadata": {},
   "outputs": [],
   "source": [
    "from run_model import run_model\n",
    "from joblib import Parallel, delayed"
   ]
  },
  {
   "cell_type": "code",
   "execution_count": null,
   "id": "aa0c7904",
   "metadata": {},
   "outputs": [
    {
     "name": "stdout",
     "output_type": "stream",
     "text": [
      "['Alabama']\n",
      "['Alabama']\n",
      "['Alaska']\n",
      "['Alabama']\n",
      "['Alaska']\n",
      "['Arizona']\n",
      "['Alaska']\n",
      "['Arkansas']\n",
      "['Arizona']\n",
      "['Arizona']\n",
      "['California']\n",
      "['Arkansas']\n",
      "['Arkansas']\n",
      "['Colorado']\n",
      "['California']\n",
      "['California']\n",
      "['Connecticut']\n",
      "['Colorado']\n",
      "['Colorado']\n",
      "['Delaware']\n",
      "['Connecticut']\n",
      "['District of Columbia']\n",
      "['Connecticut']\n",
      "['Delaware']\n",
      "['Florida']\n",
      "['Delaware']\n",
      "['District of Columbia']\n",
      "['Georgia']\n",
      "['Florida']\n",
      "['District of Columbia']\n",
      "['Georgia']\n",
      "['Hawaii']\n",
      "['Florida']\n",
      "['Idaho']\n",
      "['Hawaii']\n",
      "['Georgia']\n",
      "['Idaho']\n",
      "['Illinois']\n",
      "['Hawaii']\n",
      "['Illinois']\n",
      "['Indiana']\n",
      "['Idaho']\n",
      "['Indiana']\n",
      "['Iowa']\n",
      "['Iowa']\n",
      "['Illinois']\n",
      "['Kansas']\n",
      "['Kansas']\n",
      "['Indiana']\n",
      "['Kentucky']\n",
      "['Alabama']\n",
      "['Louisiana']\n",
      "['Kentucky']\n",
      "['Iowa']\n",
      "['Alaska']\n",
      "['Maine']\n",
      "['Louisiana']\n",
      "['Maine']\n",
      "['Maryland']\n",
      "['Arizona']\n",
      "['Maryland']\n",
      "['Massachusetts']\n",
      "['Arkansas']\n",
      "['Massachusetts']\n",
      "['Michigan']\n",
      "['Kansas']\n",
      "['California']\n",
      "['Minnesota']\n",
      "['Michigan']\n",
      "['Colorado']\n",
      "['Kentucky']\n",
      "['Mississippi']\n",
      "['Minnesota']\n",
      "['Connecticut']\n",
      "['Missouri']\n",
      "['Mississippi']\n",
      "['Louisiana']\n",
      "['Delaware']\n",
      "['Montana']\n",
      "['Missouri']\n",
      "['Maine']\n",
      "['District of Columbia']\n",
      "['Montana']\n",
      "['Nebraska']\n",
      "['Maryland']\n",
      "['Florida']\n",
      "['Nebraska']\n",
      "['Nevada']\n",
      "['Massachusetts']\n",
      "['Georgia']\n",
      "['Nevada']\n",
      "['New Hampshire']\n",
      "['Michigan']\n",
      "['Hawaii']\n",
      "['New Hampshire']\n",
      "['New Jersey']\n",
      "['Minnesota']\n",
      "['Idaho']\n",
      "['New Jersey']\n",
      "['New Mexico']\n",
      "['Mississippi']\n",
      "['Illinois']\n",
      "['New Mexico']\n",
      "['New York']\n",
      "['Missouri']\n",
      "['Indiana']\n",
      "['New York']\n",
      "['North Carolina']\n",
      "['Montana']\n",
      "['Iowa']\n",
      "['North Dakota']\n",
      "['North Carolina']\n",
      "['Nebraska']\n",
      "['Kansas']\n",
      "['Ohio']\n",
      "['North Dakota']\n",
      "['Nevada']\n",
      "['Kentucky']\n",
      "['Ohio']\n",
      "['Oklahoma']\n",
      "['New Hampshire']\n",
      "['Louisiana']\n",
      "['Oklahoma']\n",
      "['Oregon']\n",
      "['New Jersey']\n",
      "['Maine']\n",
      "['Oregon']['Pennsylvania']\n",
      "\n",
      "['New Mexico']\n",
      "['Maryland']\n",
      "['Rhode Island']['Pennsylvania']\n",
      "\n",
      "['New York']\n",
      "['Massachusetts']\n",
      "['Rhode Island']\n",
      "['South Carolina']\n",
      "['North Carolina']\n",
      "['Michigan']\n",
      "['South Carolina']\n",
      "['South Dakota']\n",
      "['North Dakota']\n",
      "['Minnesota']\n",
      "['South Dakota']\n",
      "['Tennessee']\n",
      "['Ohio']\n",
      "['Mississippi']\n",
      "['Tennessee']\n",
      "['Texas']\n",
      "['Oklahoma']\n",
      "['Missouri']\n",
      "['Texas']\n",
      "['Utah']\n",
      "['Oregon']\n",
      "['Montana']\n",
      "['Utah']\n",
      "['Vermont']\n",
      "['Pennsylvania']\n",
      "['Nebraska']\n",
      "['Vermont']\n",
      "['Virginia']\n",
      "['Rhode Island']\n",
      "['Nevada']\n",
      "['Washington']\n",
      "['South Carolina']\n",
      "['Virginia']\n",
      "['New Hampshire']\n",
      "['South Dakota']\n",
      "['Washington']\n",
      "['New Jersey']\n",
      "['Tennessee']\n",
      "['West Virginia']\n",
      "['West Virginia']\n",
      "['New Mexico']\n",
      "['Wisconsin']\n",
      "['Texas']\n",
      "['New York']\n",
      "['Wisconsin']\n",
      "['Wyoming']['Utah']\n",
      "\n",
      "['North Carolina']\n",
      "['Vermont']\n",
      "['Wyoming']\n",
      "['North Dakota']\n",
      "['Virginia']\n",
      "['Ohio']\n",
      "['Washington']\n",
      "['Oklahoma']\n",
      "['West Virginia']\n",
      "['Oregon']\n",
      "['Wisconsin']\n",
      "['Pennsylvania']\n",
      "['Wyoming']\n",
      "['Rhode Island']\n",
      "['South Carolina']\n",
      "['South Dakota']\n",
      "['Tennessee']\n",
      "['Texas']\n",
      "['Utah']\n",
      "['Vermont']\n",
      "['Virginia']\n",
      "['Washington']\n",
      "['West Virginia']\n",
      "['Wisconsin']\n",
      "['Wyoming']\n",
      "['Alabama', 'Arkansas', 'Georgia', 'Idaho', 'Kentucky', 'Louisiana', 'Mississippi', 'Missouri', 'Oklahoma', 'South Dakota', 'Tennessee', 'Texas', 'West Virginia', 'Wisconsin']\n",
      "['Alabama', 'Arkansas', 'Georgia', 'Idaho', 'Kentucky', 'Louisiana', 'Mississippi', 'Missouri', 'Oklahoma', 'South Dakota', 'Tennessee', 'Texas', 'West Virginia', 'Wisconsin']\n",
      "Creating placebo-in-time dataset starting in 2016-03-01\n",
      "Creating placebo-in-time dataset starting in 2016-07-01\n",
      "(612, 1)\n",
      "(612, 46)\n",
      "(714, 1)\n",
      "(714, 46)\n",
      "['Alabama', 'Arkansas', 'Georgia', 'Idaho', 'Kentucky', 'Louisiana', 'Mississippi', 'Missouri', 'Oklahoma', 'South Dakota', 'Tennessee', 'Texas', 'West Virginia', 'Wisconsin']\n",
      "Creating placebo-in-time dataset starting in 2016-05-01\n",
      "(663, 1)\n",
      "(663, 46)\n",
      "['Alabama', 'Arkansas', 'Georgia', 'Idaho', 'Kentucky', 'Louisiana', 'Mississippi', 'Missouri', 'Oklahoma', 'South Dakota', 'Tennessee', 'Texas', 'West Virginia', 'Wisconsin']\n",
      "Creating placebo-in-time dataset starting in 2016-09-01\n",
      "(765, 1)\n",
      "(765, 46)\n",
      "(1, 51)\n",
      "(1, 51, 12)\n",
      "(1, 51, 12)\n",
      "(1, 51)\n",
      "(1, 51, 14)\n",
      "(1, 51, 14)\n",
      "(1, 51)\n",
      "(1, 51, 13)\n",
      "(1, 51, 13)\n",
      "(1, 51)\n",
      "(1, 51, 15)\n",
      "(1, 51, 15)\n",
      "(1, 51)\n",
      "(1, 51, 12)\n",
      "(1, 51, 12)\n",
      "(1, 51)\n",
      "(1, 51, 14)\n",
      "(1, 51, 14)\n",
      "(1, 51)\n",
      "(1, 51, 13)\n",
      "(1, 51, 13)\n",
      "(1, 51)\n",
      "(1, 51, 15)\n",
      "(1, 51, 15)\n",
      "(1, 51)\n",
      "(1, 51, 12)\n",
      "(1, 51, 12)\n",
      "(1, 51)\n",
      "(1, 51, 14)\n",
      "(1, 51, 14)\n",
      "(1, 51)\n",
      "(1, 51, 13)\n",
      "(1, 51, 13)\n",
      "(1, 51)\n",
      "(1, 51, 12)\n",
      "(1, 51, 12)\n",
      "(1, 51)\n",
      "(1, 51, 15)\n",
      "(1, 51, 15)\n",
      "(1, 51)\n",
      "(1, 51, 14)\n",
      "(1, 51, 14)\n",
      "(1, 51)\n",
      "(1, 51, 13)\n",
      "(1, 51, 13)\n",
      "(1, 51)\n",
      "(1, 51, 15)\n",
      "(1, 51, 15)\n"
     ]
    },
    {
     "name": "stderr",
     "output_type": "stream",
     "text": [
      "Compiling.. :   0%|          | 0/1500 [00:00<?, ?it/s]\n",
      "  0%|          | 0/1500 [00:00<?, ?it/s]\u001b[A\n",
      "Compiling.. :   0%|          | 0/1500 [00:00<?, ?it/s]\u001b[A\n",
      "  0%|          | 0/1500 [00:00<?, ?it/s]\u001b[A\n",
      "Compiling.. :   0%|          | 0/1500 [00:00<?, ?it/s]\u001b[A\n",
      "  0%|          | 0/1500 [00:00<?, ?it/s]\u001b[A\n",
      "Compiling.. :   0%|          | 0/1500 [00:00<?, ?it/s]\u001b[A\n",
      "  0%|          | 0/1500 [00:00<?, ?it/s]\u001b[A\n",
      "Compiling.. :   0%|          | 0/1500 [00:00<?, ?it/s]\u001b[A"
     ]
    },
    {
     "name": "stdout",
     "output_type": "stream",
     "text": [
      "(1, 51)\n",
      "(1, 51, 12)\n",
      "(1, 51, 12)\n",
      "(1, 51)\n",
      "(1, 51, 14)\n",
      "(1, 51, 14)\n",
      "(1, 51)\n",
      "(1, 51, 13)\n",
      "(1, 51, 13)\n",
      "(1, 51)\n",
      "(1, 51, 15)\n",
      "(1, 51, 15)\n"
     ]
    },
    {
     "name": "stderr",
     "output_type": "stream",
     "text": [
      "Running chain 0:   0%|          | 0/1500 [00:06<?, ?it/s]\n",
      "Running chain 0:   0%|          | 0/1500 [00:06<?, ?it/s]\u001b[A\n",
      "Running chain 0:   0%|          | 0/1500 [00:07<?, ?it/s]\u001b[A\n",
      "Running chain 0:   0%|          | 0/1500 [00:06<?, ?it/s]\u001b[A\n",
      "Running chain 0:   5%|▌         | 75/1500 [00:15<02:40,  8.85it/s]\n",
      "Running chain 0:   5%|▌         | 75/1500 [00:16<03:06,  7.65it/s]\u001b[A\n",
      "Running chain 1:   5%|▌         | 75/1500 [00:16<03:07,  7.59it/s]\u001b[A\n",
      "Running chain 0:   5%|▌         | 75/1500 [00:18<03:37,  6.54it/s]\u001b[A\n",
      "Running chain 0:  10%|█         | 150/1500 [00:30<03:47,  5.93it/s][A\n",
      "Running chain 1:  10%|█         | 150/1500 [00:32<04:00,  5.60it/s]\u001b[A\n",
      "Running chain 0:  10%|█         | 150/1500 [00:39<05:15,  4.28it/s]\u001b[A\n",
      "Running chain 0:  10%|█         | 150/1500 [00:41<05:27,  4.13it/s]\u001b[A\n",
      "Running chain 0:  15%|█▌        | 225/1500 [00:49<04:25,  4.80it/s]\u001b[A\n",
      "Running chain 1:  15%|█▌        | 225/1500 [00:50<04:22,  4.85it/s]\u001b[A\n",
      "Running chain 0:  15%|█▌        | 225/1500 [01:02<05:38,  3.76it/s]\u001b[A\n",
      "Running chain 0:  20%|██        | 300/1500 [01:10<04:39,  4.29it/s]\u001b[A\n",
      "Running chain 1:  20%|██        | 300/1500 [01:11<04:43,  4.24it/s]\u001b[A\n",
      "Running chain 1:  15%|█▌        | 225/1500 [01:11<06:38,  3.20it/s]\u001b[A\n",
      "Running chain 0:  20%|██        | 300/1500 [01:28<05:58,  3.35it/s]\u001b[A\n",
      "Running chain 0:  25%|██▌       | 375/1500 [01:30<04:40,  4.02it/s]\u001b[A\n",
      "Running chain 0:  20%|██        | 300/1500 [01:33<06:14,  3.20it/s]\u001b[A\n",
      "Running chain 1:  30%|███       | 450/1500 [01:33<03:04,  5.70it/s]\u001b[A\n",
      "Running chain 1:  35%|███▌      | 525/1500 [01:34<01:59,  8.17it/s]\u001b[A\n",
      "Running chain 0:  20%|██        | 300/1500 [01:35<06:34,  3.04it/s]\u001b[A\n",
      "Running chain 1:  45%|████▌     | 675/1500 [01:35<00:51, 15.99it/s]\u001b[A\n",
      "Running chain 0:  30%|███       | 450/1500 [01:37<03:22,  5.18it/s]\u001b[A\n",
      "Running chain 1:  55%|█████▌    | 825/1500 [01:37<00:25, 26.75it/s]\u001b[A\n",
      "Running chain 1:  60%|██████    | 900/1500 [01:39<00:18, 33.00it/s]\u001b[A\n",
      "Running chain 1:  65%|██████▌   | 975/1500 [01:39<00:12, 42.49it/s]\u001b[A\n",
      "Running chain 1:  20%|██        | 300/1500 [01:40<06:44,  2.96it/s]\u001b[A\n",
      "Running chain 1:  70%|███████   | 1050/1500 [01:40<00:09, 46.15it/s]\u001b[A\n",
      "Running chain 1:  75%|███████▌  | 1125/1500 [01:42<00:07, 50.63it/s]\u001b[A\n",
      "Running chain 0:  35%|███▌      | 525/1500 [01:43<02:31,  6.45it/s]]\u001b[A\n",
      "Running chain 1:  85%|████████▌ | 1275/1500 [01:43<00:03, 65.65it/s]\u001b[A\n",
      "Running chain 1:  90%|█████████ | 1350/1500 [01:44<00:01, 82.25it/s]\u001b[A\n",
      "Running chain 1:  95%|█████████▌| 1425/1500 [01:44<00:00, 90.88it/s]\u001b[A\n",
      "Running chain 1: 100%|██████████| 1500/1500 [01:46<00:00, 14.14it/s]\u001b[A\n",
      "Running chain 0:  50%|█████     | 750/1500 [01:49<00:51, 14.70it/s]\n",
      "Running chain 0:  25%|██▌       | 375/1500 [01:58<06:02,  3.10it/s]][A\n",
      "Running chain 0:  85%|████████▌ | 1275/1500 [02:00<00:04, 47.31it/s][A\n",
      "Running chain 0: 100%|██████████| 1500/1500 [02:01<00:00, 12.33it/s][A\n",
      "Running chain 0:  35%|███▌      | 525/1500 [02:04<02:50,  5.71it/s]"
     ]
    },
    {
     "name": "stdout",
     "output_type": "stream",
     "text": [
      "['mu', 'te', 'disp']\n",
      "['ypred']\n"
     ]
    },
    {
     "name": "stderr",
     "output_type": "stream",
     "text": [
      "Running chain 0:  40%|████      | 600/1500 [02:07<01:57,  7.67it/s]\n",
      "Running chain 0:  45%|████▌     | 675/1500 [02:07<01:16, 10.76it/s]\u001b[A"
     ]
    },
    {
     "name": "stdout",
     "output_type": "stream",
     "text": [
      "['Alabama']\n",
      "['Alaska']\n",
      "['Arizona']\n",
      "['Arkansas']\n",
      "['California']\n",
      "['Colorado']\n",
      "['Connecticut']\n",
      "['Delaware']\n",
      "['District of Columbia']\n",
      "['Florida']\n",
      "['Georgia']\n",
      "['Hawaii']\n",
      "['Idaho']\n",
      "['Illinois']\n",
      "['Indiana']\n",
      "['Iowa']\n",
      "['Kansas']\n"
     ]
    },
    {
     "name": "stderr",
     "output_type": "stream",
     "text": [
      "\n",
      "Running chain 0:  50%|█████     | 750/1500 [02:08<00:51, 14.50it/s]\u001b[A"
     ]
    },
    {
     "name": "stdout",
     "output_type": "stream",
     "text": [
      "['Kentucky']\n",
      "['Louisiana']\n",
      "['Maine']\n",
      "['Maryland']\n",
      "['Massachusetts']\n",
      "['Michigan']\n",
      "['Minnesota']\n",
      "['Mississippi']\n",
      "['Missouri']\n",
      "['Montana']\n",
      "['Nebraska']\n",
      "['Nevada']\n",
      "['New Hampshire']\n",
      "['New Jersey']\n",
      "['New Mexico']\n",
      "['New York']\n",
      "['North Carolina']\n",
      "['North Dakota']\n",
      "['Ohio']\n",
      "['Oklahoma']\n",
      "['Oregon']\n",
      "['Pennsylvania']\n",
      "['Rhode Island']\n",
      "['South Carolina']\n",
      "['South Dakota']\n",
      "['Tennessee']\n",
      "['Texas']\n",
      "['Utah']\n",
      "['Vermont']\n",
      "['Virginia']\n",
      "['Washington']\n",
      "['West Virginia']\n",
      "['Wisconsin']\n",
      "['Wyoming']\n"
     ]
    },
    {
     "name": "stderr",
     "output_type": "stream",
     "text": [
      "Running chain 0:  55%|█████▌    | 825/1500 [02:09<00:34, 19.85it/s]"
     ]
    },
    {
     "name": "stdout",
     "output_type": "stream",
     "text": [
      "['Alabama', 'Arkansas', 'Georgia', 'Idaho', 'Kentucky', 'Louisiana', 'Mississippi', 'Missouri', 'Oklahoma', 'South Dakota', 'Tennessee', 'Texas', 'West Virginia', 'Wisconsin']\n",
      "Creating placebo-in-time dataset starting in 2016-11-01\n",
      "(816, 1)\n",
      "(816, 46)\n"
     ]
    },
    {
     "name": "stderr",
     "output_type": "stream",
     "text": [
      "Running chain 0:  30%|███       | 450/1500 [02:10<04:37,  3.79it/s]"
     ]
    },
    {
     "name": "stdout",
     "output_type": "stream",
     "text": [
      "(1, 51)\n",
      "(1, 51, 16)\n",
      "(1, 51, 16)\n",
      "(1, 51)\n",
      "(1, 51, 16)\n",
      "(1, 51, 16)\n"
     ]
    },
    {
     "name": "stderr",
     "output_type": "stream",
     "text": [
      "Running chain 0:  60%|██████    | 900/1500 [02:10<00:23, 25.32it/s]"
     ]
    },
    {
     "name": "stdout",
     "output_type": "stream",
     "text": [
      "(1, 51)\n",
      "(1, 51, 16)\n",
      "(1, 51, 16)\n"
     ]
    },
    {
     "name": "stderr",
     "output_type": "stream",
     "text": [
      "Compiling.. :   0%|          | 0/1500 [00:00<?, ?it/s]\n",
      "  0%|          | 0/1500 [00:00<?, ?it/s]\u001b[A\n",
      "Compiling.. :   0%|          | 0/1500 [00:00<?, ?it/s]\u001b[A"
     ]
    },
    {
     "name": "stdout",
     "output_type": "stream",
     "text": [
      "(1, 51)\n",
      "(1, 51, 16)\n",
      "(1, 51, 16)\n",
      "(1, 51)\n",
      "(1, 51, 16)\n",
      "(1, 51, 16)\n"
     ]
    },
    {
     "name": "stderr",
     "output_type": "stream",
     "text": [
      "Running chain 0:  85%|████████▌ | 1275/1500 [02:23<00:02, 101.80it/s]\n",
      "Running chain 0: 100%|██████████| 1500/1500 [02:24<00:00, 10.36it/s] A\n",
      "Running chain 0:  85%|████████▌ | 1275/1500 [02:26<00:09, 24.36it/s]\n",
      "Running chain 0: 100%|██████████| 1500/1500 [02:33<00:00,  9.79it/s][A\n",
      "Running chain 0:   0%|          | 0/1500 [00:23<?, ?it/s]\n",
      "Running chain 1:   0%|          | 0/1500 [00:23<?, ?it/s]\u001b[A\n",
      "Running chain 1:  30%|███       | 450/1500 [02:36<06:16,  2.79it/s]\u001b[A\n",
      "Running chain 1:  35%|███▌      | 525/1500 [02:38<04:37,  3.51it/s]\u001b[A\n",
      "Running chain 1:  40%|████      | 600/1500 [02:40<03:04,  4.88it/s]\u001b[A\n",
      "Running chain 1:  45%|████▌     | 675/1500 [02:42<02:01,  6.77it/s]\u001b[A\n",
      "Running chain 1:  45%|████▌     | 675/1500 [02:43<02:56,  4.67it/s]\u001b[A\n",
      "Running chain 1:   5%|▌         | 75/1500 [00:32<02:52,  8.24it/s]\u001b[A\n",
      "Running chain 1:  50%|█████     | 750/1500 [02:44<01:23,  8.99it/s]\u001b[A\n",
      "Running chain 1:  55%|█████▌    | 825/1500 [02:45<00:53, 12.61it/s]\u001b[A\n",
      "Running chain 1:  65%|██████▌   | 975/1500 [02:45<00:22, 22.98it/s]\u001b[A\n",
      "Running chain 1:  70%|███████   | 1050/1500 [02:46<00:15, 29.33it/s]\u001b[A\n",
      "Running chain 1:  75%|███████▌  | 1125/1500 [02:46<00:09, 39.01it/s]\u001b[A\n",
      "Running chain 0:  35%|███▌      | 525/1500 [02:46<05:00,  3.24it/s]\u001b[A\n",
      "Running chain 1:  80%|████████  | 1200/1500 [02:46<00:06, 47.86it/s]\u001b[A\n",
      "Running chain 1:  85%|████████▌ | 1275/1500 [02:47<00:03, 61.93it/s]\u001b[A\n",
      "Running chain 1:  90%|█████████ | 1350/1500 [02:47<00:01, 81.02it/s]\u001b[A\n",
      "Running chain 1: 100%|██████████| 1500/1500 [02:47<00:00,  8.96it/s] \u001b[A\n",
      "Running chain 0:  40%|████      | 600/1500 [02:48<03:15,  4.60it/s]\n",
      "Running chain 0:  50%|█████     | 750/1500 [02:50<01:21,  9.18it/s]\u001b[A\n",
      "Running chain 0:  60%|██████    | 900/1500 [02:51<00:34, 17.63it/s]\u001b[A\n",
      "Running chain 1:  50%|█████     | 750/1500 [02:52<01:23,  8.97it/s]\u001b[A"
     ]
    },
    {
     "name": "stdout",
     "output_type": "stream",
     "text": [
      "['mu', 'te', 'disp']\n"
     ]
    },
    {
     "name": "stderr",
     "output_type": "stream",
     "text": [
      "Running chain 0:  65%|██████▌   | 975/1500 [02:53<00:25, 20.52it/s]"
     ]
    },
    {
     "name": "stdout",
     "output_type": "stream",
     "text": [
      "['ypred']\n"
     ]
    },
    {
     "name": "stderr",
     "output_type": "stream",
     "text": [
      "Running chain 0:  85%|████████▌ | 1275/1500 [02:54<00:04, 54.40it/s]\n",
      "Running chain 0: 100%|██████████| 1500/1500 [02:56<00:00,  8.51it/s][A\n"
     ]
    },
    {
     "name": "stdout",
     "output_type": "stream",
     "text": [
      "['Alabama']\n",
      "['Alaska']\n",
      "['Arizona']\n",
      "['Arkansas']\n",
      "['California']\n",
      "['Colorado']\n",
      "['Connecticut']\n",
      "['Delaware']\n",
      "['District of Columbia']\n",
      "['Florida']\n",
      "['Georgia']\n",
      "['Hawaii']\n"
     ]
    },
    {
     "name": "stderr",
     "output_type": "stream",
     "text": [
      "\n",
      "Running chain 1:  60%|██████    | 900/1500 [02:56<00:40, 14.93it/s]\u001b[A"
     ]
    },
    {
     "name": "stdout",
     "output_type": "stream",
     "text": [
      "['Idaho']\n",
      "['Illinois']\n",
      "['Indiana']\n",
      "['Iowa']\n",
      "['Kansas']\n",
      "['Kentucky']\n",
      "['Louisiana']\n",
      "['Maine']\n",
      "['Maryland']\n",
      "['Massachusetts']\n",
      "['Michigan']\n",
      "['Minnesota']\n"
     ]
    },
    {
     "name": "stderr",
     "output_type": "stream",
     "text": [
      "\n",
      "Running chain 1:  65%|██████▌   | 975/1500 [02:57<00:26, 19.88it/s]\u001b[A"
     ]
    },
    {
     "name": "stdout",
     "output_type": "stream",
     "text": [
      "['Mississippi']\n",
      "['Missouri']\n",
      "['Montana']\n",
      "['Nebraska']\n",
      "['Nevada']\n",
      "['New Hampshire']\n",
      "['New Jersey']\n",
      "['New Mexico']\n",
      "['New York']\n",
      "['North Carolina']\n",
      "['North Dakota']\n",
      "['Ohio']\n",
      "['Oklahoma']\n",
      "['Oregon']\n",
      "['Pennsylvania']\n",
      "['Rhode Island']\n",
      "['South Carolina']\n",
      "['South Dakota']\n",
      "['Tennessee']\n",
      "['Texas']\n",
      "['Utah']\n"
     ]
    },
    {
     "name": "stderr",
     "output_type": "stream",
     "text": [
      "\n",
      "Running chain 1:  70%|███████   | 1050/1500 [02:57<00:16, 27.06it/s]\u001b[A\n",
      "Running chain 1:  80%|████████  | 1200/1500 [02:58<00:06, 49.07it/s]\u001b[A"
     ]
    },
    {
     "name": "stdout",
     "output_type": "stream",
     "text": [
      "['Vermont']\n",
      "['Virginia']\n",
      "['Washington']\n",
      "['West Virginia']\n"
     ]
    },
    {
     "name": "stderr",
     "output_type": "stream",
     "text": [
      "\n",
      "Running chain 1:  90%|█████████ | 1350/1500 [02:58<00:01, 79.09it/s]\u001b[A\n",
      "Running chain 1:  50%|█████     | 750/1500 [02:58<02:37,  4.75it/s]\u001b[A"
     ]
    },
    {
     "name": "stdout",
     "output_type": "stream",
     "text": [
      "['Wisconsin']\n",
      "['Wyoming']\n"
     ]
    },
    {
     "name": "stderr",
     "output_type": "stream",
     "text": [
      "\n",
      "Running chain 1:  95%|█████████▌| 1425/1500 [02:58<00:00, 86.13it/s]\u001b[A\n",
      "Running chain 1: 100%|██████████| 1500/1500 [02:59<00:00,  8.38it/s] \u001b[A\n"
     ]
    },
    {
     "name": "stdout",
     "output_type": "stream",
     "text": [
      "['Alabama', 'Arkansas', 'Georgia', 'Idaho', 'Kentucky', 'Louisiana', 'Mississippi', 'Missouri', 'Oklahoma', 'South Dakota', 'Tennessee', 'Texas', 'West Virginia', 'Wisconsin']\n",
      "Creating placebo-in-time dataset starting in 2017-03-01\n",
      "(918, 1)\n",
      "(918, 46)\n",
      "(1, 51)\n",
      "(1, 51, 18)\n",
      "(1, 51, 18)\n",
      "(1, 51)\n",
      "(1, 51, 18)\n",
      "(1, 51, 18)\n",
      "(1, 51)\n",
      "(1, 51, 18)\n",
      "(1, 51, 18)\n"
     ]
    },
    {
     "name": "stderr",
     "output_type": "stream",
     "text": [
      "Compiling.. :   0%|          | 0/1500 [00:00<?, ?it/s]\n",
      "  0%|          | 0/1500 [00:00<?, ?it/s]\u001b[A\n",
      "Compiling.. :   0%|          | 0/1500 [00:00<?, ?it/s]\u001b[A"
     ]
    },
    {
     "name": "stdout",
     "output_type": "stream",
     "text": [
      "(1, 51)\n",
      "(1, 51, 18)\n",
      "(1, 51, 18)\n",
      "(1, 51)\n",
      "(1, 51, 18)\n",
      "(1, 51, 18)\n",
      "['mu', 'te', 'disp']\n",
      "['ypred']\n"
     ]
    },
    {
     "name": "stderr",
     "output_type": "stream",
     "text": [
      "\n",
      "Running chain 1:  10%|█         | 150/1500 [00:55<05:08,  4.38it/s]\u001b[A"
     ]
    },
    {
     "name": "stdout",
     "output_type": "stream",
     "text": [
      "['Alabama']\n",
      "['Alaska']\n",
      "['Arizona']\n",
      "['Arkansas']\n",
      "['California']\n",
      "['Colorado']\n"
     ]
    },
    {
     "name": "stderr",
     "output_type": "stream",
     "text": [
      "Running chain 0:  10%|█         | 150/1500 [00:58<05:32,  4.06it/s]"
     ]
    },
    {
     "name": "stdout",
     "output_type": "stream",
     "text": [
      "['Connecticut']\n",
      "['Delaware']\n",
      "['District of Columbia']\n",
      "['Florida']\n",
      "['Georgia']\n",
      "['Hawaii']\n",
      "['Idaho']\n",
      "['Illinois']\n",
      "['Indiana']\n",
      "['Iowa']\n",
      "['Kansas']\n",
      "['Kentucky']\n",
      "['Louisiana']\n",
      "['Maine']\n",
      "['Maryland']\n",
      "['Massachusetts']\n",
      "['Michigan']\n",
      "['Minnesota']\n",
      "['Mississippi']\n",
      "['Missouri']\n",
      "['Montana']\n",
      "['Nebraska']\n",
      "['Nevada']\n",
      "['New Hampshire']\n",
      "['New Jersey']\n",
      "['New Mexico']\n",
      "['New York']\n",
      "['North Carolina']\n",
      "['North Dakota']\n",
      "['Ohio']\n",
      "['Oklahoma']\n",
      "['Oregon']\n",
      "['Pennsylvania']\n",
      "['Rhode Island']\n",
      "['South Carolina']\n",
      "['South Dakota']\n",
      "['Tennessee']\n",
      "['Texas']\n",
      "['Utah']\n",
      "['Vermont']\n",
      "['Virginia']\n",
      "['Washington']\n",
      "['West Virginia']\n",
      "['Wisconsin']\n",
      "['Wyoming']\n",
      "['Alabama', 'Arkansas', 'Georgia', 'Idaho', 'Kentucky', 'Louisiana', 'Mississippi', 'Missouri', 'Oklahoma', 'South Dakota', 'Tennessee', 'Texas', 'West Virginia', 'Wisconsin']\n",
      "Creating placebo-in-time dataset starting in 2017-05-01\n",
      "(969, 1)\n",
      "(969, 46)\n",
      "(1, 51)\n",
      "(1, 51, 19)\n",
      "(1, 51, 19)\n",
      "(1, 51)\n",
      "(1, 51, 19)\n",
      "(1, 51, 19)\n"
     ]
    },
    {
     "name": "stderr",
     "output_type": "stream",
     "text": [
      "\n",
      "Running chain 1:  55%|█████▌    | 825/1500 [03:12<02:17,  4.92it/s]\u001b[A"
     ]
    },
    {
     "name": "stdout",
     "output_type": "stream",
     "text": [
      "(1, 51)\n",
      "(1, 51, 19)\n",
      "(1, 51, 19)\n"
     ]
    },
    {
     "name": "stderr",
     "output_type": "stream",
     "text": [
      "Compiling.. :   0%|          | 0/1500 [00:00<?, ?it/s]\n",
      "  0%|          | 0/1500 [00:00<?, ?it/s]\u001b[A\n",
      "Compiling.. :   0%|          | 0/1500 [00:00<?, ?it/s]\u001b[A"
     ]
    },
    {
     "name": "stdout",
     "output_type": "stream",
     "text": [
      "(1, 51)\n",
      "(1, 51, 19)\n",
      "(1, 51, 19)\n",
      "(1, 51)\n",
      "(1, 51, 19)\n",
      "(1, 51, 19)\n"
     ]
    },
    {
     "name": "stderr",
     "output_type": "stream",
     "text": [
      "\n",
      "Running chain 0:   0%|          | 0/1500 [00:26<?, ?it/s] 5.00it/s]\u001b[A\n",
      "Running chain 1:   0%|          | 0/1500 [00:26<?, ?it/s]\u001b[A\n",
      "Running chain 0:   0%|          | 0/1500 [00:26<?, ?it/s] 3.69it/s]\u001b[A\n",
      "Running chain 0:   5%|▌         | 75/1500 [00:40<04:21,  5.44it/s]\n",
      "Running chain 1:  65%|██████▌   | 975/1500 [03:42<01:45,  4.96it/s]\u001b[A\n",
      "Running chain 0:   5%|▌         | 75/1500 [00:40<04:16,  5.55it/s]\u001b[A\n",
      "Running chain 1:  20%|██        | 300/1500 [01:42<05:48,  3.44it/s]\u001b[A\n",
      "Running chain 0:  20%|██        | 300/1500 [01:46<05:56,  3.37it/s]]\u001b[A\n",
      "Running chain 0:  10%|█         | 150/1500 [01:10<07:03,  3.19it/s][A\n",
      "Running chain 1:  10%|█         | 150/1500 [01:11<07:07,  3.16it/s]\u001b[A\n",
      "Running chain 1:  75%|███████▌  | 1125/1500 [04:13<01:17,  4.85it/s]\u001b[A\n",
      "Running chain 0:  10%|█         | 150/1500 [01:13<07:29,  3.00it/s]\u001b[A\n",
      "Running chain 1:  80%|████████  | 1200/1500 [04:27<01:00,  4.94it/s]\u001b[A\n",
      "Running chain 0:  15%|█▌        | 225/1500 [01:37<07:05,  3.00it/s]\u001b[A\n",
      "Running chain 1:  15%|█▌        | 225/1500 [01:41<07:31,  2.83it/s]\u001b[A\n",
      "Running chain 1:  85%|████████▌ | 1275/1500 [04:43<00:46,  4.89it/s]\u001b[A\n",
      "Running chain 0:  15%|█▌        | 225/1500 [01:43<07:45,  2.74it/s]\u001b[A\n",
      "Running chain 1:  15%|█▌        | 225/1500 [01:44<07:39,  2.78it/s]\u001b[A\n",
      "Running chain 1:  90%|█████████ | 1350/1500 [05:00<00:31,  4.70it/s]\u001b[A\n",
      "Running chain 1:  35%|███▌      | 525/1500 [02:51<04:40,  3.47it/s]\u001b[A\n",
      "Running chain 0:  20%|██        | 300/1500 [02:05<06:58,  2.87it/s]\u001b[A\n",
      "Running chain 1:  45%|████▌     | 675/1500 [02:55<02:02,  6.75it/s]\u001b[A\n",
      "Running chain 1:  50%|█████     | 750/1500 [02:55<01:17,  9.68it/s]\u001b[A\n",
      "Running chain 1:  55%|█████▌    | 825/1500 [02:56<00:48, 13.78it/s]\u001b[A\n",
      "Running chain 1:  60%|██████    | 900/1500 [02:56<00:30, 19.63it/s]\u001b[A\n",
      "Running chain 1:  65%|██████▌   | 975/1500 [02:56<00:19, 26.98it/s]\u001b[A\n",
      "Running chain 1:  70%|███████   | 1050/1500 [02:56<00:11, 38.06it/s]\u001b[A\n",
      "Running chain 1:  80%|████████  | 1200/1500 [02:57<00:04, 67.25it/s]\u001b[A\n",
      "Running chain 1: 100%|██████████| 1500/1500 [02:57<00:00,  8.46it/s] \u001b[A\n",
      "\n",
      "Running chain 0:  65%|██████▌   | 975/1500 [03:03<00:20, 25.00it/s]\u001b[A\n",
      "Running chain 0: 100%|██████████| 1500/1500 [03:06<00:00,  8.02it/s] [A\n"
     ]
    },
    {
     "name": "stdout",
     "output_type": "stream",
     "text": [
      "['mu', 'te', 'disp']\n",
      "['ypred']\n"
     ]
    },
    {
     "name": "stderr",
     "output_type": "stream",
     "text": [
      "Running chain 0:  20%|██        | 300/1500 [02:11<07:22,  2.71it/s]"
     ]
    },
    {
     "name": "stdout",
     "output_type": "stream",
     "text": [
      "['Alabama']\n",
      "['Alaska']\n",
      "['Arizona']\n",
      "['Arkansas']\n",
      "['California']\n",
      "['Colorado']\n",
      "['Connecticut']\n",
      "['Delaware']\n",
      "['District of Columbia']\n",
      "['Florida']\n",
      "['Georgia']\n",
      "['Hawaii']\n",
      "['Idaho']\n",
      "['Illinois']\n",
      "['Indiana']\n",
      "['Iowa']\n",
      "['Kansas']\n",
      "['Kentucky']\n",
      "['Louisiana']\n",
      "['Maine']\n",
      "['Maryland']\n",
      "['Massachusetts']\n",
      "['Michigan']\n",
      "['Minnesota']\n",
      "['Mississippi']\n",
      "['Missouri']\n",
      "['Montana']\n",
      "['Nebraska']\n",
      "['Nevada']\n",
      "['New Hampshire']\n",
      "['New Jersey']\n",
      "['New Mexico']\n"
     ]
    },
    {
     "name": "stderr",
     "output_type": "stream",
     "text": [
      "\n",
      "Running chain 1:  20%|██        | 300/1500 [02:12<07:19,  2.73it/s]\u001b[A"
     ]
    },
    {
     "name": "stdout",
     "output_type": "stream",
     "text": [
      "['New York']\n",
      "['North Carolina']\n",
      "['North Dakota']\n",
      "['Ohio']\n",
      "['Oklahoma']\n",
      "['Oregon']\n",
      "['Pennsylvania']\n",
      "['Rhode Island']\n",
      "['South Carolina']\n",
      "['South Dakota']\n",
      "['Tennessee']\n",
      "['Texas']\n",
      "['Utah']\n",
      "['Vermont']\n",
      "['Virginia']\n",
      "['Washington']\n",
      "['West Virginia']\n",
      "['Wisconsin']\n",
      "['Wyoming']\n",
      "['Alabama', 'Arkansas', 'Georgia', 'Idaho', 'Kentucky', 'Louisiana', 'Mississippi', 'Missouri', 'Oklahoma', 'South Dakota', 'Tennessee', 'Texas', 'West Virginia', 'Wisconsin']\n",
      "Creating placebo-in-time dataset starting in 2017-07-01\n",
      "(1020, 1)\n",
      "(1020, 46)\n",
      "(1, 51)\n",
      "(1, 51, 20)\n",
      "(1, 51, 20)\n",
      "(1, 51)\n",
      "(1, 51, 20)\n",
      "(1, 51, 20)\n",
      "(1, 51)\n",
      "(1, 51, 20)\n",
      "(1, 51, 20)\n"
     ]
    },
    {
     "name": "stderr",
     "output_type": "stream",
     "text": [
      "Compiling.. :   0%|          | 0/1500 [00:00<?, ?it/s]\n",
      "  0%|          | 0/1500 [00:00<?, ?it/s]\u001b[A\n",
      "Compiling.. :   0%|          | 0/1500 [00:00<?, ?it/s]\u001b[A"
     ]
    },
    {
     "name": "stdout",
     "output_type": "stream",
     "text": [
      "(1, 51)\n",
      "(1, 51, 20)\n",
      "(1, 51, 20)\n"
     ]
    },
    {
     "name": "stderr",
     "output_type": "stream",
     "text": [
      "\n",
      "Running chain 1: 100%|██████████| 1500/1500 [05:29<00:00,  4.55it/s]\u001b[A\n"
     ]
    },
    {
     "name": "stdout",
     "output_type": "stream",
     "text": [
      "(1, 51)\n",
      "(1, 51, 20)\n",
      "(1, 51, 20)\n"
     ]
    },
    {
     "name": "stderr",
     "output_type": "stream",
     "text": [
      "Running chain 0:  25%|██▌       | 375/1500 [02:30<06:29,  2.89it/s]"
     ]
    },
    {
     "name": "stdout",
     "output_type": "stream",
     "text": [
      "['mu', 'te', 'disp']\n",
      "['ypred']\n"
     ]
    },
    {
     "name": "stderr",
     "output_type": "stream",
     "text": [
      "\n",
      "Running chain 1:  25%|██▌       | 375/1500 [02:35<06:40,  2.81it/s]\u001b[A"
     ]
    },
    {
     "name": "stdout",
     "output_type": "stream",
     "text": [
      "['Alabama']\n",
      "['Alaska']\n",
      "['Arizona']\n",
      "['Arkansas']\n",
      "['California']\n",
      "['Colorado']\n",
      "['Connecticut']\n",
      "['Delaware']\n",
      "['District of Columbia']\n",
      "['Florida']\n",
      "['Georgia']\n",
      "['Hawaii']\n",
      "['Idaho']\n",
      "['Illinois']\n",
      "['Indiana']\n",
      "['Iowa']\n",
      "['Kansas']\n",
      "['Kentucky']\n",
      "['Louisiana']\n",
      "['Maine']\n",
      "['Maryland']\n",
      "['Massachusetts']\n",
      "['Michigan']\n",
      "['Minnesota']\n",
      "['Mississippi']\n",
      "['Missouri']\n",
      "['Montana']\n",
      "['Nebraska']\n",
      "['Nevada']\n",
      "['New Hampshire']\n",
      "['New Jersey']\n",
      "['New Mexico']\n",
      "['New York']\n",
      "['North Carolina']\n",
      "['North Dakota']\n",
      "['Ohio']\n",
      "['Oklahoma']\n",
      "['Oregon']\n",
      "['Pennsylvania']\n",
      "['Rhode Island']\n",
      "['South Carolina']\n",
      "['South Dakota']\n",
      "['Tennessee']\n",
      "['Texas']\n",
      "['Utah']\n",
      "['Vermont']\n",
      "['Virginia']\n",
      "['Washington']\n",
      "['West Virginia']\n",
      "['Wisconsin']\n",
      "['Wyoming']\n",
      "['Alabama', 'Arkansas', 'Georgia', 'Idaho', 'Kentucky', 'Louisiana', 'Mississippi', 'Missouri', 'Oklahoma', 'South Dakota', 'Tennessee', 'Texas', 'West Virginia', 'Wisconsin']\n",
      "Creating placebo-in-time dataset starting in 2017-09-01\n",
      "(1071, 1)\n",
      "(1071, 46)\n",
      "(1, 51)\n",
      "(1, 51, 21)\n",
      "(1, 51, 21)\n",
      "(1, 51)\n",
      "(1, 51, 21)\n",
      "(1, 51, 21)\n",
      "(1, 51)\n",
      "(1, 51, 21)\n",
      "(1, 51, 21)\n"
     ]
    },
    {
     "name": "stderr",
     "output_type": "stream",
     "text": [
      "Compiling.. :   0%|          | 0/1500 [00:00<?, ?it/s]\n",
      "  0%|          | 0/1500 [00:00<?, ?it/s]\u001b[A\n",
      "Compiling.. :   0%|          | 0/1500 [00:00<?, ?it/s]\u001b[A"
     ]
    },
    {
     "name": "stdout",
     "output_type": "stream",
     "text": [
      "(1, 51)\n",
      "(1, 51, 21)\n",
      "(1, 51, 21)\n",
      "(1, 51)\n",
      "(1, 51, 21)\n",
      "(1, 51, 21)\n"
     ]
    }
   ],
   "source": [
    "# Define the inputs for the function\n",
    "inputs = [7]\n",
    "outcome_type = \"births\" \n",
    "cats = ['total']\n",
    "dists = ['NB'] # Poisson or NB\n",
    "missing_flags = [True]\n",
    "# disp_params = [1e-4, 1e-3]\n",
    "disp_params = [1e-4]\n",
    "## placebo_times = [\"2020-05-01\"]\n",
    "placebo_times = [\"2016-03-01\", \"2016-05-01\", \"2016-07-01\", \"2016-09-01\", \"2016-11-01\",\n",
    "                 \"2017-03-01\", \"2017-05-01\", \"2017-07-01\", \"2017-09-01\", \"2017-11-01\",\n",
    "                 \"2018-03-01\", \"2018-05-01\", \"2018-07-01\", \"2018-09-01\", \"2018-11-01\",\n",
    "                 \"2019-03-01\", \"2019-05-01\", \"2019-07-01\", \"2019-09-01\", \"2019-11-01\",\n",
    "                 \"2020-03-01\"]\n",
    "placebo_states = [None]\n",
    "sample_disp = False\n",
    "\n",
    "args = [(dist, cat, rank, m, disp, p, tm) for dist in dists for rank in inputs for cat in cats \n",
    "        for m in missing_flags for disp in disp_params for p in placebo_states \n",
    "        for tm in placebo_times]\n",
    "# Run the function in parallel\n",
    "results = Parallel(n_jobs=4)(delayed(run_model)(dist=i[0], outcome_type=outcome_type, cat_name=i[1], \n",
    "                                                  rank=i[2], missingness=i[3], \n",
    "                                                  disp_param=i[4], sample_disp=sample_disp, placebo_state=i[5], \n",
    "                                                  placebo_time = i[6], results_file_suffix=\"placebo_\" + i[6], \n",
    "                                                  num_chains=2, num_samples=1000, \n",
    "                                                  dobbs_donor_sensitivity=False,\n",
    "                                                  num_warmup=500, thinning=5) for i in args)\n",
    "\n"
   ]
  }
 ],
 "metadata": {
  "kernelspec": {
   "display_name": "Python 3",
   "language": "python",
   "name": "python3"
  },
  "language_info": {
   "codemirror_mode": {
    "name": "ipython",
    "version": 3
   },
   "file_extension": ".py",
   "mimetype": "text/x-python",
   "name": "python",
   "nbconvert_exporter": "python",
   "pygments_lexer": "ipython3",
   "version": "3.11.3"
  }
 },
 "nbformat": 4,
 "nbformat_minor": 5
}
