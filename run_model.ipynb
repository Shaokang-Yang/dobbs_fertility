{
 "cells": [
  {
   "cell_type": "code",
   "execution_count": 3,
   "metadata": {},
   "outputs": [
    {
     "name": "stderr",
     "output_type": "stream",
     "text": [
      "/opt/homebrew/lib/python3.11/site-packages/tqdm/auto.py:21: TqdmWarning: IProgress not found. Please update jupyter and ipywidgets. See https://ipywidgets.readthedocs.io/en/stable/user_install.html\n",
      "  from .autonotebook import tqdm as notebook_tqdm\n"
     ]
    }
   ],
   "source": [
    "# import os\n",
    "# os.chdir(\"birthrate_mtgp\")\n",
    "from jax import numpy as jnp\n",
    "import numpy as np\n",
    "import numpyro.distributions as dist\n",
    "import jax.numpy as jnp\n",
    "import numpyro\n",
    "from numpyro.handlers import scope\n",
    "\n",
    "from models.panel_nmf_model import model\n",
    "from models.utils import missingness_adjustment\n",
    "from numpyro_to_draws_df_csv import dict_to_tidybayes\n",
    "\n",
    "import pandas as pd"
   ]
  },
  {
   "cell_type": "code",
   "execution_count": 6,
   "metadata": {},
   "outputs": [],
   "source": [
    "df = pd.read_csv('/Users/shaokangyang/Library/CloudStorage/GoogleDrive-sky.ang510@gmail.com/My Drive/Code/dobbs_fertility/data/fertility_data.csv')"
   ]
  },
  {
   "cell_type": "code",
   "execution_count": 11,
   "metadata": {},
   "outputs": [
    {
     "data": {
      "text/plain": [
       "births_age1524    51\n",
       "births_age2534    51\n",
       "births_age3544    51\n",
       "pop_age1524        0\n",
       "pop_age2534        0\n",
       "pop_age3544        0\n",
       "dtype: int64"
      ]
     },
     "execution_count": 11,
     "metadata": {},
     "output_type": "execute_result"
    }
   ],
   "source": [
    "# Check if age columns exist\n",
    "age_cols = ['births_age1524', 'births_age2534', 'births_age3544', \n",
    "            'pop_age1524', 'pop_age2534', 'pop_age3544']\n",
    "df[age_cols].head()\n",
    "df[age_cols].isnull().sum()"
   ]
  },
  {
   "cell_type": "code",
   "execution_count": 11,
   "metadata": {},
   "outputs": [
    {
     "name": "stdout",
     "output_type": "stream",
     "text": [
      "['Alabama']\n",
      "['Alabama']\n",
      "['Alabama']\n",
      "['Alabama']\n",
      "['Alabama']\n",
      "['Alabama']\n",
      "['Alabama']\n",
      "['Alaska']\n",
      "['Alaska']\n",
      "['Alaska']\n",
      "['Alaska']\n",
      "['Alabama']\n",
      "['Alaska']\n",
      "['Alaska']\n",
      "['Alaska']\n",
      "['Arizona']\n",
      "['Arizona']\n",
      "['Arizona']\n",
      "['Arizona']\n",
      "['Arizona']\n",
      "['Alaska']\n",
      "['Arizona']\n",
      "['Arkansas']\n",
      "['Arkansas']\n",
      "['Arkansas']\n",
      "['Arkansas']\n",
      "['Arkansas']\n",
      "['Arizona']\n",
      "['Arizona']\n",
      "['California']\n",
      "['Arkansas']\n",
      "['California']\n",
      "['California']\n",
      "['Arkansas']\n",
      "['Colorado']\n",
      "['California']\n",
      "['Arkansas']\n",
      "['California']\n",
      "['California']\n",
      "['Colorado']\n",
      "['Colorado']\n",
      "['Connecticut']\n",
      "['California']\n",
      "['California']\n",
      "['Connecticut']\n",
      "['Colorado']\n",
      "['Colorado']\n",
      "['Colorado']\n",
      "['Connecticut']\n",
      "['Colorado']\n",
      "['Delaware']\n",
      "['Colorado']\n",
      "['Delaware']\n",
      "['Connecticut']\n",
      "['Connecticut']\n",
      "['Delaware']\n",
      "['Connecticut']\n",
      "['Connecticut']\n",
      "['District of Columbia']\n",
      "['Connecticut']\n",
      "['District of Columbia']\n",
      "['Delaware']\n",
      "['Delaware']\n",
      "['District of Columbia']\n",
      "['Florida']\n",
      "['Delaware']\n",
      "['Delaware']\n",
      "['Florida']\n",
      "['District of Columbia']\n",
      "['District of Columbia']\n",
      "['Delaware']\n",
      "['Georgia']\n",
      "['Florida']\n",
      "['Georgia']\n",
      "['Florida']\n",
      "['Florida']\n",
      "['District of Columbia']\n",
      "['District of Columbia']\n",
      "['District of Columbia']\n",
      "['Hawaii']\n",
      "['Georgia']\n",
      "['Georgia']\n",
      "['Georgia']\n",
      "['Florida']\n",
      "['Hawaii']\n",
      "['Florida']\n",
      "['Florida']\n",
      "['Idaho']\n",
      "['Hawaii']\n",
      "['Georgia']\n",
      "['Hawaii']\n",
      "['Hawaii']\n",
      "['Georgia']\n",
      "['Idaho']\n",
      "['Idaho']\n",
      "['Illinois']\n",
      "['Georgia']\n",
      "['Idaho']\n",
      "['Hawaii']\n",
      "['Hawaii']\n",
      "['Illinois']\n",
      "['Indiana']['Illinois']\n",
      "\n",
      "['Idaho']\n",
      "['Illinois']\n",
      "['Hawaii']\n",
      "['Idaho']\n",
      "['Idaho']\n",
      "['Iowa']\n",
      "['Indiana']\n",
      "['Illinois']\n",
      "['Indiana']\n",
      "['Indiana']\n",
      "['Idaho']\n",
      "['Illinois']\n",
      "['Kansas']\n",
      "['Iowa']\n",
      "['Iowa']\n",
      "['Illinois']\n",
      "['Indiana']\n",
      "['Iowa']\n",
      "['Illinois']\n",
      "['Indiana']\n",
      "['Kentucky']\n",
      "['Indiana']\n",
      "['Kansas']\n",
      "['Kansas']\n",
      "['Indiana']\n",
      "['Iowa']\n",
      "['Kansas']\n",
      "['Iowa']\n",
      "['Iowa']\n",
      "['Louisiana']\n",
      "['Kentucky']\n",
      "['Iowa']\n",
      "['Kansas']\n",
      "['Kentucky']\n",
      "['Kentucky']\n",
      "['Louisiana']\n",
      "['Kansas']\n",
      "['Maine']\n",
      "['Kansas']\n",
      "['Louisiana']\n",
      "['Kansas']\n",
      "['Louisiana']\n",
      "['Maine']\n",
      "['Kentucky']\n",
      "['Kentucky']\n",
      "['Maine']\n",
      "['Maine']\n",
      "['Maryland']\n",
      "['Louisiana']\n",
      "['Kentucky']\n",
      "['Maryland']\n",
      "['Maryland']\n",
      "['Kentucky']\n",
      "['Louisiana']\n",
      "['Maryland']\n",
      "['Massachusetts']\n",
      "['Maine']\n",
      "['Louisiana']\n",
      "['Massachusetts']\n",
      "['Maine']\n",
      "['Massachusetts']\n",
      "['Michigan']\n",
      "['Louisiana']\n",
      "['Maine']\n",
      "['Maryland']\n",
      "['Michigan']\n",
      "['Maryland']\n",
      "['Massachusetts']\n",
      "['Minnesota']\n",
      "['Michigan']\n",
      "['Maine']\n",
      "['Massachusetts']\n",
      "['Massachusetts']\n",
      "['Maryland']\n",
      "['Minnesota']\n",
      "['Mississippi']\n",
      "['Michigan']\n",
      "['Minnesota']\n",
      "['Maryland']\n",
      "['Michigan']\n",
      "['Mississippi']\n",
      "['Massachusetts']\n",
      "['Missouri']\n",
      "['Minnesota']\n",
      "['Minnesota']\n",
      "['Mississippi']\n",
      "['Michigan']\n",
      "['Massachusetts']\n",
      "['Missouri']\n",
      "['Michigan']\n",
      "['Montana']\n",
      "['Mississippi']\n",
      "['Montana']\n",
      "['Minnesota']\n",
      "['Michigan']\n",
      "['Minnesota']\n",
      "['Mississippi']\n",
      "['Missouri']\n",
      "['Nebraska']\n",
      "['Mississippi']\n",
      "['Nebraska']\n",
      "['Minnesota']\n",
      "['Mississippi']\n",
      "['Nevada']\n",
      "['Montana']\n",
      "['Missouri']\n",
      "['Nevada']\n",
      "['Missouri']\n",
      "['Mississippi']\n",
      "['Montana']\n",
      "['Missouri']\n",
      "['New Hampshire']\n",
      "['Montana']\n",
      "['Missouri']\n",
      "['New Hampshire']\n",
      "['Missouri']\n",
      "['Nebraska']\n",
      "['Nebraska']\n",
      "['Montana']\n",
      "['Montana']\n",
      "['Nebraska']\n",
      "['Nevada']\n",
      "['Nevada']\n",
      "['New Jersey']\n",
      "['New Jersey']\n",
      "['Montana']\n",
      "['Nebraska']\n",
      "['New Hampshire']\n",
      "['Nebraska']\n",
      "['New Mexico']\n",
      "['New Hampshire']\n",
      "['Nevada']\n",
      "['Nevada']\n",
      "['New Mexico']\n",
      "['Nebraska']\n",
      "['New Hampshire']\n",
      "['New York']\n",
      "['New Jersey']\n",
      "['New Hampshire']\n",
      "['New Jersey']\n",
      "['New York']\n",
      "['Nevada']\n",
      "['Nevada']\n",
      "['North Carolina']\n",
      "['New Mexico']\n",
      "['New Jersey']\n",
      "['North Carolina']\n",
      "['New Jersey']\n",
      "['New Mexico']\n",
      "['New Hampshire']\n",
      "['New Hampshire']\n",
      "['North Dakota']\n",
      "['New Mexico']\n",
      "['New York']\n",
      "['New York']\n",
      "['New Mexico']\n",
      "['New York']\n",
      "['Ohio']\n",
      "['North Carolina']\n",
      "['North Carolina']\n",
      "['North Dakota']\n",
      "['New Jersey']\n",
      "['New Jersey']\n",
      "['New York']\n",
      "['North Carolina']\n",
      "['Ohio']\n",
      "['New Mexico']\n",
      "['North Dakota']\n",
      "['North Dakota']\n",
      "['New Mexico']\n",
      "['Oklahoma']\n",
      "['North Carolina']\n",
      "['Oklahoma']\n",
      "['North Dakota']\n",
      "['New York']\n",
      "['New York']\n",
      "['Ohio']\n",
      "['North Dakota']\n",
      "['Oregon']\n",
      "['Ohio']\n",
      "['North Carolina']\n",
      "['Ohio']\n",
      "['Oregon']\n",
      "['North Carolina']\n",
      "['Ohio']\n",
      "['Pennsylvania']\n",
      "['Oklahoma']\n",
      "['Oklahoma']\n",
      "['North Dakota']\n",
      "['Rhode Island']\n",
      "['Oklahoma']\n",
      "['Oklahoma']\n",
      "['Oregon']\n",
      "['Pennsylvania']\n",
      "['Oregon']\n",
      "['Ohio']\n",
      "['South Carolina']\n",
      "['North Dakota']\n",
      "['Oregon']\n",
      "['Oregon']\n",
      "['Pennsylvania']\n",
      "['Pennsylvania']\n",
      "['Oklahoma']\n",
      "['Ohio']\n",
      "['Rhode Island']\n",
      "['Pennsylvania']\n",
      "['Rhode Island']\n",
      "['Rhode Island']\n",
      "['South Dakota']\n",
      "['Oklahoma']\n",
      "['Pennsylvania']\n",
      "['South Carolina']\n",
      "['Oregon']\n",
      "['South Carolina']\n",
      "['Rhode Island']\n",
      "['Oregon']\n",
      "['Tennessee']\n",
      "['South Carolina']\n",
      "['South Dakota']\n",
      "['South Dakota']\n",
      "['Rhode Island']\n",
      "['Pennsylvania']\n",
      "['South Carolina']\n",
      "['Texas']\n",
      "['Tennessee']\n",
      "['South Dakota']\n",
      "['Pennsylvania']\n",
      "['South Carolina']\n",
      "['South Dakota']\n",
      "['Utah']\n",
      "['Rhode Island']\n",
      "['Tennessee']\n",
      "['Texas']\n",
      "['Tennessee']\n",
      "['South Dakota']\n",
      "['Vermont']\n",
      "['Tennessee']\n",
      "['Rhode Island']\n",
      "['Texas']\n",
      "['South Carolina']\n",
      "['Utah']\n",
      "['Virginia']\n",
      "['Tennessee']\n",
      "['South Carolina']\n",
      "['Texas']\n",
      "['Utah']\n",
      "['Texas']\n",
      "['Texas']\n",
      "['Washington']\n",
      "['Utah']\n",
      "['Vermont']\n",
      "['South Dakota']\n",
      "['South Dakota']\n",
      "['Vermont']\n",
      "['West Virginia']\n",
      "['Vermont']\n",
      "['Tennessee']\n",
      "['Virginia']\n",
      "['Utah']\n",
      "['Tennessee']\n",
      "['Virginia']\n",
      "['Texas']\n",
      "['Utah']\n",
      "['Vermont']\n",
      "['Washington']\n",
      "['Wisconsin']\n",
      "['Texas']\n",
      "['Virginia']\n",
      "['West Virginia']\n",
      "['Washington']\n",
      "['Utah']\n",
      "['Virginia']\n",
      "['Utah']\n",
      "['Wyoming']\n",
      "['Wisconsin']\n",
      "['Vermont']\n",
      "['Washington']\n",
      "['Washington']\n",
      "['West Virginia']\n",
      "['Vermont']\n",
      "['Vermont']\n",
      "['Wyoming']\n",
      "['West Virginia']\n",
      "['Virginia']\n",
      "['Virginia']\n",
      "['Wisconsin']\n",
      "['Washington']\n",
      "['Wyoming']\n",
      "['Washington']\n",
      "['West Virginia']\n",
      "['Wisconsin']\n",
      "['Virginia']\n",
      "['West Virginia']\n",
      "['West Virginia']\n",
      "['Wyoming']\n",
      "['Washington']\n",
      "['Wisconsin']\n",
      "['Wisconsin']\n",
      "['West Virginia']\n",
      "['Wisconsin']\n",
      "['Wyoming']\n",
      "['Wyoming']\n",
      "['Wisconsin']\n",
      "['Wyoming']\n",
      "['Wyoming']\n",
      "['Alabama', 'Arkansas', 'Georgia', 'Idaho', 'Kentucky', 'Louisiana', 'Mississippi', 'Missouri', 'Oklahoma', 'South Dakota', 'Tennessee', 'Texas', 'West Virginia', 'Wisconsin']\n",
      "['Alabama', 'Arkansas', 'Georgia', 'Idaho', 'Kentucky', 'Louisiana', 'Mississippi', 'Missouri', 'Oklahoma', 'South Dakota', 'Tennessee', 'Texas', 'West Virginia', 'Wisconsin']\n",
      "['Alabama', 'Arkansas', 'Georgia', 'Idaho', 'Kentucky', 'Louisiana', 'Mississippi', 'Missouri', 'Oklahoma', 'South Dakota', 'Tennessee', 'Texas', 'West Virginia', 'Wisconsin']\n",
      "['Alabama', 'Arkansas', 'Georgia', 'Idaho', 'Kentucky', 'Louisiana', 'Mississippi', 'Missouri', 'Oklahoma', 'South Dakota', 'Tennessee', 'Texas', 'West Virginia', 'Wisconsin']\n",
      "['Alabama', 'Arkansas', 'Georgia', 'Idaho', 'Kentucky', 'Louisiana', 'Mississippi', 'Missouri', 'Oklahoma', 'South Dakota', 'Tennessee', 'Texas', 'West Virginia', 'Wisconsin']\n",
      "['Alabama', 'Arkansas', 'Georgia', 'Idaho', 'Kentucky', 'Louisiana', 'Mississippi', 'Missouri', 'Oklahoma', 'South Dakota', 'Tennessee', 'Texas', 'West Virginia', 'Wisconsin']\n",
      "['Alabama', 'Arkansas', 'Georgia', 'Idaho', 'Kentucky', 'Louisiana', 'Mississippi', 'Missouri', 'Oklahoma', 'South Dakota', 'Tennessee', 'Texas', 'West Virginia', 'Wisconsin']\n",
      "['Alabama', 'Arkansas', 'Georgia', 'Idaho', 'Kentucky', 'Louisiana', 'Mississippi', 'Missouri', 'Oklahoma', 'South Dakota', 'Tennessee', 'Texas', 'West Virginia', 'Wisconsin']\n",
      "(2, 51)\n",
      "(2, 50)\n",
      "(3, 51)\n",
      "(4, 51)\n",
      "(1, 51)\n",
      "(4, 51)\n",
      "(4, 51)\n",
      "(4, 51)\n",
      "(2, 51, 48)\n",
      "(2, 51, 48)\n",
      "(2, 50, 48)\n",
      "(2, 50, 48)\n",
      "(3, 51, 48)\n",
      "(3, 51, 48)\n",
      "(4, 51, 48)\n",
      "(4, 51, 48)\n",
      "(4, 51, 48)\n",
      "(4, 51, 48)\n",
      "(1, 51, 48)\n",
      "(1, 51, 48)\n",
      "(4, 51, 48)\n",
      "(4, 51, 48)\n",
      "(4, 51, 48)\n",
      "(4, 51, 48)\n",
      "(2, 50)\n",
      "(2, 51)\n",
      "(4, 51)\n",
      "(3, 51)\n",
      "(1, 51)\n",
      "(4, 51)\n",
      "(4, 51)\n",
      "(2, 51, 48)\n",
      "(2, 51, 48)\n",
      "(2, 50, 48)\n",
      "(2, 50, 48)\n",
      "(4, 51, 48)\n",
      "(4, 51, 48)\n",
      "(1, 51, 48)\n",
      "(1, 51, 48)\n",
      "(3, 51, 48)\n",
      "(3, 51, 48)\n",
      "(4, 51)\n",
      "(4, 51, 48)\n",
      "(4, 51, 48)\n",
      "(4, 51, 48)\n",
      "(4, 51, 48)\n",
      "(4, 51, 48)\n",
      "(4, 51, 48)\n",
      "(2, 51)\n",
      "(2, 51, 48)\n",
      "(2, 51, 48)\n",
      "(4, 51)\n",
      "(4, 51, 48)\n",
      "(4, 51, 48)\n",
      "(2, 50)\n",
      "(2, 50, 48)\n",
      "(2, 50, 48)\n",
      "(1, 51)\n",
      "(1, 51, 48)\n",
      "(1, 51, 48)\n",
      "(3, 51)\n",
      "(3, 51, 48)\n",
      "(3, 51, 48)\n",
      "(4, 51)\n",
      "(4, 51, 48)\n",
      "(4, 51, 48)\n",
      "(4, 51)\n",
      "(4, 51, 48)\n",
      "(4, 51, 48)\n",
      "(4, 51)\n",
      "(4, 51, 48)\n",
      "(4, 51, 48)\n"
     ]
    },
    {
     "name": "stderr",
     "output_type": "stream",
     "text": [
      "  0%|          | 0/300 [00:00<?, ?it/s]"
     ]
    },
    {
     "name": "stdout",
     "output_type": "stream",
     "text": [
      "(2, 51)\n",
      "(2, 51, 48)\n",
      "(2, 51, 48)\n",
      "(2, 50)\n",
      "(2, 50, 48)\n",
      "(2, 50, 48)\n",
      "(1, 51)\n",
      "(1, 51, 48)\n",
      "(1, 51, 48)\n",
      "(4, 51)\n",
      "(4, 51, 48)\n",
      "(4, 51, 48)\n",
      "(3, 51)\n",
      "(3, 51, 48)\n",
      "(3, 51, 48)\n",
      "(2, 51)\n",
      "(2, 51, 48)\n",
      "(2, 51, 48)\n",
      "(2, 50)\n",
      "(2, 50, 48)\n",
      "(2, 50, 48)\n",
      "(4, 51)\n",
      "(1, 51)\n",
      "(4, 51, 48)\n",
      "(4, 51, 48)\n",
      "(1, 51, 48)\n",
      "(1, 51, 48)\n",
      "(4, 51)\n",
      "(4, 51, 48)\n",
      "(4, 51, 48)\n",
      "(3, 51)\n",
      "(3, 51, 48)\n",
      "(3, 51, 48)\n"
     ]
    },
    {
     "name": "stderr",
     "output_type": "stream",
     "text": [
      "  0%|          | 0/300 [00:00<?, ?it/s]"
     ]
    },
    {
     "name": "stdout",
     "output_type": "stream",
     "text": [
      "(4, 51)\n",
      "(4, 51, 48)\n",
      "(4, 51, 48)\n",
      "(4, 51)\n",
      "(4, 51, 48)\n",
      "(4, 51, 48)\n",
      "(4, 51)\n",
      "(4, 51, 48)\n",
      "(4, 51, 48)\n",
      "(4, 51)\n",
      "(4, 51, 48)\n",
      "(4, 51, 48)\n",
      "(4, 51)\n",
      "(4, 51, 48)\n",
      "(4, 51, 48)\n"
     ]
    },
    {
     "name": "stderr",
     "output_type": "stream",
     "text": [
      "sample: 100%|██████████| 300/300 [02:30<00:00,  1.99it/s, 1023 steps of size 6.11e-04. acc. prob=0.87]\n",
      "sample:  65%|██████▌   | 195/300 [02:32<01:44,  1.01it/s, 1023 steps of size 4.62e-04. acc. prob=0.90]"
     ]
    },
    {
     "name": "stdout",
     "output_type": "stream",
     "text": [
      "['mu', 'te', 'disp']\n"
     ]
    },
    {
     "name": "stderr",
     "output_type": "stream",
     "text": [
      "sample:  89%|████████▊ | 266/300 [02:32<00:24,  1.41it/s, 1023 steps of size 5.24e-04. acc. prob=0.91]"
     ]
    },
    {
     "name": "stdout",
     "output_type": "stream",
     "text": [
      "['ypred']\n"
     ]
    },
    {
     "name": "stderr",
     "output_type": "stream",
     "text": [
      "sample:  89%|████████▉ | 268/300 [02:34<00:22,  1.45it/s, 1023 steps of size 5.24e-04. acc. prob=0.91]"
     ]
    },
    {
     "name": "stdout",
     "output_type": "stream",
     "text": [
      "['Alabama']\n",
      "['Alaska']\n",
      "['Arizona']\n",
      "['Arkansas']\n",
      "['California']\n",
      "['Colorado']\n",
      "['Connecticut']\n",
      "['Delaware']\n",
      "['District of Columbia']\n",
      "['Florida']\n",
      "['Georgia']\n",
      "['Hawaii']\n",
      "['Idaho']\n",
      "['Illinois']\n",
      "['Indiana']\n",
      "['Iowa']\n",
      "['Kansas']\n",
      "['Kentucky']\n",
      "['Louisiana']\n"
     ]
    },
    {
     "name": "stderr",
     "output_type": "stream",
     "text": [
      "sample:  63%|██████▎   | 188/300 [02:34<01:59,  1.07s/it, 1023 steps of size 7.39e-04. acc. prob=0.80]"
     ]
    },
    {
     "name": "stdout",
     "output_type": "stream",
     "text": [
      "['Maine']\n",
      "['Maryland']\n",
      "['Massachusetts']\n",
      "['Michigan']\n",
      "['Minnesota']\n",
      "['Mississippi']\n",
      "['Missouri']\n",
      "['Montana']\n",
      "['Nebraska']\n",
      "['Nevada']\n",
      "['New Hampshire']\n",
      "['New Jersey']\n",
      "['New Mexico']\n",
      "['New York']\n",
      "['North Carolina']\n",
      "['North Dakota']\n",
      "['Ohio']\n",
      "['Oklahoma']\n",
      "['Oregon']\n",
      "['Pennsylvania']\n",
      "['Rhode Island']\n",
      "['South Carolina']\n",
      "['South Dakota']\n",
      "['Tennessee']\n",
      "['Texas']\n",
      "['Utah']\n",
      "['Vermont']\n",
      "['Virginia']\n",
      "['Washington']\n",
      "['West Virginia']\n",
      "['Wisconsin']\n",
      "['Wyoming']\n"
     ]
    },
    {
     "name": "stderr",
     "output_type": "stream",
     "text": [
      "sample:  81%|████████  | 242/300 [02:34<00:44,  1.30it/s, 1023 steps of size 6.78e-04. acc. prob=0.81]"
     ]
    },
    {
     "name": "stdout",
     "output_type": "stream",
     "text": [
      "['Alabama', 'Arkansas', 'Georgia', 'Idaho', 'Kentucky', 'Louisiana', 'Mississippi', 'Missouri', 'Oklahoma', 'South Dakota', 'Tennessee', 'Texas', 'West Virginia', 'Wisconsin']\n"
     ]
    },
    {
     "name": "stderr",
     "output_type": "stream",
     "text": [
      "sample:  93%|█████████▎| 280/300 [02:38<00:13,  1.44it/s, 1023 steps of size 6.85e-04. acc. prob=0.80]"
     ]
    },
    {
     "name": "stdout",
     "output_type": "stream",
     "text": [
      "(3, 51)\n"
     ]
    },
    {
     "name": "stderr",
     "output_type": "stream",
     "text": [
      "sample:  67%|██████▋   | 201/300 [02:38<01:35,  1.03it/s, 1023 steps of size 4.62e-04. acc. prob=0.90]"
     ]
    },
    {
     "name": "stdout",
     "output_type": "stream",
     "text": [
      "(3, 51, 48)\n",
      "(3, 51, 48)\n"
     ]
    },
    {
     "name": "stderr",
     "output_type": "stream",
     "text": [
      "sample:  84%|████████▍ | 253/300 [02:43<00:35,  1.32it/s, 1023 steps of size 6.78e-04. acc. prob=0.81]"
     ]
    },
    {
     "name": "stdout",
     "output_type": "stream",
     "text": [
      "(3, 51)\n"
     ]
    },
    {
     "name": "stderr",
     "output_type": "stream",
     "text": [
      "sample:  73%|███████▎  | 218/300 [02:43<01:17,  1.05it/s, 1023 steps of size 8.52e-04. acc. prob=0.80]"
     ]
    },
    {
     "name": "stdout",
     "output_type": "stream",
     "text": [
      "(3, 51, 48)\n",
      "(3, 51, 48)\n"
     ]
    },
    {
     "name": "stderr",
     "output_type": "stream",
     "text": [
      "sample: 100%|██████████| 300/300 [02:51<00:00,  1.75it/s, 1023 steps of size 6.85e-04. acc. prob=0.81]\n",
      "sample:  99%|█████████▊| 296/300 [02:53<00:02,  1.42it/s, 1023 steps of size 5.24e-04. acc. prob=0.91]"
     ]
    },
    {
     "name": "stdout",
     "output_type": "stream",
     "text": [
      "(3, 51)\n",
      "(3, 51, 48)\n",
      "(3, 51, 48)\n",
      "['mu', 'te', 'disp']\n"
     ]
    },
    {
     "name": "stderr",
     "output_type": "stream",
     "text": [
      "sample:  89%|████████▉ | 267/300 [02:54<00:25,  1.27it/s, 1023 steps of size 6.78e-04. acc. prob=0.82]"
     ]
    },
    {
     "name": "stdout",
     "output_type": "stream",
     "text": [
      "(3, 51)\n",
      "(3, 51, 48)\n",
      "(3, 51, 48)\n",
      "(3, 51)\n",
      "(3, 51, 48)\n",
      "(3, 51, 48)\n"
     ]
    },
    {
     "name": "stderr",
     "output_type": "stream",
     "text": [
      "sample:  69%|██████▉   | 207/300 [02:54<01:38,  1.06s/it, 1023 steps of size 7.39e-04. acc. prob=0.80]"
     ]
    },
    {
     "name": "stdout",
     "output_type": "stream",
     "text": [
      "['ypred']\n"
     ]
    },
    {
     "name": "stderr",
     "output_type": "stream",
     "text": [
      "sample: 100%|██████████| 300/300 [02:55<00:00,  1.71it/s, 1023 steps of size 5.24e-04. acc. prob=0.91]\n",
      "sample:  67%|██████▋   | 200/300 [02:55<01:50,  1.10s/it, 1023 steps of size 8.35e-04. acc. prob=0.70]"
     ]
    },
    {
     "name": "stdout",
     "output_type": "stream",
     "text": [
      "['Alabama']\n",
      "['Alaska']\n",
      "['Arizona']\n",
      "['Arkansas']\n",
      "['California']\n",
      "['Colorado']\n",
      "['Connecticut']\n",
      "['Delaware']\n",
      "['District of Columbia']\n",
      "['Florida']\n",
      "['Georgia']\n",
      "['Hawaii']\n",
      "['Idaho']\n",
      "['Illinois']\n",
      "['Indiana']\n",
      "['Iowa']\n",
      "['Kansas']\n",
      "['Kentucky']\n",
      "['Louisiana']\n",
      "['Maine']\n",
      "['Maryland']\n",
      "['Massachusetts']\n",
      "['Michigan']\n",
      "['Minnesota']\n",
      "['Mississippi']\n",
      "['Missouri']\n",
      "['Montana']\n",
      "['Nebraska']\n",
      "['Nevada']\n",
      "['New Hampshire']\n",
      "['New Jersey']\n",
      "['New Mexico']\n",
      "['New York']\n",
      "['North Carolina']\n",
      "['North Dakota']\n",
      "['Ohio']\n",
      "['Oklahoma']\n",
      "['Oregon']\n",
      "['Pennsylvania']\n",
      "['Rhode Island']\n",
      "['South Carolina']\n"
     ]
    },
    {
     "name": "stderr",
     "output_type": "stream",
     "text": [
      "sample:  90%|█████████ | 270/300 [02:56<00:25,  1.18it/s, 1023 steps of size 6.78e-04. acc. prob=0.82]"
     ]
    },
    {
     "name": "stdout",
     "output_type": "stream",
     "text": [
      "['South Dakota']\n",
      "['Tennessee']\n",
      "['Texas']\n",
      "['Utah']\n",
      "['Vermont']\n",
      "['Virginia']\n",
      "['Washington']\n",
      "['West Virginia']\n",
      "['Wisconsin']\n",
      "['Wyoming']\n",
      "['Alabama', 'Arkansas', 'Georgia', 'Idaho', 'Kentucky', 'Louisiana', 'Mississippi', 'Missouri', 'Oklahoma', 'South Dakota', 'Tennessee', 'Texas', 'West Virginia', 'Wisconsin']\n"
     ]
    },
    {
     "name": "stderr",
     "output_type": "stream",
     "text": [
      "sample:  77%|███████▋  | 232/300 [02:57<01:14,  1.09s/it, 1023 steps of size 8.52e-04. acc. prob=0.79]"
     ]
    },
    {
     "name": "stdout",
     "output_type": "stream",
     "text": [
      "['mu', 'te', 'disp']\n"
     ]
    },
    {
     "name": "stderr",
     "output_type": "stream",
     "text": [
      "sample:  91%|█████████ | 272/300 [02:58<00:24,  1.15it/s, 1023 steps of size 6.78e-04. acc. prob=0.82]"
     ]
    },
    {
     "name": "stdout",
     "output_type": "stream",
     "text": [
      "(2, 51)\n",
      "(2, 51, 48)\n",
      "(2, 51, 48)\n"
     ]
    },
    {
     "name": "stderr",
     "output_type": "stream",
     "text": [
      "sample:  70%|███████   | 211/300 [02:58<01:42,  1.15s/it, 1023 steps of size 7.39e-04. acc. prob=0.81]"
     ]
    },
    {
     "name": "stdout",
     "output_type": "stream",
     "text": [
      "['ypred']\n"
     ]
    },
    {
     "name": "stderr",
     "output_type": "stream",
     "text": [
      "sample:  78%|███████▊  | 234/300 [02:59<01:07,  1.02s/it, 1023 steps of size 8.52e-04. acc. prob=0.79]"
     ]
    },
    {
     "name": "stdout",
     "output_type": "stream",
     "text": [
      "(2, 51)\n",
      "(2, 51, 48)\n",
      "(2, 51, 48)\n"
     ]
    },
    {
     "name": "stderr",
     "output_type": "stream",
     "text": [
      "sample:  92%|█████████▏| 275/300 [03:00<00:20,  1.25it/s, 1023 steps of size 6.78e-04. acc. prob=0.82]"
     ]
    },
    {
     "name": "stdout",
     "output_type": "stream",
     "text": [
      "['Alabama']\n",
      "['Alaska']\n",
      "['Arizona']\n",
      "['Arkansas']\n",
      "['California']\n",
      "['Colorado']\n",
      "['Connecticut']\n",
      "['Delaware']\n",
      "['District of Columbia']\n",
      "['Florida']\n",
      "['Georgia']\n",
      "['Hawaii']\n",
      "['Idaho']\n",
      "['Illinois']\n",
      "['Indiana']\n",
      "['Iowa']\n",
      "['Kansas']\n",
      "['Kentucky']\n",
      "['Louisiana']\n",
      "['Maine']\n",
      "['Maryland']\n",
      "['Massachusetts']\n",
      "['Michigan']\n",
      "['Minnesota']\n",
      "['Mississippi']\n",
      "['Missouri']\n",
      "['Montana']\n",
      "['Nebraska']\n",
      "['Nevada']"
     ]
    },
    {
     "name": "stderr",
     "output_type": "stream",
     "text": [
      "sample:  75%|███████▍  | 224/300 [03:01<01:16,  1.00s/it, 1023 steps of size 4.62e-04. acc. prob=0.91]"
     ]
    },
    {
     "name": "stdout",
     "output_type": "stream",
     "text": [
      "\n",
      "['New Hampshire']\n",
      "['New Jersey']\n",
      "['New Mexico']\n",
      "['New York']\n",
      "['North Carolina']\n",
      "['North Dakota']\n",
      "['Ohio']\n",
      "['Oklahoma']\n",
      "['Oregon']\n",
      "['Pennsylvania']\n",
      "['Rhode Island']\n",
      "['South Carolina']\n",
      "['South Dakota']\n",
      "['Tennessee']\n",
      "['Texas']\n",
      "['Utah']\n",
      "['Vermont']\n",
      "['Virginia']\n",
      "['Washington']\n",
      "['West Virginia']\n",
      "['Wisconsin']\n",
      "['Wyoming']\n"
     ]
    },
    {
     "name": "stderr",
     "output_type": "stream",
     "text": [
      "sample:  79%|███████▊  | 236/300 [03:01<01:05,  1.02s/it, 1023 steps of size 8.52e-04. acc. prob=0.79]"
     ]
    },
    {
     "name": "stdout",
     "output_type": "stream",
     "text": [
      "['Alabama', 'Arkansas', 'Georgia', 'Idaho', 'Kentucky', 'Louisiana', 'Mississippi', 'Missouri', 'Oklahoma', 'South Dakota', 'Tennessee', 'Texas', 'West Virginia', 'Wisconsin']\n",
      "(2, 51)\n",
      "(2, 51, 48)\n",
      "(2, 51, 48)\n"
     ]
    },
    {
     "name": "stderr",
     "output_type": "stream",
     "text": [
      "  0%|          | 0/300 [00:00<?, ?it/s]<01:17,  1.03s/it, 1023 steps of size 4.62e-04. acc. prob=0.91]"
     ]
    },
    {
     "name": "stdout",
     "output_type": "stream",
     "text": [
      "(2, 51)\n",
      "(2, 51, 48)\n",
      "(2, 51, 48)\n"
     ]
    },
    {
     "name": "stderr",
     "output_type": "stream",
     "text": [
      "sample:  71%|███████▏  | 214/300 [03:02<01:39,  1.15s/it, 1023 steps of size 7.39e-04. acc. prob=0.81]"
     ]
    },
    {
     "name": "stdout",
     "output_type": "stream",
     "text": [
      "(2, 51)\n",
      "(2, 51, 48)\n",
      "(2, 51, 48)\n"
     ]
    },
    {
     "name": "stderr",
     "output_type": "stream",
     "text": [
      "sample:  75%|███████▌  | 226/300 [03:03<01:18,  1.06s/it, 1023 steps of size 4.62e-04. acc. prob=0.91]"
     ]
    },
    {
     "name": "stdout",
     "output_type": "stream",
     "text": [
      "(2, 50)\n",
      "(2, 50, 48)\n",
      "(2, 50, 48)\n"
     ]
    },
    {
     "name": "stderr",
     "output_type": "stream",
     "text": [
      "sample:  93%|█████████▎| 279/300 [03:04<00:17,  1.19it/s, 1023 steps of size 6.78e-04. acc. prob=0.82]"
     ]
    },
    {
     "name": "stdout",
     "output_type": "stream",
     "text": [
      "(2, 50)\n",
      "(2, 50, 48)\n",
      "(2, 50, 48)\n"
     ]
    },
    {
     "name": "stderr",
     "output_type": "stream",
     "text": [
      "sample:  94%|█████████▍| 282/300 [03:06<00:15,  1.18it/s, 1023 steps of size 6.78e-04. acc. prob=0.82]"
     ]
    },
    {
     "name": "stdout",
     "output_type": "stream",
     "text": [
      "(2, 50)\n",
      "(2, 50, 48)\n",
      "(2, 50, 48)\n"
     ]
    },
    {
     "name": "stderr",
     "output_type": "stream",
     "text": [
      "  0%|          | 0/300 [00:00<?, ?it/s]<01:33,  1.14s/it, 1023 steps of size 7.39e-04. acc. prob=0.81]"
     ]
    },
    {
     "name": "stdout",
     "output_type": "stream",
     "text": [
      "(2, 50)\n",
      "(2, 50, 48)\n",
      "(2, 50, 48)\n"
     ]
    },
    {
     "name": "stderr",
     "output_type": "stream",
     "text": [
      "sample:  70%|███████   | 210/300 [03:07<01:45,  1.17s/it, 1023 steps of size 8.35e-04. acc. prob=0.70]"
     ]
    },
    {
     "name": "stdout",
     "output_type": "stream",
     "text": [
      "(2, 50)\n",
      "(2, 50, 48)\n",
      "(2, 50, 48)\n"
     ]
    },
    {
     "name": "stderr",
     "output_type": "stream",
     "text": [
      "sample: 100%|██████████| 300/300 [03:21<00:00,  1.49it/s, 1023 steps of size 6.78e-04. acc. prob=0.82]\n",
      "sample:  75%|███████▍  | 224/300 [03:22<01:26,  1.14s/it, 1023 steps of size 8.35e-04. acc. prob=0.70]"
     ]
    },
    {
     "name": "stdout",
     "output_type": "stream",
     "text": [
      "['mu', 'te', 'disp']\n"
     ]
    },
    {
     "name": "stderr",
     "output_type": "stream",
     "text": [
      "sample:  86%|████████▋ | 259/300 [03:24<00:40,  1.01it/s, 1023 steps of size 8.52e-04. acc. prob=0.79]"
     ]
    },
    {
     "name": "stdout",
     "output_type": "stream",
     "text": [
      "['ypred']\n"
     ]
    },
    {
     "name": "stderr",
     "output_type": "stream",
     "text": [
      "warmup:  25%|██▌       | 76/300 [00:24<02:25,  1.54it/s, 1023 steps of size 1.34e-03. acc. prob=0.74]]"
     ]
    },
    {
     "name": "stdout",
     "output_type": "stream",
     "text": [
      "['Alabama']\n",
      "['Alaska']\n",
      "['Arizona']\n",
      "['Arkansas']\n",
      "['California']\n",
      "['Colorado']\n",
      "['Connecticut']\n",
      "['Delaware']\n",
      "['District of Columbia']\n",
      "['Florida']\n",
      "['Georgia']\n",
      "['Hawaii']\n",
      "['Idaho']\n",
      "['Illinois']\n",
      "['Indiana']\n",
      "['Iowa']\n",
      "['Kansas']\n",
      "['Kentucky']\n",
      "['Louisiana']\n",
      "['Maine']\n",
      "['Maryland']\n",
      "['Massachusetts']\n",
      "['Michigan']\n"
     ]
    },
    {
     "name": "stderr",
     "output_type": "stream",
     "text": [
      "sample:  76%|███████▌  | 228/300 [03:27<01:19,  1.10s/it, 1023 steps of size 8.35e-04. acc. prob=0.71]"
     ]
    },
    {
     "name": "stdout",
     "output_type": "stream",
     "text": [
      "['Minnesota']\n",
      "['Mississippi']\n",
      "['Missouri']\n",
      "['Montana']\n",
      "['Nebraska']\n",
      "['Nevada']\n",
      "['New Hampshire']\n",
      "['New Jersey']\n",
      "['New Mexico']\n",
      "['New York']\n",
      "['North Carolina']\n",
      "['North Dakota']\n",
      "['Ohio']\n",
      "['Oklahoma']\n",
      "['Oregon']\n",
      "['Pennsylvania']\n",
      "['Rhode Island']\n",
      "['South Carolina']\n",
      "['South Dakota']\n",
      "['Tennessee']\n"
     ]
    },
    {
     "name": "stderr",
     "output_type": "stream",
     "text": [
      "warmup:  26%|██▌       | 77/300 [00:25<02:28,  1.50it/s, 1023 steps of size 7.14e-04. acc. prob=0.74]]"
     ]
    },
    {
     "name": "stdout",
     "output_type": "stream",
     "text": [
      "['Texas']\n",
      "['Utah']\n",
      "['Vermont']\n",
      "['Virginia']\n",
      "['Washington']\n",
      "['West Virginia']\n",
      "['Wisconsin']\n",
      "['Wyoming']\n"
     ]
    },
    {
     "name": "stderr",
     "output_type": "stream",
     "text": [
      "sample:  79%|███████▉  | 237/300 [03:27<01:09,  1.11s/it, 1023 steps of size 7.39e-04. acc. prob=0.81]"
     ]
    },
    {
     "name": "stdout",
     "output_type": "stream",
     "text": [
      "['Alabama', 'Arkansas', 'Georgia', 'Idaho', 'Kentucky', 'Louisiana', 'Mississippi', 'Missouri', 'Oklahoma', 'South Dakota', 'Tennessee', 'Texas', 'West Virginia', 'Wisconsin']\n"
     ]
    },
    {
     "name": "stderr",
     "output_type": "stream",
     "text": [
      "sample:  80%|███████▉  | 239/300 [03:29<01:06,  1.09s/it, 1023 steps of size 7.39e-04. acc. prob=0.81]"
     ]
    },
    {
     "name": "stdout",
     "output_type": "stream",
     "text": [
      "(1, 51)\n"
     ]
    },
    {
     "name": "stderr",
     "output_type": "stream",
     "text": [
      "warmup:  27%|██▋       | 81/300 [00:28<02:32,  1.44it/s, 1023 steps of size 1.64e-03. acc. prob=0.75]]"
     ]
    },
    {
     "name": "stdout",
     "output_type": "stream",
     "text": [
      "(1, 51, 48)\n",
      "(1, 51, 48)\n"
     ]
    },
    {
     "name": "stderr",
     "output_type": "stream",
     "text": [
      "sample:  90%|████████▉ | 269/300 [03:34<00:29,  1.05it/s, 1023 steps of size 8.52e-04. acc. prob=0.79]"
     ]
    },
    {
     "name": "stdout",
     "output_type": "stream",
     "text": [
      "(1, 51)\n"
     ]
    },
    {
     "name": "stderr",
     "output_type": "stream",
     "text": [
      "warmup:  26%|██▋       | 79/300 [00:40<03:07,  1.18it/s, 1023 steps of size 1.02e-03. acc. prob=0.74]"
     ]
    },
    {
     "name": "stdout",
     "output_type": "stream",
     "text": [
      "(1, 51, 48)\n",
      "(1, 51, 48)\n"
     ]
    },
    {
     "name": "stderr",
     "output_type": "stream",
     "text": [
      "warmup:  30%|██▉       | 89/300 [00:37<02:33,  1.37it/s, 1023 steps of size 1.59e-03. acc. prob=0.75]]"
     ]
    },
    {
     "name": "stdout",
     "output_type": "stream",
     "text": [
      "(1, 51)\n",
      "(1, 51, 48)\n",
      "(1, 51, 48)\n"
     ]
    },
    {
     "name": "stderr",
     "output_type": "stream",
     "text": [
      "sample:  93%|█████████▎| 280/300 [03:45<00:19,  1.04it/s, 1023 steps of size 8.52e-04. acc. prob=0.79]"
     ]
    },
    {
     "name": "stdout",
     "output_type": "stream",
     "text": [
      "(1, 51)\n",
      "(1, 51, 48)\n",
      "(1, 51, 48)\n",
      "(1, 51)\n",
      "(1, 51, 48)\n",
      "(1, 51, 48)\n"
     ]
    },
    {
     "name": "stderr",
     "output_type": "stream",
     "text": [
      "sample: 100%|██████████| 300/300 [04:04<00:00,  1.23it/s, 1023 steps of size 8.52e-04. acc. prob=0.79]\n",
      "sample:  40%|████      | 121/300 [00:59<02:14,  1.33it/s, 1023 steps of size 6.73e-04. acc. prob=0.88]"
     ]
    },
    {
     "name": "stdout",
     "output_type": "stream",
     "text": [
      "['mu', 'te', 'disp']\n"
     ]
    },
    {
     "name": "stderr",
     "output_type": "stream",
     "text": [
      "sample:  97%|█████████▋| 292/300 [04:08<00:07,  1.05it/s, 1023 steps of size 4.62e-04. acc. prob=0.91]"
     ]
    },
    {
     "name": "stdout",
     "output_type": "stream",
     "text": [
      "['ypred']\n"
     ]
    },
    {
     "name": "stderr",
     "output_type": "stream",
     "text": [
      "sample:  43%|████▎     | 129/300 [01:05<02:00,  1.42it/s, 1023 steps of size 6.73e-04. acc. prob=0.88]"
     ]
    },
    {
     "name": "stdout",
     "output_type": "stream",
     "text": [
      "['Alabama']\n",
      "['Alaska']\n",
      "['Arizona']\n",
      "['Arkansas']\n",
      "['California']\n",
      "['Colorado']\n",
      "['Connecticut']\n",
      "['Delaware']\n",
      "['District of Columbia']\n",
      "['Florida']\n",
      "['Georgia']\n",
      "['Hawaii']\n",
      "['Idaho']\n",
      "['Illinois']\n",
      "['Indiana']\n",
      "['Iowa']\n",
      "['Kansas']\n",
      "['Kentucky']\n",
      "['Louisiana']\n",
      "['Maine']\n",
      "['Maryland']\n",
      "['Massachusetts']\n",
      "['Michigan']\n",
      "['Minnesota']\n",
      "['Mississippi']\n",
      "['Missouri']\n",
      "['Montana']\n",
      "['Nebraska']\n",
      "['Nevada']\n",
      "['New Hampshire']\n",
      "['New Jersey']\n",
      "['New Mexico']\n",
      "['New York']\n",
      "['North Carolina']\n",
      "['North Dakota']\n",
      "['Ohio']\n",
      "['Oklahoma']\n",
      "['Oregon']\n",
      "['Pennsylvania']\n",
      "['Rhode Island']\n",
      "['South Carolina']\n",
      "['South Dakota']\n",
      "['Tennessee']\n",
      "['Texas']\n",
      "['Utah']\n",
      "['Vermont']\n",
      "['Virginia']\n",
      "['Washington']\n",
      "['West Virginia']\n",
      "['Wisconsin']\n",
      "['Wyoming']\n",
      "['Alabama', 'Arkansas', 'Georgia', 'Idaho', 'Kentucky', 'Louisiana', 'Mississippi', 'Missouri', 'Oklahoma', 'South Dakota', 'Tennessee', 'Texas', 'West Virginia', 'Wisconsin']\n"
     ]
    },
    {
     "name": "stderr",
     "output_type": "stream",
     "text": [
      "warmup:  32%|███▏      | 97/300 [00:28<01:51,  1.82it/s, 1023 steps of size 5.94e-04. acc. prob=0.74]]"
     ]
    },
    {
     "name": "stdout",
     "output_type": "stream",
     "text": [
      "(4, 51)\n",
      "(4, 51, 48)\n",
      "(4, 51, 48)\n"
     ]
    },
    {
     "name": "stderr",
     "output_type": "stream",
     "text": [
      "sample:  91%|█████████ | 272/300 [04:15<00:30,  1.08s/it, 1023 steps of size 8.35e-04. acc. prob=0.73]"
     ]
    },
    {
     "name": "stdout",
     "output_type": "stream",
     "text": [
      "(4, 51)\n",
      "(4, 51, 48)\n",
      "(4, 51, 48)\n"
     ]
    },
    {
     "name": "stderr",
     "output_type": "stream",
     "text": [
      "sample: 100%|██████████| 300/300 [04:16<00:00,  1.17it/s, 1023 steps of size 4.62e-04. acc. prob=0.91]\n",
      "sample:  45%|████▌     | 136/300 [01:10<01:56,  1.41it/s, 1023 steps of size 6.73e-04. acc. prob=0.88]"
     ]
    },
    {
     "name": "stdout",
     "output_type": "stream",
     "text": [
      "(4, 51)\n",
      "(4, 51, 48)\n",
      "(4, 51, 48)\n"
     ]
    },
    {
     "name": "stderr",
     "output_type": "stream",
     "text": [
      "sample:  49%|████▉     | 147/300 [01:15<01:56,  1.31it/s, 1023 steps of size 8.97e-04. acc. prob=0.74]"
     ]
    },
    {
     "name": "stdout",
     "output_type": "stream",
     "text": [
      "(4, 51)\n",
      "(4, 51, 48)\n",
      "(4, 51, 48)\n",
      "['mu', 'te', 'disp']\n"
     ]
    },
    {
     "name": "stderr",
     "output_type": "stream",
     "text": [
      "sample:  35%|███▍      | 104/300 [00:33<02:06,  1.55it/s, 1023 steps of size 5.86e-04. acc. prob=0.90]"
     ]
    },
    {
     "name": "stdout",
     "output_type": "stream",
     "text": [
      "(4, 51)\n",
      "(4, 51, 48)\n",
      "(4, 51, 48)\n"
     ]
    },
    {
     "name": "stderr",
     "output_type": "stream",
     "text": [
      "sample:  95%|█████████▌| 285/300 [04:20<00:17,  1.15s/it, 1023 steps of size 7.39e-04. acc. prob=0.82]"
     ]
    },
    {
     "name": "stdout",
     "output_type": "stream",
     "text": [
      "['ypred']\n"
     ]
    },
    {
     "name": "stderr",
     "output_type": "stream",
     "text": [
      "sample:  93%|█████████▎| 280/300 [04:24<00:22,  1.12s/it, 1023 steps of size 8.35e-04. acc. prob=0.73]"
     ]
    },
    {
     "name": "stdout",
     "output_type": "stream",
     "text": [
      "['Alabama']\n",
      "['Alaska']\n",
      "['Arizona']\n",
      "['Arkansas']\n",
      "['California']\n",
      "['Colorado']\n",
      "['Connecticut']\n",
      "['Delaware']\n",
      "['District of Columbia']\n",
      "['Florida']\n",
      "['Georgia']\n",
      "['Hawaii']\n",
      "['Idaho']\n",
      "['Illinois']\n",
      "['Indiana']\n",
      "['Iowa']\n",
      "['Kansas']\n",
      "['Kentucky']\n",
      "['Louisiana']\n",
      "['Maine']\n",
      "['Maryland']\n",
      "['Massachusetts']\n",
      "['Michigan']\n",
      "['Minnesota']\n"
     ]
    },
    {
     "name": "stderr",
     "output_type": "stream",
     "text": [
      "sample:  49%|████▊     | 146/300 [01:17<01:55,  1.33it/s, 1023 steps of size 6.73e-04. acc. prob=0.87]"
     ]
    },
    {
     "name": "stdout",
     "output_type": "stream",
     "text": [
      "['Mississippi']\n",
      "['Missouri']\n",
      "['Montana']\n",
      "['Nebraska']\n",
      "['Nevada']\n",
      "['New Hampshire']\n",
      "['New Jersey']\n",
      "['New Mexico']\n",
      "['New York']\n",
      "['North Carolina']\n",
      "['North Dakota']\n",
      "['Ohio']\n",
      "['Oklahoma']\n",
      "['Oregon']\n",
      "['Pennsylvania']\n",
      "['Rhode Island']\n",
      "['South Carolina']\n",
      "['South Dakota']\n",
      "['Tennessee']\n",
      "['Texas']\n",
      "['Utah']\n",
      "['Vermont']\n",
      "['Virginia']\n",
      "['Washington']\n"
     ]
    },
    {
     "name": "stderr",
     "output_type": "stream",
     "text": [
      "sample:  46%|████▌     | 138/300 [01:31<02:22,  1.13it/s, 1023 steps of size 4.56e-04. acc. prob=0.90]"
     ]
    },
    {
     "name": "stdout",
     "output_type": "stream",
     "text": [
      "['West Virginia']\n",
      "['Wisconsin']\n",
      "['Wyoming']\n",
      "['Alabama', 'Arkansas', 'Georgia', 'Idaho', 'Kentucky', 'Louisiana', 'Mississippi', 'Missouri', 'Oklahoma', 'South Dakota', 'Tennessee', 'Texas', 'West Virginia', 'Wisconsin']\n"
     ]
    },
    {
     "name": "stderr",
     "output_type": "stream",
     "text": [
      "sample:  50%|████▉     | 149/300 [01:19<01:47,  1.41it/s, 1023 steps of size 6.73e-04. acc. prob=0.87]"
     ]
    },
    {
     "name": "stdout",
     "output_type": "stream",
     "text": [
      "(4, 51)\n",
      "(4, 51, 48)\n",
      "(4, 51, 48)\n"
     ]
    },
    {
     "name": "stderr",
     "output_type": "stream",
     "text": [
      "sample:  40%|████      | 120/300 [00:42<01:48,  1.66it/s, 1023 steps of size 5.86e-04. acc. prob=0.90]"
     ]
    },
    {
     "name": "stdout",
     "output_type": "stream",
     "text": [
      "(4, 51)\n",
      "(4, 51, 48)\n",
      "(4, 51, 48)\n"
     ]
    },
    {
     "name": "stderr",
     "output_type": "stream",
     "text": [
      "sample:  48%|████▊     | 144/300 [01:36<02:12,  1.18it/s, 1023 steps of size 4.56e-04. acc. prob=0.89]"
     ]
    },
    {
     "name": "stdout",
     "output_type": "stream",
     "text": [
      "(4, 51)\n",
      "(4, 51, 48)\n",
      "(4, 51, 48)\n"
     ]
    },
    {
     "name": "stderr",
     "output_type": "stream",
     "text": [
      "  0%|          | 0/300 [00:00<?, ?it/s]<01:38,  1.48it/s, 1023 steps of size 6.73e-04. acc. prob=0.87]"
     ]
    },
    {
     "name": "stdout",
     "output_type": "stream",
     "text": [
      "(4, 51)\n",
      "(4, 51, 48)\n",
      "(4, 51, 48)\n",
      "(4, 51)\n",
      "(4, 51, 48)\n",
      "(4, 51, 48)\n"
     ]
    },
    {
     "name": "stderr",
     "output_type": "stream",
     "text": [
      "sample: 100%|██████████| 300/300 [04:36<00:00,  1.09it/s, 1023 steps of size 7.39e-04. acc. prob=0.82]\n",
      "sample:  55%|█████▌    | 165/300 [01:31<01:47,  1.25it/s, 1023 steps of size 6.73e-04. acc. prob=0.87]"
     ]
    },
    {
     "name": "stdout",
     "output_type": "stream",
     "text": [
      "['mu', 'te', 'disp']\n"
     ]
    },
    {
     "name": "stderr",
     "output_type": "stream",
     "text": [
      "sample:  47%|████▋     | 142/300 [00:56<01:37,  1.62it/s, 1023 steps of size 5.86e-04. acc. prob=0.91]"
     ]
    },
    {
     "name": "stdout",
     "output_type": "stream",
     "text": [
      "['ypred']\n"
     ]
    },
    {
     "name": "stderr",
     "output_type": "stream",
     "text": [
      "sample:  50%|████▉     | 149/300 [01:00<01:33,  1.62it/s, 1023 steps of size 5.86e-04. acc. prob=0.91]"
     ]
    },
    {
     "name": "stdout",
     "output_type": "stream",
     "text": [
      "['Alabama']\n",
      "['Alaska']\n",
      "['Arizona']\n",
      "['Arkansas']\n",
      "['California']\n",
      "['Colorado']\n",
      "['Connecticut']\n",
      "['Delaware']\n",
      "['District of Columbia']\n",
      "['Florida']\n",
      "['Georgia']\n",
      "['Hawaii']\n",
      "['Idaho']\n",
      "['Illinois']\n",
      "['Indiana']\n",
      "['Iowa']\n",
      "['Kansas']\n",
      "['Kentucky']\n",
      "['Louisiana']\n",
      "['Maine']\n",
      "['Maryland']\n",
      "['Massachusetts']\n",
      "['Michigan']\n",
      "['Minnesota']\n",
      "['Mississippi']\n",
      "['Missouri']\n",
      "['Montana']\n",
      "['Nebraska']\n",
      "['Nevada']\n",
      "['New Hampshire']\n",
      "['New Jersey']\n",
      "['New Mexico']\n",
      "['New York']\n",
      "['North Carolina']\n",
      "['North Dakota']\n",
      "['Ohio']\n",
      "['Oklahoma']\n",
      "['Oregon']\n",
      "['Pennsylvania']\n",
      "['Rhode Island']\n",
      "['South Carolina']\n",
      "['South Dakota']\n"
     ]
    },
    {
     "name": "stderr",
     "output_type": "stream",
     "text": [
      "warmup:  22%|██▏       | 66/300 [00:28<03:46,  1.03it/s, 1023 steps of size 1.04e-03. acc. prob=0.73]]"
     ]
    },
    {
     "name": "stdout",
     "output_type": "stream",
     "text": [
      "['Tennessee']\n",
      "['Texas']\n",
      "['Utah']\n",
      "['Vermont']\n",
      "['Virginia']\n",
      "['Washington']\n",
      "['West Virginia']\n",
      "['Wisconsin']\n",
      "['Wyoming']\n"
     ]
    },
    {
     "name": "stderr",
     "output_type": "stream",
     "text": [
      "sample: 100%|██████████| 300/300 [04:46<00:00,  1.05it/s, 1023 steps of size 8.35e-04. acc. prob=0.73]\n"
     ]
    },
    {
     "name": "stdout",
     "output_type": "stream",
     "text": [
      "['Alabama', 'Arkansas', 'Georgia', 'Idaho', 'Kentucky', 'Louisiana', 'Mississippi', 'Missouri', 'Oklahoma', 'South Dakota', 'Tennessee', 'Texas', 'West Virginia', 'Wisconsin']\n"
     ]
    },
    {
     "name": "stderr",
     "output_type": "stream",
     "text": [
      "warmup:  23%|██▎       | 68/300 [00:30<03:59,  1.03s/it, 1023 steps of size 9.41e-04. acc. prob=0.74]]"
     ]
    },
    {
     "name": "stdout",
     "output_type": "stream",
     "text": [
      "['mu', 'te', 'disp']\n"
     ]
    },
    {
     "name": "stderr",
     "output_type": "stream",
     "text": [
      "sample:  63%|██████▎   | 189/300 [01:47<01:23,  1.34it/s, 1023 steps of size 8.97e-04. acc. prob=0.73]"
     ]
    },
    {
     "name": "stdout",
     "output_type": "stream",
     "text": [
      "(3, 51)\n"
     ]
    },
    {
     "name": "stderr",
     "output_type": "stream",
     "text": [
      "warmup:  18%|█▊        | 53/300 [00:19<03:45,  1.10it/s, 1023 steps of size 8.67e-04. acc. prob=0.72]]"
     ]
    },
    {
     "name": "stdout",
     "output_type": "stream",
     "text": [
      "(3, 51, 48)\n",
      "(3, 51, 48)\n"
     ]
    },
    {
     "name": "stderr",
     "output_type": "stream",
     "text": [
      "sample:  64%|██████▎   | 191/300 [01:48<01:19,  1.37it/s, 1023 steps of size 8.97e-04. acc. prob=0.74]"
     ]
    },
    {
     "name": "stdout",
     "output_type": "stream",
     "text": [
      "['ypred']\n"
     ]
    },
    {
     "name": "stderr",
     "output_type": "stream",
     "text": [
      "sample:  65%|██████▌   | 195/300 [01:51<01:16,  1.37it/s, 1023 steps of size 8.97e-04. acc. prob=0.73]"
     ]
    },
    {
     "name": "stdout",
     "output_type": "stream",
     "text": [
      "(3, 51)\n"
     ]
    },
    {
     "name": "stderr",
     "output_type": "stream",
     "text": [
      "warmup:  25%|██▍       | 74/300 [00:36<03:44,  1.01it/s, 1023 steps of size 6.49e-04. acc. prob=0.74]]"
     ]
    },
    {
     "name": "stdout",
     "output_type": "stream",
     "text": [
      "(3, 51, 48)\n",
      "(3, 51, 48)\n",
      "['Alabama']\n",
      "['Alaska']\n",
      "['Arizona']\n",
      "['Arkansas']\n",
      "['California']\n",
      "['Colorado']\n",
      "['Connecticut']\n"
     ]
    },
    {
     "name": "stderr",
     "output_type": "stream",
     "text": [
      "sample:  65%|██████▌   | 196/300 [01:52<01:15,  1.37it/s, 1023 steps of size 8.97e-04. acc. prob=0.73]"
     ]
    },
    {
     "name": "stdout",
     "output_type": "stream",
     "text": [
      "['Delaware']\n",
      "['District of Columbia']\n",
      "['Florida']\n",
      "['Georgia']\n",
      "['Hawaii']\n",
      "['Idaho']\n",
      "['Illinois']\n",
      "['Indiana']\n",
      "['Iowa']\n",
      "['Kansas']\n",
      "['Kentucky']\n",
      "['Louisiana']\n",
      "['Maine']\n",
      "['Maryland']\n",
      "['Massachusetts']\n",
      "['Michigan']\n",
      "['Minnesota']\n",
      "['Mississippi']\n",
      "['Missouri']\n",
      "['Montana']\n",
      "['Nebraska']\n",
      "['Nevada']\n",
      "['New Hampshire']\n",
      "['New Jersey']\n",
      "['New Mexico']\n",
      "['New York']\n",
      "['North Carolina']\n",
      "['North Dakota']\n",
      "['Ohio']\n"
     ]
    },
    {
     "name": "stderr",
     "output_type": "stream",
     "text": [
      "warmup:  19%|█▉        | 58/300 [00:24<03:50,  1.05it/s, 1023 steps of size 1.41e-03. acc. prob=0.73]"
     ]
    },
    {
     "name": "stdout",
     "output_type": "stream",
     "text": [
      "['Oklahoma']\n",
      "['Oregon']\n",
      "['Pennsylvania']\n",
      "['Rhode Island']\n",
      "['South Carolina']\n",
      "['South Dakota']\n",
      "['Tennessee']\n",
      "['Texas']\n",
      "['Utah']\n",
      "['Vermont']\n",
      "['Virginia']\n",
      "['Washington']\n",
      "['West Virginia']\n",
      "['Wisconsin']\n",
      "['Wyoming']\n"
     ]
    },
    {
     "name": "stderr",
     "output_type": "stream",
     "text": [
      "sample:  62%|██████▏   | 187/300 [01:47<01:23,  1.35it/s, 1023 steps of size 6.73e-04. acc. prob=0.87]"
     ]
    },
    {
     "name": "stdout",
     "output_type": "stream",
     "text": [
      "['Alabama', 'Arkansas', 'Georgia', 'Idaho', 'Kentucky', 'Louisiana', 'Mississippi', 'Missouri', 'Oklahoma', 'South Dakota', 'Tennessee', 'Texas', 'West Virginia', 'Wisconsin']\n"
     ]
    },
    {
     "name": "stderr",
     "output_type": "stream",
     "text": [
      "sample:  63%|██████▎   | 190/300 [01:49<01:19,  1.38it/s, 1023 steps of size 6.73e-04. acc. prob=0.87]"
     ]
    },
    {
     "name": "stdout",
     "output_type": "stream",
     "text": [
      "(2, 51)\n"
     ]
    },
    {
     "name": "stderr",
     "output_type": "stream",
     "text": [
      "warmup:  20%|██        | 61/300 [00:27<03:55,  1.01it/s, 1023 steps of size 6.04e-04. acc. prob=0.73]]"
     ]
    },
    {
     "name": "stdout",
     "output_type": "stream",
     "text": [
      "(2, 51, 48)\n",
      "(2, 51, 48)\n"
     ]
    },
    {
     "name": "stderr",
     "output_type": "stream",
     "text": [
      "sample:  69%|██████▊   | 206/300 [01:59<01:08,  1.37it/s, 1023 steps of size 8.97e-04. acc. prob=0.74]"
     ]
    },
    {
     "name": "stdout",
     "output_type": "stream",
     "text": [
      "(2, 51)\n",
      "(2, 51, 48)\n",
      "(2, 51, 48)\n"
     ]
    },
    {
     "name": "stderr",
     "output_type": "stream",
     "text": [
      "sample:  59%|█████▉    | 178/300 [01:18<01:13,  1.66it/s, 1023 steps of size 5.86e-04. acc. prob=0.91]"
     ]
    },
    {
     "name": "stdout",
     "output_type": "stream",
     "text": [
      "(3, 51)\n",
      "(3, 51, 48)\n",
      "(3, 51, 48)\n"
     ]
    },
    {
     "name": "stderr",
     "output_type": "stream",
     "text": [
      "sample:  67%|██████▋   | 200/300 [01:57<01:10,  1.41it/s, 1023 steps of size 6.73e-04. acc. prob=0.87]"
     ]
    },
    {
     "name": "stdout",
     "output_type": "stream",
     "text": [
      "(3, 51)\n",
      "(3, 51, 48)\n",
      "(3, 51, 48)\n",
      "(3, 51)\n",
      "(3, 51, 48)\n",
      "(3, 51, 48)\n"
     ]
    },
    {
     "name": "stderr",
     "output_type": "stream",
     "text": [
      "sample:  64%|██████▎   | 191/300 [02:18<01:35,  1.14it/s, 1023 steps of size 4.56e-04. acc. prob=0.91]"
     ]
    },
    {
     "name": "stdout",
     "output_type": "stream",
     "text": [
      "(2, 51)\n",
      "(2, 51, 48)\n",
      "(2, 51, 48)\n"
     ]
    },
    {
     "name": "stderr",
     "output_type": "stream",
     "text": [
      "sample:  71%|███████   | 212/300 [02:06<01:02,  1.41it/s, 1023 steps of size 6.73e-04. acc. prob=0.87]"
     ]
    },
    {
     "name": "stdout",
     "output_type": "stream",
     "text": [
      "(2, 51)\n",
      "(2, 51, 48)\n",
      "(2, 51, 48)\n",
      "(2, 51)\n"
     ]
    },
    {
     "name": "stderr",
     "output_type": "stream",
     "text": [
      "sample:  65%|██████▍   | 194/300 [01:28<01:03,  1.67it/s, 1023 steps of size 5.86e-04. acc. prob=0.90]"
     ]
    },
    {
     "name": "stdout",
     "output_type": "stream",
     "text": [
      "(2, 51, 48)\n",
      "(2, 51, 48)\n"
     ]
    },
    {
     "name": "stderr",
     "output_type": "stream",
     "text": [
      "sample: 100%|██████████| 300/300 [03:06<00:00,  1.61it/s, 1023 steps of size 8.97e-04. acc. prob=0.74]\n",
      "sample:  97%|█████████▋| 292/300 [02:24<00:04,  1.73it/s, 1023 steps of size 5.86e-04. acc. prob=0.90]"
     ]
    },
    {
     "name": "stdout",
     "output_type": "stream",
     "text": [
      "['mu', 'te', 'disp']\n"
     ]
    },
    {
     "name": "stderr",
     "output_type": "stream",
     "text": [
      "sample:  52%|█████▏    | 156/300 [01:53<02:10,  1.10it/s, 1023 steps of size 6.83e-04. acc. prob=0.87]"
     ]
    },
    {
     "name": "stdout",
     "output_type": "stream",
     "text": [
      "['ypred']\n"
     ]
    },
    {
     "name": "stderr",
     "output_type": "stream",
     "text": [
      "sample:  99%|█████████▊| 296/300 [02:27<00:02,  1.74it/s, 1023 steps of size 5.86e-04. acc. prob=0.90]"
     ]
    },
    {
     "name": "stdout",
     "output_type": "stream",
     "text": [
      "['Alabama']\n",
      "['Alaska']\n",
      "['Arizona']\n",
      "['Arkansas']\n",
      "['California']\n",
      "['Colorado']\n",
      "['Connecticut']\n",
      "['Delaware']\n",
      "['District of Columbia']\n",
      "['Florida']\n",
      "['Georgia']\n",
      "['Hawaii']\n",
      "['Idaho']\n",
      "['Illinois']\n",
      "['Indiana']\n",
      "['Iowa']\n",
      "['Kansas']\n",
      "['Kentucky']\n",
      "['Louisiana']\n",
      "['Maine']\n",
      "['Maryland']\n",
      "['Massachusetts']\n",
      "['Michigan']\n",
      "['Minnesota']\n",
      "['Mississippi']\n",
      "['Missouri']\n",
      "['Montana']\n",
      "['Nebraska']\n",
      "['Nevada']\n",
      "['New Hampshire']\n",
      "['New Jersey']\n"
     ]
    },
    {
     "name": "stderr",
     "output_type": "stream",
     "text": [
      "sample:  53%|█████▎    | 158/300 [01:54<02:09,  1.10it/s, 1023 steps of size 6.83e-04. acc. prob=0.87]"
     ]
    },
    {
     "name": "stdout",
     "output_type": "stream",
     "text": [
      "['New Mexico']\n",
      "['New York']\n",
      "['North Carolina']\n",
      "['North Dakota']\n",
      "['Ohio']\n",
      "['Oklahoma']\n",
      "['Oregon']\n",
      "['Pennsylvania']\n",
      "['Rhode Island']\n",
      "['South Carolina']\n",
      "['South Dakota']\n",
      "['Tennessee']\n",
      "['Texas']\n",
      "['Utah']\n",
      "['Vermont']\n",
      "['Virginia']\n",
      "['Washington']\n",
      "['West Virginia']\n",
      "['Wisconsin']\n",
      "['Wyoming']\n"
     ]
    },
    {
     "name": "stderr",
     "output_type": "stream",
     "text": [
      "sample:  88%|████████▊ | 264/300 [03:19<00:29,  1.21it/s, 1023 steps of size 4.56e-04. acc. prob=0.91]"
     ]
    },
    {
     "name": "stdout",
     "output_type": "stream",
     "text": [
      "['Alabama', 'Arkansas', 'Georgia', 'Idaho', 'Kentucky', 'Louisiana', 'Mississippi', 'Missouri', 'Oklahoma', 'South Dakota', 'Tennessee', 'Texas', 'West Virginia', 'Wisconsin']\n"
     ]
    },
    {
     "name": "stderr",
     "output_type": "stream",
     "text": [
      "sample: 100%|██████████| 300/300 [03:07<00:00,  1.60it/s, 1023 steps of size 6.73e-04. acc. prob=0.85]\n",
      "sample: 100%|██████████| 300/300 [02:29<00:00,  2.01it/s, 1023 steps of size 5.86e-04. acc. prob=0.90]\n",
      "sample:  48%|████▊     | 144/300 [01:44<02:24,  1.08it/s, 1023 steps of size 8.41e-04. acc. prob=0.76]"
     ]
    },
    {
     "name": "stdout",
     "output_type": "stream",
     "text": [
      "(2, 50)\n"
     ]
    },
    {
     "name": "stderr",
     "output_type": "stream",
     "text": [
      "sample:  46%|████▌     | 138/300 [01:11<02:09,  1.25it/s, 1023 steps of size 7.52e-04. acc. prob=0.79]"
     ]
    },
    {
     "name": "stdout",
     "output_type": "stream",
     "text": [
      "['mu', 'te', 'disp']\n",
      "(2, 50, 48)\n",
      "(2, 50, 48)\n"
     ]
    },
    {
     "name": "stderr",
     "output_type": "stream",
     "text": [
      "sample:  47%|████▋     | 140/300 [01:12<02:08,  1.25it/s, 1023 steps of size 7.52e-04. acc. prob=0.79]"
     ]
    },
    {
     "name": "stdout",
     "output_type": "stream",
     "text": [
      "['mu', 'te', 'disp']\n",
      "['ypred']\n"
     ]
    },
    {
     "name": "stderr",
     "output_type": "stream",
     "text": [
      "sample:  46%|████▌     | 138/300 [01:04<02:02,  1.32it/s, 1023 steps of size 6.48e-04. acc. prob=0.82]"
     ]
    },
    {
     "name": "stdout",
     "output_type": "stream",
     "text": [
      "['ypred']\n"
     ]
    },
    {
     "name": "stderr",
     "output_type": "stream",
     "text": [
      "sample:  49%|████▉     | 147/300 [01:47<02:28,  1.03it/s, 1023 steps of size 8.41e-04. acc. prob=0.77]"
     ]
    },
    {
     "name": "stdout",
     "output_type": "stream",
     "text": [
      "['Alabama']\n",
      "['Alaska']\n",
      "['Arizona']\n",
      "['Arkansas']\n",
      "['California']\n",
      "['Colorado']\n",
      "['Connecticut']\n",
      "['Delaware']\n",
      "['District of Columbia']\n",
      "['Florida']\n",
      "['Georgia']\n",
      "['Hawaii']\n",
      "['Idaho']\n",
      "['Illinois']\n",
      "['Indiana']\n",
      "['Iowa']\n",
      "['Kansas']\n",
      "['Kentucky']\n",
      "['Louisiana']\n",
      "['Maine']\n",
      "['Maryland']\n",
      "['Massachusetts']\n",
      "['Michigan']\n"
     ]
    },
    {
     "name": "stderr",
     "output_type": "stream",
     "text": [
      "sample:  55%|█████▍    | 164/300 [02:00<02:11,  1.03it/s, 1023 steps of size 6.83e-04. acc. prob=0.87]"
     ]
    },
    {
     "name": "stdout",
     "output_type": "stream",
     "text": [
      "['Minnesota']\n",
      "['Mississippi']\n",
      "['Missouri']\n",
      "['Montana']\n",
      "['Nebraska']\n",
      "['Nevada']\n",
      "['New Hampshire']\n",
      "['New Jersey']\n",
      "['New Mexico']\n",
      "['New York']\n",
      "['North Carolina']\n",
      "['North Dakota']\n",
      "['Ohio']\n",
      "['Oklahoma']\n",
      "['Oregon']\n",
      "['Pennsylvania']\n",
      "['Rhode Island']\n",
      "['South Carolina']\n",
      "['South Dakota']\n",
      "['Tennessee']\n",
      "['Texas']\n",
      "['Utah']\n",
      "['Vermont']\n",
      "['Virginia']\n",
      "['Washington']\n",
      "['West Virginia']\n",
      "['Wisconsin']\n",
      "['Wyoming']\n",
      "['Alabama', 'Arkansas', 'Georgia', 'Idaho', 'Kentucky', 'Louisiana', 'Mississippi', 'Missouri', 'Oklahoma', 'South Dakota', 'Tennessee', 'Texas', 'West Virginia', 'Wisconsin']\n"
     ]
    },
    {
     "name": "stderr",
     "output_type": "stream",
     "text": [
      "sample:  55%|█████▌    | 165/300 [02:01<02:10,  1.04it/s, 1023 steps of size 6.83e-04. acc. prob=0.87]"
     ]
    },
    {
     "name": "stdout",
     "output_type": "stream",
     "text": [
      "(2, 50)\n"
     ]
    },
    {
     "name": "stderr",
     "output_type": "stream",
     "text": [
      "sample:  91%|█████████ | 272/300 [03:26<00:24,  1.13it/s, 1023 steps of size 4.56e-04. acc. prob=0.91]"
     ]
    },
    {
     "name": "stdout",
     "output_type": "stream",
     "text": [
      "(2, 50, 48)\n",
      "(2, 50, 48)\n"
     ]
    },
    {
     "name": "stderr",
     "output_type": "stream",
     "text": [
      "sample:  91%|█████████ | 273/300 [03:27<00:23,  1.14it/s, 1023 steps of size 4.56e-04. acc. prob=0.91]"
     ]
    },
    {
     "name": "stdout",
     "output_type": "stream",
     "text": [
      "(1, 51)\n"
     ]
    },
    {
     "name": "stderr",
     "output_type": "stream",
     "text": [
      "sample:  50%|█████     | 151/300 [01:51<02:21,  1.05it/s, 1023 steps of size 8.41e-04. acc. prob=0.76]"
     ]
    },
    {
     "name": "stdout",
     "output_type": "stream",
     "text": [
      "['Alabama']\n",
      "['Alaska']\n",
      "['Arizona']\n",
      "['Arkansas']\n",
      "['California']\n",
      "['Colorado']\n",
      "['Connecticut']\n",
      "['Delaware']\n",
      "['District of Columbia']\n",
      "['Florida']\n",
      "['Georgia']\n",
      "['Hawaii']\n",
      "['Idaho']\n",
      "['Illinois']\n",
      "['Indiana']\n",
      "['Iowa']\n",
      "(1, 51, 48)\n",
      "(1, 51, 48)\n",
      "['Kansas']\n",
      "['Kentucky']\n",
      "['Louisiana']\n",
      "['Maine']\n",
      "['Maryland']\n",
      "['Massachusetts']\n",
      "['Michigan']\n",
      "['Minnesota']\n",
      "['Mississippi']\n",
      "['Missouri']\n",
      "['Montana']\n",
      "['Nebraska']\n",
      "['Nevada']\n",
      "['New Hampshire']\n",
      "['New Jersey']\n",
      "['New Mexico']\n"
     ]
    },
    {
     "name": "stderr",
     "output_type": "stream",
     "text": [
      "sample:  49%|████▉     | 147/300 [01:17<01:53,  1.34it/s, 1023 steps of size 7.52e-04. acc. prob=0.80]"
     ]
    },
    {
     "name": "stdout",
     "output_type": "stream",
     "text": [
      "['New York']\n",
      "['North Carolina']\n",
      "['North Dakota']\n",
      "['Ohio']\n",
      "['Oklahoma']\n",
      "['Oregon']\n",
      "['Pennsylvania']\n",
      "['Rhode Island']\n",
      "['South Carolina']\n",
      "['South Dakota']\n",
      "['Tennessee']\n",
      "['Texas']\n",
      "['Utah']\n",
      "['Vermont']\n",
      "['Virginia']\n",
      "['Washington']\n",
      "['West Virginia']\n",
      "['Wisconsin']\n",
      "['Wyoming']\n",
      "['Alabama', 'Arkansas', 'Georgia', 'Idaho', 'Kentucky', 'Louisiana', 'Mississippi', 'Missouri', 'Oklahoma', 'South Dakota', 'Tennessee', 'Texas', 'West Virginia', 'Wisconsin']\n"
     ]
    },
    {
     "name": "stderr",
     "output_type": "stream",
     "text": [
      "sample:  57%|█████▋    | 171/300 [02:07<02:00,  1.07it/s, 1023 steps of size 6.83e-04. acc. prob=0.86]"
     ]
    },
    {
     "name": "stdout",
     "output_type": "stream",
     "text": [
      "(4, 51)\n"
     ]
    },
    {
     "name": "stderr",
     "output_type": "stream",
     "text": [
      "sample:  52%|█████▏    | 155/300 [01:55<02:19,  1.04it/s, 1023 steps of size 8.41e-04. acc. prob=0.77]"
     ]
    },
    {
     "name": "stdout",
     "output_type": "stream",
     "text": [
      "(4, 51, 48)\n",
      "(4, 51, 48)\n",
      "(1, 51)\n"
     ]
    },
    {
     "name": "stderr",
     "output_type": "stream",
     "text": [
      "sample:  93%|█████████▎| 279/300 [03:32<00:17,  1.18it/s, 1023 steps of size 4.56e-04. acc. prob=0.91]"
     ]
    },
    {
     "name": "stdout",
     "output_type": "stream",
     "text": [
      "(1, 51, 48)\n",
      "(1, 51, 48)\n"
     ]
    },
    {
     "name": "stderr",
     "output_type": "stream",
     "text": [
      "sample:  52%|█████▏    | 157/300 [01:57<02:18,  1.03it/s, 1023 steps of size 8.41e-04. acc. prob=0.77]"
     ]
    },
    {
     "name": "stdout",
     "output_type": "stream",
     "text": [
      "(2, 50)\n",
      "(2, 50, 48)\n",
      "(2, 50, 48)\n"
     ]
    },
    {
     "name": "stderr",
     "output_type": "stream",
     "text": [
      "sample:  53%|█████▎    | 158/300 [01:58<02:16,  1.04it/s, 1023 steps of size 8.41e-04. acc. prob=0.77]"
     ]
    },
    {
     "name": "stdout",
     "output_type": "stream",
     "text": [
      "(2, 50)\n",
      "(2, 50, 48)\n",
      "(2, 50, 48)\n",
      "(2, 50)\n",
      "(2, 50, 48)\n",
      "(2, 50, 48)\n"
     ]
    },
    {
     "name": "stderr",
     "output_type": "stream",
     "text": [
      "sample:  94%|█████████▍| 283/300 [03:35<00:14,  1.19it/s, 1023 steps of size 4.56e-04. acc. prob=0.91]"
     ]
    },
    {
     "name": "stdout",
     "output_type": "stream",
     "text": [
      "(4, 51)\n"
     ]
    },
    {
     "name": "stderr",
     "output_type": "stream",
     "text": [
      "sample:  53%|█████▎    | 160/300 [01:59<02:10,  1.07it/s, 1023 steps of size 8.41e-04. acc. prob=0.77]"
     ]
    },
    {
     "name": "stdout",
     "output_type": "stream",
     "text": [
      "(4, 51, 48)\n",
      "(4, 51, 48)\n"
     ]
    },
    {
     "name": "stderr",
     "output_type": "stream",
     "text": [
      "sample:  61%|██████    | 182/300 [02:18<01:53,  1.04it/s, 1023 steps of size 6.83e-04. acc. prob=0.87]"
     ]
    },
    {
     "name": "stdout",
     "output_type": "stream",
     "text": [
      "(1, 51)\n",
      "(1, 51, 48)\n",
      "(1, 51, 48)\n"
     ]
    },
    {
     "name": "stderr",
     "output_type": "stream",
     "text": [
      "sample:  55%|█████▌    | 165/300 [01:23<01:37,  1.39it/s, 1023 steps of size 6.48e-04. acc. prob=0.83]"
     ]
    },
    {
     "name": "stdout",
     "output_type": "stream",
     "text": [
      "(1, 51)\n",
      "(1, 51, 48)\n",
      "(1, 51, 48)\n"
     ]
    },
    {
     "name": "stderr",
     "output_type": "stream",
     "text": [
      "sample:  56%|█████▌    | 167/300 [02:06<02:07,  1.05it/s, 1023 steps of size 8.41e-04. acc. prob=0.78]"
     ]
    },
    {
     "name": "stdout",
     "output_type": "stream",
     "text": [
      "(1, 51)\n",
      "(1, 51, 48)\n",
      "(1, 51, 48)\n"
     ]
    },
    {
     "name": "stderr",
     "output_type": "stream",
     "text": [
      "sample:  58%|█████▊    | 174/300 [01:38<01:38,  1.27it/s, 1023 steps of size 7.52e-04. acc. prob=0.79]"
     ]
    },
    {
     "name": "stdout",
     "output_type": "stream",
     "text": [
      "(4, 51)\n",
      "(4, 51, 48)\n",
      "(4, 51, 48)\n"
     ]
    },
    {
     "name": "stderr",
     "output_type": "stream",
     "text": [
      "  0%|          | 0/300 [00:00<?, ?it/s]<00:00,  1.14it/s, 1023 steps of size 4.56e-04. acc. prob=0.90]"
     ]
    },
    {
     "name": "stdout",
     "output_type": "stream",
     "text": [
      "(4, 51)\n",
      "(4, 51, 48)\n",
      "(4, 51, 48)\n"
     ]
    },
    {
     "name": "stderr",
     "output_type": "stream",
     "text": [
      "warmup:  19%|█▉        | 58/300 [00:16<02:12,  1.83it/s, 1023 steps of size 1.14e-03. acc. prob=0.73]]"
     ]
    },
    {
     "name": "stdout",
     "output_type": "stream",
     "text": [
      "(4, 51)\n",
      "(4, 51, 48)\n",
      "(4, 51, 48)\n"
     ]
    },
    {
     "name": "stderr",
     "output_type": "stream",
     "text": [
      "sample: 100%|██████████| 300/300 [03:50<00:00,  1.30it/s, 1023 steps of size 4.56e-04. acc. prob=0.90]\n",
      "sample:  59%|█████▊    | 176/300 [02:15<02:01,  1.02it/s, 1023 steps of size 8.41e-04. acc. prob=0.78]"
     ]
    },
    {
     "name": "stdout",
     "output_type": "stream",
     "text": [
      "['mu', 'te', 'disp']\n"
     ]
    },
    {
     "name": "stderr",
     "output_type": "stream",
     "text": [
      "sample:  60%|██████    | 181/300 [01:43<01:34,  1.26it/s, 1023 steps of size 7.52e-04. acc. prob=0.78]"
     ]
    },
    {
     "name": "stdout",
     "output_type": "stream",
     "text": [
      "['ypred']\n"
     ]
    },
    {
     "name": "stderr",
     "output_type": "stream",
     "text": [
      "sample:  61%|██████    | 183/300 [01:37<01:24,  1.39it/s, 1023 steps of size 6.48e-04. acc. prob=0.83]"
     ]
    },
    {
     "name": "stdout",
     "output_type": "stream",
     "text": [
      "['Alabama']\n",
      "['Alaska']\n",
      "['Arizona']\n",
      "['Arkansas']\n",
      "['California']\n",
      "['Colorado']\n",
      "['Connecticut']\n",
      "['Delaware']\n",
      "['District of Columbia']\n",
      "['Florida']\n",
      "['Georgia']\n",
      "['Hawaii']\n",
      "['Idaho']\n",
      "['Illinois']\n",
      "['Indiana']\n",
      "['Iowa']\n",
      "['Kansas']\n",
      "['Kentucky']\n",
      "['Louisiana']\n",
      "['Maine']\n",
      "['Maryland']\n",
      "['Massachusetts']\n",
      "['Michigan']\n",
      "['Minnesota']\n"
     ]
    },
    {
     "name": "stderr",
     "output_type": "stream",
     "text": [
      "sample:  66%|██████▌   | 197/300 [02:32<01:37,  1.06it/s, 1023 steps of size 6.83e-04. acc. prob=0.87]"
     ]
    },
    {
     "name": "stdout",
     "output_type": "stream",
     "text": [
      "['Mississippi']\n",
      "['Missouri']\n",
      "['Montana']\n",
      "['Nebraska']\n",
      "['Nevada']\n",
      "['New Hampshire']\n",
      "['New Jersey']\n",
      "['New Mexico']\n",
      "['New York']\n",
      "['North Carolina']\n",
      "['North Dakota']\n",
      "['Ohio']\n",
      "['Oklahoma']\n",
      "['Oregon']\n",
      "['Pennsylvania']\n",
      "['Rhode Island']\n",
      "['South Carolina']\n",
      "['South Dakota']\n",
      "['Tennessee']\n",
      "['Texas']\n",
      "['Utah']\n",
      "['Vermont']\n",
      "['Virginia']\n",
      "['Washington']\n"
     ]
    },
    {
     "name": "stderr",
     "output_type": "stream",
     "text": [
      "sample:  61%|██████▏   | 184/300 [01:38<01:24,  1.37it/s, 1023 steps of size 6.48e-04. acc. prob=0.83]"
     ]
    },
    {
     "name": "stdout",
     "output_type": "stream",
     "text": [
      "['West Virginia']\n",
      "['Wisconsin']\n",
      "['Wyoming']\n",
      "['Alabama', 'Arkansas', 'Georgia', 'Idaho', 'Kentucky', 'Louisiana', 'Mississippi', 'Missouri', 'Oklahoma', 'South Dakota', 'Tennessee', 'Texas', 'West Virginia', 'Wisconsin']\n"
     ]
    },
    {
     "name": "stderr",
     "output_type": "stream",
     "text": [
      "sample:  67%|██████▋   | 200/300 [02:35<01:35,  1.05it/s, 1023 steps of size 6.83e-04. acc. prob=0.87]"
     ]
    },
    {
     "name": "stdout",
     "output_type": "stream",
     "text": [
      "(4, 51)\n"
     ]
    },
    {
     "name": "stderr",
     "output_type": "stream",
     "text": [
      "sample:  63%|██████▎   | 189/300 [01:49<01:22,  1.35it/s, 1023 steps of size 7.52e-04. acc. prob=0.79]"
     ]
    },
    {
     "name": "stdout",
     "output_type": "stream",
     "text": [
      "(4, 51, 48)\n",
      "(4, 51, 48)\n"
     ]
    },
    {
     "name": "stderr",
     "output_type": "stream",
     "text": [
      "warmup:  26%|██▌       | 78/300 [00:30<02:37,  1.41it/s, 1023 steps of size 8.10e-04. acc. prob=0.74]]"
     ]
    },
    {
     "name": "stdout",
     "output_type": "stream",
     "text": [
      "(4, 51)\n"
     ]
    },
    {
     "name": "stderr",
     "output_type": "stream",
     "text": [
      "warmup:  25%|██▌       | 75/300 [00:22<01:53,  1.99it/s, 1023 steps of size 7.80e-04. acc. prob=0.74]]"
     ]
    },
    {
     "name": "stdout",
     "output_type": "stream",
     "text": [
      "(4, 51, 48)\n",
      "(4, 51, 48)\n"
     ]
    },
    {
     "name": "stderr",
     "output_type": "stream",
     "text": [
      "sample:  69%|██████▉   | 208/300 [01:55<01:07,  1.36it/s, 1023 steps of size 6.48e-04. acc. prob=0.83]"
     ]
    },
    {
     "name": "stdout",
     "output_type": "stream",
     "text": [
      "(4, 51)\n",
      "(4, 51, 48)\n",
      "(4, 51, 48)\n"
     ]
    },
    {
     "name": "stderr",
     "output_type": "stream",
     "text": [
      "  0%|          | 0/300 [00:00<?, ?it/s]01:59,  1.73it/s, 1023 steps of size 4.34e-04. acc. prob=0.74]]"
     ]
    },
    {
     "name": "stdout",
     "output_type": "stream",
     "text": [
      "(4, 51)\n",
      "(4, 51, 48)\n",
      "(4, 51, 48)\n",
      "(4, 51)\n",
      "(4, 51, 48)\n",
      "(4, 51, 48)\n"
     ]
    },
    {
     "name": "stderr",
     "output_type": "stream",
     "text": [
      "sample: 100%|██████████| 300/300 [03:01<00:00,  1.65it/s, 1023 steps of size 6.48e-04. acc. prob=0.83]\n",
      "sample: 100%|██████████| 300/300 [03:11<00:00,  1.56it/s, 1023 steps of size 7.52e-04. acc. prob=0.75]\n"
     ]
    },
    {
     "name": "stdout",
     "output_type": "stream",
     "text": [
      "['mu', 'te', 'disp']\n"
     ]
    },
    {
     "name": "stderr",
     "output_type": "stream",
     "text": [
      "sample:  44%|████▎     | 131/300 [01:33<02:51,  1.02s/it, 1023 steps of size 4.19e-04. acc. prob=0.89]"
     ]
    },
    {
     "name": "stdout",
     "output_type": "stream",
     "text": [
      "['ypred']\n"
     ]
    },
    {
     "name": "stderr",
     "output_type": "stream",
     "text": [
      "sample:  91%|█████████ | 272/300 [03:47<00:26,  1.04it/s, 1023 steps of size 8.41e-04. acc. prob=0.79]"
     ]
    },
    {
     "name": "stdout",
     "output_type": "stream",
     "text": [
      "['mu', 'te', 'disp']\n"
     ]
    },
    {
     "name": "stderr",
     "output_type": "stream",
     "text": [
      "sample:  70%|███████   | 211/300 [01:42<00:53,  1.65it/s, 1023 steps of size 6.28e-04. acc. prob=0.88]"
     ]
    },
    {
     "name": "stdout",
     "output_type": "stream",
     "text": [
      "['ypred']\n"
     ]
    },
    {
     "name": "stderr",
     "output_type": "stream",
     "text": [
      "sample:  98%|█████████▊| 294/300 [04:04<00:05,  1.07it/s, 1023 steps of size 6.83e-04. acc. prob=0.87]"
     ]
    },
    {
     "name": "stdout",
     "output_type": "stream",
     "text": [
      "['Alabama']\n",
      "['Alaska']\n",
      "['Arizona']\n",
      "['Arkansas']\n",
      "['California']\n",
      "['Colorado']\n",
      "['Connecticut']\n",
      "['Delaware']\n",
      "['District of Columbia']\n",
      "['Florida']\n",
      "['Georgia']\n",
      "['Hawaii']\n",
      "['Idaho']\n",
      "['Illinois']\n",
      "['Indiana']\n",
      "['Iowa']\n",
      "['Kansas']\n",
      "['Kentucky']\n",
      "['Louisiana']\n",
      "['Maine']\n",
      "['Maryland']\n",
      "['Massachusetts']\n",
      "['Michigan']\n",
      "['Minnesota']\n",
      "['Mississippi']\n",
      "['Missouri']\n",
      "['Montana']\n",
      "['Nebraska']\n",
      "['Nevada']\n",
      "['New Hampshire']\n",
      "['New Jersey']\n",
      "['New Mexico']\n"
     ]
    },
    {
     "name": "stderr",
     "output_type": "stream",
     "text": [
      "sample:  66%|██████▌   | 197/300 [01:54<01:12,  1.43it/s, 1023 steps of size 7.29e-04. acc. prob=0.84]"
     ]
    },
    {
     "name": "stdout",
     "output_type": "stream",
     "text": [
      "['New York']\n",
      "['North Carolina']\n",
      "['North Dakota']\n",
      "['Ohio']\n",
      "['Oklahoma']\n",
      "['Oregon']\n",
      "['Pennsylvania']\n",
      "['Rhode Island']\n",
      "['South Carolina']\n",
      "['South Dakota']\n",
      "['Tennessee']\n",
      "['Texas']\n",
      "['Utah']\n",
      "['Vermont']\n",
      "['Virginia']\n",
      "['Washington']\n",
      "['West Virginia']\n",
      "['Wisconsin']\n",
      "['Wyoming']\n",
      "['Alabama', 'Arkansas', 'Georgia', 'Idaho', 'Kentucky', 'Louisiana', 'Mississippi', 'Missouri', 'Oklahoma', 'South Dakota', 'Tennessee', 'Texas', 'West Virginia', 'Wisconsin']\n"
     ]
    },
    {
     "name": "stderr",
     "output_type": "stream",
     "text": [
      "sample:  93%|█████████▎| 280/300 [03:54<00:18,  1.07it/s, 1023 steps of size 8.41e-04. acc. prob=0.79]"
     ]
    },
    {
     "name": "stdout",
     "output_type": "stream",
     "text": [
      "['Alabama']\n",
      "['Alaska']\n",
      "['Arizona']\n",
      "['Arkansas']\n",
      "['California']\n",
      "['Colorado']\n",
      "['Connecticut']\n",
      "['Delaware']\n",
      "['District of Columbia']\n",
      "['Florida']\n",
      "['Georgia']\n",
      "['Hawaii']\n",
      "['Idaho']\n",
      "['Illinois']\n",
      "['Indiana']\n",
      "['Iowa']\n",
      "['Kansas']\n",
      "['Kentucky']\n",
      "['Louisiana']\n",
      "['Maine']\n",
      "['Maryland']\n",
      "['Massachusetts']\n",
      "['Michigan']\n",
      "['Minnesota']\n",
      "['Mississippi']\n",
      "['Missouri']\n",
      "['Montana']\n",
      "['Nebraska']\n",
      "['Nevada']\n",
      "['New Hampshire']\n",
      "['New Jersey']\n",
      "['New Mexico']\n"
     ]
    },
    {
     "name": "stderr",
     "output_type": "stream",
     "text": [
      "sample:  99%|█████████▉| 297/300 [04:07<00:02,  1.08it/s, 1023 steps of size 6.83e-04. acc. prob=0.87]"
     ]
    },
    {
     "name": "stdout",
     "output_type": "stream",
     "text": [
      "['New York']\n",
      "['North Carolina']\n",
      "['North Dakota']\n",
      "['Ohio']\n",
      "['Oklahoma']\n",
      "['Oregon']\n",
      "['Pennsylvania']\n",
      "['Rhode Island']\n",
      "['South Carolina']\n",
      "['South Dakota']\n",
      "['Tennessee']\n",
      "['Texas']\n",
      "['Utah']\n",
      "['Vermont']\n",
      "['Virginia']\n",
      "['Washington']\n",
      "['West Virginia']\n",
      "['Wisconsin']\n",
      "['Wyoming']\n"
     ]
    },
    {
     "name": "stderr",
     "output_type": "stream",
     "text": [
      "sample:  67%|██████▋   | 201/300 [01:57<01:08,  1.44it/s, 1023 steps of size 7.29e-04. acc. prob=0.84]"
     ]
    },
    {
     "name": "stdout",
     "output_type": "stream",
     "text": [
      "['Alabama', 'Arkansas', 'Georgia', 'Idaho', 'Kentucky', 'Louisiana', 'Mississippi', 'Missouri', 'Oklahoma', 'South Dakota', 'Tennessee', 'Texas', 'West Virginia', 'Wisconsin']\n",
      "(3, 51)\n"
     ]
    },
    {
     "name": "stderr",
     "output_type": "stream",
     "text": [
      "sample:  47%|████▋     | 140/300 [01:42<02:48,  1.06s/it, 1023 steps of size 4.19e-04. acc. prob=0.90]"
     ]
    },
    {
     "name": "stdout",
     "output_type": "stream",
     "text": [
      "(3, 51, 48)\n",
      "(3, 51, 48)\n"
     ]
    },
    {
     "name": "stderr",
     "output_type": "stream",
     "text": [
      "sample: 100%|██████████| 300/300 [04:10<00:00,  1.20it/s, 1023 steps of size 6.83e-04. acc. prob=0.87]\n"
     ]
    },
    {
     "name": "stdout",
     "output_type": "stream",
     "text": [
      "(2, 51)\n"
     ]
    },
    {
     "name": "stderr",
     "output_type": "stream",
     "text": [
      "sample:  95%|█████████▍| 284/300 [03:58<00:15,  1.03it/s, 1023 steps of size 8.41e-04. acc. prob=0.79]"
     ]
    },
    {
     "name": "stdout",
     "output_type": "stream",
     "text": [
      "(2, 51, 48)\n",
      "(2, 51, 48)\n"
     ]
    },
    {
     "name": "stderr",
     "output_type": "stream",
     "text": [
      "sample:  69%|██████▊   | 206/300 [02:01<01:10,  1.34it/s, 1023 steps of size 7.29e-04. acc. prob=0.85]"
     ]
    },
    {
     "name": "stdout",
     "output_type": "stream",
     "text": [
      "['mu', 'te', 'disp']\n"
     ]
    },
    {
     "name": "stderr",
     "output_type": "stream",
     "text": [
      "sample:  77%|███████▋  | 231/300 [01:54<00:40,  1.69it/s, 1023 steps of size 6.28e-04. acc. prob=0.89]"
     ]
    },
    {
     "name": "stdout",
     "output_type": "stream",
     "text": [
      "(3, 51)\n",
      "(3, 51, 48)\n",
      "(3, 51, 48)\n"
     ]
    },
    {
     "name": "stderr",
     "output_type": "stream",
     "text": [
      "sample:  77%|███████▋  | 232/300 [01:54<00:40,  1.67it/s, 1023 steps of size 6.28e-04. acc. prob=0.89]"
     ]
    },
    {
     "name": "stdout",
     "output_type": "stream",
     "text": [
      "['ypred']\n"
     ]
    },
    {
     "name": "stderr",
     "output_type": "stream",
     "text": [
      "sample:  49%|████▊     | 146/300 [01:49<02:44,  1.07s/it, 1023 steps of size 4.19e-04. acc. prob=0.90]"
     ]
    },
    {
     "name": "stdout",
     "output_type": "stream",
     "text": [
      "(2, 51)\n"
     ]
    },
    {
     "name": "stderr",
     "output_type": "stream",
     "text": [
      "sample:  78%|███████▊  | 235/300 [01:56<00:38,  1.69it/s, 1023 steps of size 6.28e-04. acc. prob=0.89]"
     ]
    },
    {
     "name": "stdout",
     "output_type": "stream",
     "text": [
      "(2, 51, 48)\n",
      "(2, 51, 48)\n"
     ]
    },
    {
     "name": "stderr",
     "output_type": "stream",
     "text": [
      "sample:  41%|████      | 123/300 [01:25<03:08,  1.07s/it, 1023 steps of size 6.08e-04. acc. prob=0.86]"
     ]
    },
    {
     "name": "stdout",
     "output_type": "stream",
     "text": [
      "['Alabama']\n",
      "['Alaska']\n",
      "['Arizona']\n",
      "['Arkansas']\n",
      "['California']\n",
      "['Colorado']\n",
      "['Connecticut']\n",
      "['Delaware']\n",
      "['District of Columbia']\n",
      "['Florida']\n",
      "['Georgia']\n",
      "['Hawaii']\n",
      "['Idaho']\n",
      "['Illinois']\n",
      "['Indiana']\n",
      "['Iowa']\n",
      "['Kansas']\n",
      "['Kentucky']\n",
      "['Louisiana']\n",
      "['Maine']\n",
      "['Maryland']\n",
      "['Massachusetts']\n",
      "['Michigan']\n",
      "['Minnesota']\n",
      "['Mississippi']\n",
      "['Missouri']\n",
      "['Montana']\n",
      "['Nebraska']\n",
      "['Nevada']\n",
      "['New Hampshire']\n"
     ]
    },
    {
     "name": "stderr",
     "output_type": "stream",
     "text": [
      "sample:  79%|███████▉  | 238/300 [01:58<00:36,  1.68it/s, 1023 steps of size 6.28e-04. acc. prob=0.89]"
     ]
    },
    {
     "name": "stdout",
     "output_type": "stream",
     "text": [
      "['New Jersey']\n",
      "['New Mexico']\n",
      "['New York']\n",
      "['North Carolina']\n",
      "['North Dakota']\n",
      "['Ohio']\n",
      "['Oklahoma']\n",
      "['Oregon']\n",
      "['Pennsylvania']\n",
      "['Rhode Island']\n",
      "['South Carolina']\n",
      "['South Dakota']\n",
      "['Tennessee']\n",
      "['Texas']\n",
      "['Utah']\n",
      "['Vermont']\n",
      "['Virginia']\n",
      "['Washington']\n",
      "['West Virginia']\n",
      "['Wisconsin']\n",
      "['Wyoming']\n",
      "['Alabama', 'Arkansas', 'Georgia', 'Idaho', 'Kentucky', 'Louisiana', 'Mississippi', 'Missouri', 'Oklahoma', 'South Dakota', 'Tennessee', 'Texas', 'West Virginia', 'Wisconsin']\n"
     ]
    },
    {
     "name": "stderr",
     "output_type": "stream",
     "text": [
      "sample:  98%|█████████▊| 293/300 [04:07<00:06,  1.02it/s, 1023 steps of size 8.41e-04. acc. prob=0.79]"
     ]
    },
    {
     "name": "stdout",
     "output_type": "stream",
     "text": [
      "(2, 50)\n"
     ]
    },
    {
     "name": "stderr",
     "output_type": "stream",
     "text": [
      "sample:  50%|█████     | 151/300 [01:54<02:38,  1.07s/it, 1023 steps of size 4.19e-04. acc. prob=0.90]"
     ]
    },
    {
     "name": "stdout",
     "output_type": "stream",
     "text": [
      "(2, 50, 48)\n",
      "(2, 50, 48)\n"
     ]
    },
    {
     "name": "stderr",
     "output_type": "stream",
     "text": [
      "sample:  83%|████████▎ | 249/300 [02:05<00:30,  1.65it/s, 1023 steps of size 6.28e-04. acc. prob=0.89]"
     ]
    },
    {
     "name": "stdout",
     "output_type": "stream",
     "text": [
      "(3, 51)\n",
      "(3, 51, 48)\n",
      "(3, 51, 48)\n",
      "(2, 50)\n"
     ]
    },
    {
     "name": "stderr",
     "output_type": "stream",
     "text": [
      "sample:  99%|█████████▉| 298/300 [04:12<00:01,  1.01it/s, 1023 steps of size 8.41e-04. acc. prob=0.79]"
     ]
    },
    {
     "name": "stdout",
     "output_type": "stream",
     "text": [
      "(2, 50, 48)\n",
      "(2, 50, 48)\n"
     ]
    },
    {
     "name": "stderr",
     "output_type": "stream",
     "text": [
      "  0%|          | 0/300 [00:00<?, ?it/s]<00:53,  1.40it/s, 1023 steps of size 7.29e-04. acc. prob=0.85]"
     ]
    },
    {
     "name": "stdout",
     "output_type": "stream",
     "text": [
      "(3, 51)\n",
      "(3, 51, 48)\n",
      "(3, 51, 48)\n"
     ]
    },
    {
     "name": "stderr",
     "output_type": "stream",
     "text": [
      "sample:  44%|████▎     | 131/300 [01:34<02:56,  1.04s/it, 1023 steps of size 6.08e-04. acc. prob=0.85]"
     ]
    },
    {
     "name": "stdout",
     "output_type": "stream",
     "text": [
      "(3, 51)\n",
      "(3, 51, 48)\n",
      "(3, 51, 48)\n"
     ]
    },
    {
     "name": "stderr",
     "output_type": "stream",
     "text": [
      "sample:  75%|███████▌  | 226/300 [02:15<00:53,  1.39it/s, 1023 steps of size 7.29e-04. acc. prob=0.85]"
     ]
    },
    {
     "name": "stdout",
     "output_type": "stream",
     "text": [
      "(2, 51)\n",
      "(2, 51, 48)\n",
      "(2, 51, 48)\n"
     ]
    },
    {
     "name": "stderr",
     "output_type": "stream",
     "text": [
      "sample: 100%|██████████| 300/300 [04:14<00:00,  1.18it/s, 1023 steps of size 8.41e-04. acc. prob=0.79]\n",
      "sample:  76%|███████▌  | 228/300 [02:17<00:51,  1.41it/s, 1023 steps of size 7.29e-04. acc. prob=0.85]"
     ]
    },
    {
     "name": "stdout",
     "output_type": "stream",
     "text": [
      "(2, 51)\n",
      "(2, 51, 48)\n",
      "(2, 51, 48)\n"
     ]
    },
    {
     "name": "stderr",
     "output_type": "stream",
     "text": [
      "sample:  44%|████▍     | 133/300 [01:36<03:03,  1.10s/it, 1023 steps of size 6.08e-04. acc. prob=0.85]"
     ]
    },
    {
     "name": "stdout",
     "output_type": "stream",
     "text": [
      "(2, 51)\n",
      "(2, 51, 48)\n",
      "(2, 51, 48)\n",
      "['mu', 'te', 'disp']\n"
     ]
    },
    {
     "name": "stderr",
     "output_type": "stream",
     "text": [
      "sample:  86%|████████▋ | 259/300 [02:11<00:26,  1.55it/s, 1023 steps of size 6.28e-04. acc. prob=0.89]"
     ]
    },
    {
     "name": "stdout",
     "output_type": "stream",
     "text": [
      "['ypred']\n"
     ]
    },
    {
     "name": "stderr",
     "output_type": "stream",
     "text": [
      "sample:  89%|████████▊ | 266/300 [02:15<00:21,  1.61it/s, 1023 steps of size 6.28e-04. acc. prob=0.88]"
     ]
    },
    {
     "name": "stdout",
     "output_type": "stream",
     "text": [
      "(2, 50)\n",
      "(2, 50, 48)\n",
      "(2, 50, 48)\n"
     ]
    },
    {
     "name": "stderr",
     "output_type": "stream",
     "text": [
      "  0%|          | 0/300 [00:00<?, ?it/s]<00:19,  1.62it/s, 1023 steps of size 6.28e-04. acc. prob=0.89]"
     ]
    },
    {
     "name": "stdout",
     "output_type": "stream",
     "text": [
      "(2, 50)\n",
      "(2, 50, 48)\n",
      "(2, 50, 48)\n",
      "(2, 50)\n",
      "(2, 50, 48)\n",
      "(2, 50, 48)\n"
     ]
    },
    {
     "name": "stderr",
     "output_type": "stream",
     "text": [
      "sample:  55%|█████▌    | 166/300 [02:10<02:24,  1.08s/it, 1023 steps of size 4.19e-04. acc. prob=0.91]"
     ]
    },
    {
     "name": "stdout",
     "output_type": "stream",
     "text": [
      "['Alabama']\n",
      "['Alaska']\n",
      "['Arizona']\n",
      "['Arkansas']\n",
      "['California']\n",
      "['Colorado']\n",
      "['Connecticut']\n",
      "['Delaware']\n",
      "['District of Columbia']\n",
      "['Florida']\n",
      "['Georgia']\n",
      "['Hawaii']\n",
      "['Idaho']\n",
      "['Illinois']\n",
      "['Indiana']\n",
      "['Iowa']\n",
      "['Kansas']\n",
      "['Kentucky']\n",
      "['Louisiana']\n",
      "['Maine']\n",
      "['Maryland']\n",
      "['Massachusetts']\n",
      "['Michigan']\n",
      "['Minnesota']\n",
      "['Mississippi']\n",
      "['Missouri']\n",
      "['Montana']\n",
      "['Nebraska']\n",
      "['Nevada']\n"
     ]
    },
    {
     "name": "stderr",
     "output_type": "stream",
     "text": [
      "sample:  80%|████████  | 241/300 [02:26<00:43,  1.37it/s, 1023 steps of size 7.29e-04. acc. prob=0.84]"
     ]
    },
    {
     "name": "stdout",
     "output_type": "stream",
     "text": [
      "['New Hampshire']\n",
      "['New Jersey']\n",
      "['New Mexico']\n",
      "['New York']\n",
      "['North Carolina']\n",
      "['North Dakota']\n",
      "['Ohio']\n",
      "['Oklahoma']\n",
      "['Oregon']\n",
      "['Pennsylvania']\n",
      "['Rhode Island']\n",
      "['South Carolina']\n",
      "['South Dakota']\n",
      "['Tennessee']\n",
      "['Texas']\n",
      "['Utah']\n",
      "['Vermont']\n",
      "['Virginia']\n",
      "['Washington']\n",
      "['West Virginia']\n",
      "['Wisconsin']\n",
      "['Wyoming']\n",
      "['Alabama', 'Arkansas', 'Georgia', 'Idaho', 'Kentucky', 'Louisiana', 'Mississippi', 'Missouri', 'Oklahoma', 'South Dakota', 'Tennessee', 'Texas', 'West Virginia', 'Wisconsin']\n"
     ]
    },
    {
     "name": "stderr",
     "output_type": "stream",
     "text": [
      "warmup:  17%|█▋        | 52/300 [00:13<02:24,  1.71it/s, 1023 steps of size 9.61e-04. acc. prob=0.72]]"
     ]
    },
    {
     "name": "stdout",
     "output_type": "stream",
     "text": [
      "(1, 51)\n"
     ]
    },
    {
     "name": "stderr",
     "output_type": "stream",
     "text": [
      "warmup:  18%|█▊        | 53/300 [00:13<02:34,  1.60it/s, 1023 steps of size 1.20e-03. acc. prob=0.73]]"
     ]
    },
    {
     "name": "stdout",
     "output_type": "stream",
     "text": [
      "(1, 51, 48)\n",
      "(1, 51, 48)\n"
     ]
    },
    {
     "name": "stderr",
     "output_type": "stream",
     "text": [
      "warmup:  20%|█▉        | 59/300 [00:18<02:58,  1.35it/s, 1023 steps of size 1.07e-03. acc. prob=0.73]]"
     ]
    },
    {
     "name": "stdout",
     "output_type": "stream",
     "text": [
      "(1, 51)\n"
     ]
    },
    {
     "name": "stderr",
     "output_type": "stream",
     "text": [
      "warmup:  15%|█▍        | 44/300 [00:10<01:20,  3.18it/s, 1023 steps of size 1.72e-03. acc. prob=0.72]]"
     ]
    },
    {
     "name": "stdout",
     "output_type": "stream",
     "text": [
      "(1, 51, 48)\n",
      "(1, 51, 48)\n"
     ]
    },
    {
     "name": "stderr",
     "output_type": "stream",
     "text": [
      "sample: 100%|██████████| 300/300 [02:36<00:00,  1.92it/s, 1023 steps of size 6.28e-04. acc. prob=0.89]\n",
      "sample:  89%|████████▉ | 268/300 [02:46<00:24,  1.33it/s, 1023 steps of size 7.29e-04. acc. prob=0.85]"
     ]
    },
    {
     "name": "stdout",
     "output_type": "stream",
     "text": [
      "['mu', 'te', 'disp']\n"
     ]
    },
    {
     "name": "stderr",
     "output_type": "stream",
     "text": [
      "warmup:  25%|██▌       | 75/300 [00:31<03:12,  1.17it/s, 1023 steps of size 4.73e-04. acc. prob=0.73]"
     ]
    },
    {
     "name": "stdout",
     "output_type": "stream",
     "text": [
      "(1, 51)\n",
      "(1, 51, 48)\n",
      "(1, 51, 48)\n"
     ]
    },
    {
     "name": "stderr",
     "output_type": "stream",
     "text": [
      "sample:  90%|████████▉ | 269/300 [02:47<00:23,  1.33it/s, 1023 steps of size 7.29e-04. acc. prob=0.85]"
     ]
    },
    {
     "name": "stdout",
     "output_type": "stream",
     "text": [
      "['ypred']\n"
     ]
    },
    {
     "name": "stderr",
     "output_type": "stream",
     "text": [
      "  0%|          | 0/300 [00:00<?, ?it/s]03:05,  1.21it/s, 1023 steps of size 1.18e-03. acc. prob=0.74]]"
     ]
    },
    {
     "name": "stdout",
     "output_type": "stream",
     "text": [
      "(1, 51)\n",
      "(1, 51, 48)\n",
      "(1, 51, 48)\n",
      "(1, 51)\n",
      "(1, 51, 48)\n",
      "(1, 51, 48)\n"
     ]
    },
    {
     "name": "stderr",
     "output_type": "stream",
     "text": [
      "warmup:  27%|██▋       | 80/300 [00:35<03:00,  1.22it/s, 1023 steps of size 1.96e-03. acc. prob=0.75]]"
     ]
    },
    {
     "name": "stdout",
     "output_type": "stream",
     "text": [
      "['Alabama']\n",
      "['Alaska']\n",
      "['Arizona']\n",
      "['Arkansas']\n",
      "['California']\n",
      "['Colorado']\n",
      "['Connecticut']\n",
      "['Delaware']\n",
      "['District of Columbia']\n",
      "['Florida']\n",
      "['Georgia']\n",
      "['Hawaii']\n",
      "['Idaho']\n",
      "['Illinois']\n",
      "['Indiana']\n",
      "['Iowa']\n",
      "['Kansas']\n",
      "['Kentucky']\n",
      "['Louisiana']\n",
      "['Maine']\n",
      "['Maryland']\n",
      "['Massachusetts']\n",
      "['Michigan']\n",
      "['Minnesota']\n",
      "['Mississippi']\n",
      "['Missouri']\n",
      "['Montana']\n",
      "['Nebraska']\n",
      "['Nevada']\n"
     ]
    },
    {
     "name": "stderr",
     "output_type": "stream",
     "text": [
      "sample:  92%|█████████▏| 276/300 [02:52<00:17,  1.34it/s, 1023 steps of size 7.29e-04. acc. prob=0.85]"
     ]
    },
    {
     "name": "stdout",
     "output_type": "stream",
     "text": [
      "['New Hampshire']\n",
      "['New Jersey']\n",
      "['New Mexico']\n",
      "['New York']\n",
      "['North Carolina']\n",
      "['North Dakota']\n",
      "['Ohio']\n",
      "['Oklahoma']\n",
      "['Oregon']\n",
      "['Pennsylvania']\n",
      "['Rhode Island']\n",
      "['South Carolina']\n",
      "['South Dakota']\n",
      "['Tennessee']\n",
      "['Texas']\n",
      "['Utah']\n",
      "['Vermont']\n",
      "['Virginia']\n",
      "['Washington']\n",
      "['West Virginia']\n",
      "['Wisconsin']\n",
      "['Wyoming']\n",
      "['Alabama', 'Arkansas', 'Georgia', 'Idaho', 'Kentucky', 'Louisiana', 'Mississippi', 'Missouri', 'Oklahoma', 'South Dakota', 'Tennessee', 'Texas', 'West Virginia', 'Wisconsin']\n"
     ]
    },
    {
     "name": "stderr",
     "output_type": "stream",
     "text": [
      "warmup:  28%|██▊       | 85/300 [00:39<02:45,  1.30it/s, 1023 steps of size 1.38e-03. acc. prob=0.75]]"
     ]
    },
    {
     "name": "stdout",
     "output_type": "stream",
     "text": [
      "(4, 51)\n"
     ]
    },
    {
     "name": "stderr",
     "output_type": "stream",
     "text": [
      "warmup:  29%|██▊       | 86/300 [00:39<02:47,  1.28it/s, 1023 steps of size 1.02e-03. acc. prob=0.74]]"
     ]
    },
    {
     "name": "stdout",
     "output_type": "stream",
     "text": [
      "(4, 51, 48)\n",
      "(4, 51, 48)\n"
     ]
    },
    {
     "name": "stderr",
     "output_type": "stream",
     "text": [
      "sample:  58%|█████▊    | 174/300 [02:20<02:09,  1.03s/it, 1023 steps of size 6.08e-04. acc. prob=0.81]"
     ]
    },
    {
     "name": "stdout",
     "output_type": "stream",
     "text": [
      "(4, 51)\n"
     ]
    },
    {
     "name": "stderr",
     "output_type": "stream",
     "text": [
      "warmup:  26%|██▌       | 78/300 [00:36<02:45,  1.34it/s, 1023 steps of size 1.28e-03. acc. prob=0.74]"
     ]
    },
    {
     "name": "stdout",
     "output_type": "stream",
     "text": [
      "(4, 51, 48)\n",
      "(4, 51, 48)\n"
     ]
    },
    {
     "name": "stderr",
     "output_type": "stream",
     "text": [
      "sample: 100%|██████████| 300/300 [03:09<00:00,  1.58it/s, 1023 steps of size 7.29e-04. acc. prob=0.85]\n",
      "sample:  61%|██████    | 183/300 [02:30<02:07,  1.09s/it, 1023 steps of size 6.08e-04. acc. prob=0.81]"
     ]
    },
    {
     "name": "stdout",
     "output_type": "stream",
     "text": [
      "['mu', 'te', 'disp']\n"
     ]
    },
    {
     "name": "stderr",
     "output_type": "stream",
     "text": [
      "sample:  36%|███▌      | 107/300 [00:55<02:31,  1.27it/s, 1023 steps of size 6.35e-04. acc. prob=0.90]"
     ]
    },
    {
     "name": "stdout",
     "output_type": "stream",
     "text": [
      "['ypred']\n"
     ]
    },
    {
     "name": "stderr",
     "output_type": "stream",
     "text": [
      "warmup:  26%|██▋       | 79/300 [00:25<02:12,  1.67it/s, 1023 steps of size 9.26e-04. acc. prob=0.74]]"
     ]
    },
    {
     "name": "stdout",
     "output_type": "stream",
     "text": [
      "(4, 51)\n",
      "(4, 51, 48)\n",
      "(4, 51, 48)\n"
     ]
    },
    {
     "name": "stderr",
     "output_type": "stream",
     "text": [
      "warmup:  27%|██▋       | 81/300 [00:26<02:09,  1.69it/s, 1023 steps of size 1.28e-03. acc. prob=0.74]]"
     ]
    },
    {
     "name": "stdout",
     "output_type": "stream",
     "text": [
      "(4, 51)\n",
      "(4, 51, 48)\n",
      "(4, 51, 48)\n",
      "(4, 51)\n",
      "(4, 51, 48)\n",
      "(4, 51, 48)\n"
     ]
    },
    {
     "name": "stderr",
     "output_type": "stream",
     "text": [
      "sample:  71%|███████▏  | 214/300 [03:01<01:34,  1.10s/it, 1023 steps of size 4.19e-04. acc. prob=0.91]"
     ]
    },
    {
     "name": "stdout",
     "output_type": "stream",
     "text": [
      "['Alabama']\n",
      "['Alaska']\n",
      "['Arizona']\n",
      "['Arkansas']\n",
      "['California']\n",
      "['Colorado']\n",
      "['Connecticut']\n",
      "['Delaware']\n",
      "['District of Columbia']\n",
      "['Florida']\n",
      "['Georgia']\n",
      "['Hawaii']\n",
      "['Idaho']\n",
      "['Illinois']\n",
      "['Indiana']\n",
      "['Iowa']\n",
      "['Kansas']\n",
      "['Kentucky']\n",
      "['Louisiana']\n",
      "['Maine']\n",
      "['Maryland']\n"
     ]
    },
    {
     "name": "stderr",
     "output_type": "stream",
     "text": [
      "warmup:  12%|█▏        | 35/300 [00:03<00:13, 20.33it/s, 3 steps of size 4.06e-04. acc. prob=0.69].81]"
     ]
    },
    {
     "name": "stdout",
     "output_type": "stream",
     "text": [
      "['Massachusetts']\n",
      "['Michigan']\n",
      "['Minnesota']\n",
      "['Mississippi']\n",
      "['Missouri']\n",
      "['Montana']\n",
      "['Nebraska']\n",
      "['Nevada']\n",
      "['New Hampshire']\n",
      "['New Jersey']\n",
      "['New Mexico']\n",
      "['New York']\n",
      "['North Carolina']\n",
      "['North Dakota']\n",
      "['Ohio']\n",
      "['Oklahoma']\n",
      "['Oregon']\n",
      "['Pennsylvania']\n",
      "['Rhode Island']\n",
      "['South Carolina']\n",
      "['South Dakota']\n",
      "['Tennessee']\n",
      "['Texas']\n",
      "['Utah']\n",
      "['Vermont']\n",
      "['Virginia']\n"
     ]
    },
    {
     "name": "stderr",
     "output_type": "stream",
     "text": [
      "warmup:  29%|██▊       | 86/300 [00:29<02:17,  1.56it/s, 1023 steps of size 8.64e-04. acc. prob=0.74]]"
     ]
    },
    {
     "name": "stdout",
     "output_type": "stream",
     "text": [
      "['Washington']\n",
      "['West Virginia']\n",
      "['Wisconsin']\n",
      "['Wyoming']\n",
      "['Alabama', 'Arkansas', 'Georgia', 'Idaho', 'Kentucky', 'Louisiana', 'Mississippi', 'Missouri', 'Oklahoma', 'South Dakota', 'Tennessee', 'Texas', 'West Virginia', 'Wisconsin']\n"
     ]
    },
    {
     "name": "stderr",
     "output_type": "stream",
     "text": [
      "sample:  35%|███▍      | 104/300 [00:55<02:29,  1.31it/s, 1023 steps of size 6.76e-04. acc. prob=0.96]"
     ]
    },
    {
     "name": "stdout",
     "output_type": "stream",
     "text": [
      "(4, 51)\n"
     ]
    },
    {
     "name": "stderr",
     "output_type": "stream",
     "text": [
      "sample:  39%|███▉      | 117/300 [01:06<02:32,  1.20it/s, 1023 steps of size 4.24e-04. acc. prob=0.91]"
     ]
    },
    {
     "name": "stdout",
     "output_type": "stream",
     "text": [
      "(4, 51, 48)\n",
      "(4, 51, 48)\n"
     ]
    },
    {
     "name": "stderr",
     "output_type": "stream",
     "text": [
      "sample:  34%|███▎      | 101/300 [00:38<01:53,  1.75it/s, 1023 steps of size 4.80e-04. acc. prob=0.97]"
     ]
    },
    {
     "name": "stdout",
     "output_type": "stream",
     "text": [
      "(4, 51)\n"
     ]
    },
    {
     "name": "stderr",
     "output_type": "stream",
     "text": [
      "sample:  41%|████      | 123/300 [01:11<02:20,  1.26it/s, 1023 steps of size 4.24e-04. acc. prob=0.91]"
     ]
    },
    {
     "name": "stdout",
     "output_type": "stream",
     "text": [
      "(4, 51, 48)\n",
      "(4, 51, 48)\n"
     ]
    },
    {
     "name": "stderr",
     "output_type": "stream",
     "text": [
      "sample:  78%|███████▊  | 234/300 [03:22<01:06,  1.01s/it, 1023 steps of size 4.19e-04. acc. prob=0.91]"
     ]
    },
    {
     "name": "stdout",
     "output_type": "stream",
     "text": [
      "(4, 51)\n",
      "(4, 51, 48)\n",
      "(4, 51, 48)\n"
     ]
    },
    {
     "name": "stderr",
     "output_type": "stream",
     "text": [
      "sample:  70%|███████   | 210/300 [02:58<01:33,  1.04s/it, 1023 steps of size 6.08e-04. acc. prob=0.80]"
     ]
    },
    {
     "name": "stdout",
     "output_type": "stream",
     "text": [
      "(4, 51)\n",
      "(4, 51, 48)\n",
      "(4, 51, 48)\n",
      "(4, 51)\n",
      "(4, 51, 48)\n",
      "(4, 51, 48)\n"
     ]
    },
    {
     "name": "stderr",
     "output_type": "stream",
     "text": [
      "sample: 100%|██████████| 300/300 [04:29<00:00,  1.11it/s, 1023 steps of size 4.19e-04. acc. prob=0.91]\n",
      "sample:  73%|███████▎  | 218/300 [02:20<01:03,  1.29it/s, 1023 steps of size 6.76e-04. acc. prob=0.86]"
     ]
    },
    {
     "name": "stdout",
     "output_type": "stream",
     "text": [
      "['mu', 'te', 'disp']\n"
     ]
    },
    {
     "name": "stderr",
     "output_type": "stream",
     "text": [
      "sample:  74%|███████▎  | 221/300 [02:22<01:00,  1.30it/s, 1023 steps of size 6.76e-04. acc. prob=0.85]"
     ]
    },
    {
     "name": "stdout",
     "output_type": "stream",
     "text": [
      "['ypred']\n"
     ]
    },
    {
     "name": "stderr",
     "output_type": "stream",
     "text": [
      "sample:  75%|███████▌  | 226/300 [02:26<00:55,  1.35it/s, 1023 steps of size 6.76e-04. acc. prob=0.85]"
     ]
    },
    {
     "name": "stdout",
     "output_type": "stream",
     "text": [
      "['Alabama']\n",
      "['Alaska']\n",
      "['Arizona']\n",
      "['Arkansas']\n",
      "['California']\n",
      "['Colorado']\n",
      "['Connecticut']\n",
      "['Delaware']\n",
      "['District of Columbia']\n",
      "['Florida']\n",
      "['Georgia']\n",
      "['Hawaii']\n",
      "['Idaho']\n",
      "['Illinois']\n",
      "['Indiana']\n",
      "['Iowa']\n",
      "['Kansas']\n",
      "['Kentucky']\n",
      "['Louisiana']\n",
      "['Maine']\n",
      "['Maryland']\n",
      "['Massachusetts']\n",
      "['Michigan']\n",
      "['Minnesota']\n",
      "['Mississippi']\n",
      "['Missouri']\n",
      "['Montana']\n",
      "['Nebraska']\n",
      "['Nevada']\n",
      "['New Hampshire']\n",
      "['New Jersey']\n",
      "['New Mexico']\n"
     ]
    },
    {
     "name": "stderr",
     "output_type": "stream",
     "text": [
      "sample:  43%|████▎     | 129/300 [01:37<03:15,  1.14s/it, 1023 steps of size 7.33e-04. acc. prob=0.81]"
     ]
    },
    {
     "name": "stdout",
     "output_type": "stream",
     "text": [
      "['New York']\n",
      "['North Carolina']\n",
      "['North Dakota']\n",
      "['Ohio']\n",
      "['Oklahoma']\n",
      "['Oregon']\n",
      "['Pennsylvania']\n",
      "['Rhode Island']\n",
      "['South Carolina']\n"
     ]
    },
    {
     "name": "stderr",
     "output_type": "stream",
     "text": [
      "sample:  80%|███████▉  | 239/300 [02:35<00:48,  1.26it/s, 1023 steps of size 6.35e-04. acc. prob=0.85]"
     ]
    },
    {
     "name": "stdout",
     "output_type": "stream",
     "text": [
      "['South Dakota']\n",
      "['Tennessee']\n",
      "['Texas']\n",
      "['Utah']\n",
      "['Vermont']\n",
      "['Virginia']\n",
      "['Washington']\n",
      "['West Virginia']\n",
      "['Wisconsin']\n",
      "['Wyoming']\n",
      "['Alabama', 'Arkansas', 'Georgia', 'Idaho', 'Kentucky', 'Louisiana', 'Mississippi', 'Missouri', 'Oklahoma', 'South Dakota', 'Tennessee', 'Texas', 'West Virginia', 'Wisconsin']\n"
     ]
    },
    {
     "name": "stderr",
     "output_type": "stream",
     "text": [
      "sample:  95%|█████████▍| 284/300 [04:14<00:17,  1.07s/it, 1023 steps of size 6.08e-04. acc. prob=0.82]"
     ]
    },
    {
     "name": "stdout",
     "output_type": "stream",
     "text": [
      "(3, 51)\n"
     ]
    },
    {
     "name": "stderr",
     "output_type": "stream",
     "text": [
      "sample:  77%|███████▋  | 231/300 [02:30<00:52,  1.31it/s, 1023 steps of size 6.76e-04. acc. prob=0.85]"
     ]
    },
    {
     "name": "stdout",
     "output_type": "stream",
     "text": [
      "(3, 51, 48)\n",
      "(3, 51, 48)\n"
     ]
    },
    {
     "name": "stderr",
     "output_type": "stream",
     "text": [
      "sample:  86%|████████▋ | 259/300 [02:12<00:24,  1.67it/s, 1023 steps of size 4.80e-04. acc. prob=0.90]"
     ]
    },
    {
     "name": "stdout",
     "output_type": "stream",
     "text": [
      "(3, 51)\n"
     ]
    },
    {
     "name": "stderr",
     "output_type": "stream",
     "text": [
      "sample:  80%|███████▉  | 239/300 [02:45<00:50,  1.22it/s, 1023 steps of size 4.24e-04. acc. prob=0.91]"
     ]
    },
    {
     "name": "stdout",
     "output_type": "stream",
     "text": [
      "(3, 51, 48)\n",
      "(3, 51, 48)\n"
     ]
    },
    {
     "name": "stderr",
     "output_type": "stream",
     "text": [
      "sample:  83%|████████▎ | 250/300 [02:54<00:42,  1.18it/s, 1023 steps of size 4.24e-04. acc. prob=0.91]"
     ]
    },
    {
     "name": "stdout",
     "output_type": "stream",
     "text": [
      "(3, 51)\n",
      "(3, 51, 48)\n",
      "(3, 51, 48)\n"
     ]
    },
    {
     "name": "stderr",
     "output_type": "stream",
     "text": [
      "sample:  92%|█████████▏| 276/300 [02:22<00:14,  1.64it/s, 1023 steps of size 4.80e-04. acc. prob=0.90]"
     ]
    },
    {
     "name": "stdout",
     "output_type": "stream",
     "text": [
      "(3, 51)\n",
      "(3, 51, 48)\n",
      "(3, 51, 48)\n",
      "(3, 51)\n",
      "(3, 51, 48)\n",
      "(3, 51, 48)\n"
     ]
    },
    {
     "name": "stderr",
     "output_type": "stream",
     "text": [
      "sample: 100%|██████████| 300/300 [04:30<00:00,  1.11it/s, 1023 steps of size 6.08e-04. acc. prob=0.82]\n",
      "sample:  39%|███▉      | 118/300 [01:34<03:44,  1.23s/it, 1023 steps of size 5.10e-04. acc. prob=0.90]"
     ]
    },
    {
     "name": "stdout",
     "output_type": "stream",
     "text": [
      "['mu', 'te', 'disp']\n"
     ]
    },
    {
     "name": "stderr",
     "output_type": "stream",
     "text": [
      "sample:  95%|█████████▍| 284/300 [02:27<00:10,  1.59it/s, 1023 steps of size 4.80e-04. acc. prob=0.90]"
     ]
    },
    {
     "name": "stdout",
     "output_type": "stream",
     "text": [
      "['ypred']\n"
     ]
    },
    {
     "name": "stderr",
     "output_type": "stream",
     "text": [
      "warmup:  18%|█▊        | 53/300 [00:13<01:36,  2.55it/s, 1023 steps of size 7.61e-04. acc. prob=0.72]]"
     ]
    },
    {
     "name": "stdout",
     "output_type": "stream",
     "text": [
      "['Alabama']\n",
      "['Alaska']\n",
      "['Arizona']\n",
      "['Arkansas']\n",
      "['California']\n",
      "['Colorado']\n",
      "['Connecticut']\n",
      "['Delaware']\n",
      "['District of Columbia']\n",
      "['Florida']\n",
      "['Georgia']\n",
      "['Hawaii']\n",
      "['Idaho']\n",
      "['Illinois']\n",
      "['Indiana']\n",
      "['Iowa']\n",
      "['Kansas']\n",
      "['Kentucky']\n",
      "['Louisiana']\n",
      "['Maine']\n",
      "['Maryland']\n",
      "['Massachusetts']\n",
      "['Michigan']\n",
      "['Minnesota']\n"
     ]
    },
    {
     "name": "stderr",
     "output_type": "stream",
     "text": [
      "sample:  42%|████▏     | 127/300 [01:45<03:23,  1.18s/it, 1023 steps of size 5.10e-04. acc. prob=0.90]"
     ]
    },
    {
     "name": "stdout",
     "output_type": "stream",
     "text": [
      "['Mississippi']\n",
      "['Missouri']\n",
      "['Montana']\n",
      "['Nebraska']\n",
      "['Nevada']\n",
      "['New Hampshire']\n",
      "['New Jersey']\n",
      "['New Mexico']\n",
      "['New York']\n",
      "['North Carolina']\n",
      "['North Dakota']\n",
      "['Ohio']\n",
      "['Oklahoma']\n",
      "['Oregon']\n",
      "['Pennsylvania']\n",
      "['Rhode Island']\n",
      "['South Carolina']\n",
      "['South Dakota']\n",
      "['Tennessee']\n",
      "['Texas']\n",
      "['Utah']\n",
      "['Vermont']\n",
      "['Virginia']\n",
      "['Washington']\n",
      "['West Virginia']\n",
      "['Wisconsin']\n",
      "['Wyoming']\n",
      "['Alabama', 'Arkansas', 'Georgia', 'Idaho', 'Kentucky', 'Louisiana', 'Mississippi', 'Missouri', 'Oklahoma', 'South Dakota', 'Tennessee', 'Texas', 'West Virginia', 'Wisconsin']\n"
     ]
    },
    {
     "name": "stderr",
     "output_type": "stream",
     "text": [
      "sample: 100%|██████████| 300/300 [02:37<00:00,  1.91it/s, 1023 steps of size 4.80e-04. acc. prob=0.90]\n",
      "sample:  91%|█████████ | 272/300 [03:01<00:21,  1.29it/s, 1023 steps of size 6.76e-04. acc. prob=0.86]"
     ]
    },
    {
     "name": "stdout",
     "output_type": "stream",
     "text": [
      "['mu', 'te', 'disp']\n"
     ]
    },
    {
     "name": "stderr",
     "output_type": "stream",
     "text": [
      "sample:  95%|█████████▍| 284/300 [03:10<00:12,  1.26it/s, 1023 steps of size 6.35e-04. acc. prob=0.85]"
     ]
    },
    {
     "name": "stdout",
     "output_type": "stream",
     "text": [
      "(2, 51)\n"
     ]
    },
    {
     "name": "stderr",
     "output_type": "stream",
     "text": [
      "sample:  90%|█████████ | 271/300 [03:12<00:25,  1.15it/s, 1023 steps of size 4.24e-04. acc. prob=0.91]"
     ]
    },
    {
     "name": "stdout",
     "output_type": "stream",
     "text": [
      "['ypred']\n"
     ]
    },
    {
     "name": "stderr",
     "output_type": "stream",
     "text": [
      "sample:  91%|█████████ | 273/300 [03:02<00:21,  1.28it/s, 1023 steps of size 6.76e-04. acc. prob=0.86]"
     ]
    },
    {
     "name": "stdout",
     "output_type": "stream",
     "text": [
      "(2, 51, 48)\n",
      "(2, 51, 48)\n"
     ]
    },
    {
     "name": "stderr",
     "output_type": "stream",
     "text": [
      "sample:  91%|█████████ | 272/300 [03:13<00:24,  1.15it/s, 1023 steps of size 4.24e-04. acc. prob=0.91]"
     ]
    },
    {
     "name": "stdout",
     "output_type": "stream",
     "text": [
      "['Alabama']\n",
      "['Alaska']\n",
      "['Arizona']\n",
      "['Arkansas']\n",
      "['California']\n",
      "['Colorado']\n",
      "['Connecticut']\n",
      "['Delaware']\n",
      "['District of Columbia']\n",
      "['Florida']\n",
      "['Georgia']\n",
      "['Hawaii']\n",
      "['Idaho']\n",
      "['Illinois']\n",
      "['Indiana']\n",
      "['Iowa']\n",
      "['Kansas']\n",
      "['Kentucky']\n",
      "['Louisiana']\n",
      "['Maine']\n",
      "['Maryland']\n",
      "['Massachusetts']\n",
      "['Michigan']\n",
      "['Minnesota']\n",
      "['Mississippi']\n",
      "['Missouri']\n",
      "['Montana']\n",
      "['Nebraska']\n",
      "['Nevada']\n",
      "['New Hampshire']\n",
      "['New Jersey']\n",
      "['New Mexico']\n",
      "['New York']\n",
      "['North Carolina']\n",
      "['North Dakota']\n",
      "['Ohio']\n",
      "['Oklahoma']\n",
      "['Oregon']\n"
     ]
    },
    {
     "name": "stderr",
     "output_type": "stream",
     "text": [
      "sample:  91%|█████████▏| 274/300 [03:03<00:20,  1.27it/s, 1023 steps of size 6.76e-04. acc. prob=0.86]"
     ]
    },
    {
     "name": "stdout",
     "output_type": "stream",
     "text": [
      "['Pennsylvania']\n",
      "['Rhode Island']\n",
      "['South Carolina']\n",
      "['South Dakota']\n",
      "['Tennessee']\n",
      "['Texas']\n",
      "['Utah']\n",
      "['Vermont']\n",
      "['Virginia']\n",
      "['Washington']\n",
      "['West Virginia']\n",
      "['Wisconsin']\n",
      "['Wyoming']\n",
      "['Alabama', 'Arkansas', 'Georgia', 'Idaho', 'Kentucky', 'Louisiana', 'Mississippi', 'Missouri', 'Oklahoma', 'South Dakota', 'Tennessee', 'Texas', 'West Virginia', 'Wisconsin']\n"
     ]
    },
    {
     "name": "stderr",
     "output_type": "stream",
     "text": [
      "sample:  44%|████▍     | 133/300 [01:52<03:16,  1.18s/it, 1023 steps of size 5.10e-04. acc. prob=0.89]"
     ]
    },
    {
     "name": "stdout",
     "output_type": "stream",
     "text": [
      "(2, 50)\n"
     ]
    },
    {
     "name": "stderr",
     "output_type": "stream",
     "text": [
      "sample:  97%|█████████▋| 290/300 [03:15<00:07,  1.29it/s, 1023 steps of size 6.35e-04. acc. prob=0.85]"
     ]
    },
    {
     "name": "stdout",
     "output_type": "stream",
     "text": [
      "(2, 50, 48)\n",
      "(2, 50, 48)\n",
      "(2, 51)\n"
     ]
    },
    {
     "name": "stderr",
     "output_type": "stream",
     "text": [
      "sample:  92%|█████████▏| 277/300 [03:17<00:19,  1.20it/s, 1023 steps of size 4.24e-04. acc. prob=0.91]"
     ]
    },
    {
     "name": "stdout",
     "output_type": "stream",
     "text": [
      "(2, 51, 48)\n",
      "(2, 51, 48)\n"
     ]
    },
    {
     "name": "stderr",
     "output_type": "stream",
     "text": [
      "sample:  46%|████▌     | 137/300 [01:56<03:04,  1.13s/it, 1023 steps of size 5.10e-04. acc. prob=0.89]"
     ]
    },
    {
     "name": "stdout",
     "output_type": "stream",
     "text": [
      "(2, 50)\n"
     ]
    },
    {
     "name": "stderr",
     "output_type": "stream",
     "text": [
      "warmup:  22%|██▏       | 66/300 [00:25<03:00,  1.30it/s, 1023 steps of size 7.58e-04. acc. prob=0.73]]"
     ]
    },
    {
     "name": "stdout",
     "output_type": "stream",
     "text": [
      "(2, 50, 48)\n",
      "(2, 50, 48)\n"
     ]
    },
    {
     "name": "stderr",
     "output_type": "stream",
     "text": [
      "sample: 100%|██████████| 300/300 [03:22<00:00,  1.48it/s, 1023 steps of size 6.35e-04. acc. prob=0.85]\n",
      "warmup:  24%|██▎       | 71/300 [00:30<03:30,  1.09it/s, 1023 steps of size 1.61e-03. acc. prob=0.74]]"
     ]
    },
    {
     "name": "stdout",
     "output_type": "stream",
     "text": [
      "['mu', 'te', 'disp']\n"
     ]
    },
    {
     "name": "stderr",
     "output_type": "stream",
     "text": [
      "sample:  97%|█████████▋| 292/300 [03:16<00:06,  1.27it/s, 1023 steps of size 6.76e-04. acc. prob=0.86]"
     ]
    },
    {
     "name": "stdout",
     "output_type": "stream",
     "text": [
      "['ypred']\n"
     ]
    },
    {
     "name": "stderr",
     "output_type": "stream",
     "text": [
      "sample:  97%|█████████▋| 290/300 [03:28<00:08,  1.18it/s, 1023 steps of size 4.24e-04. acc. prob=0.91]"
     ]
    },
    {
     "name": "stdout",
     "output_type": "stream",
     "text": [
      "(2, 51)\n",
      "(2, 51, 48)\n",
      "(2, 51, 48)\n"
     ]
    },
    {
     "name": "stderr",
     "output_type": "stream",
     "text": [
      "warmup:  25%|██▍       | 74/300 [00:33<03:32,  1.06it/s, 1023 steps of size 1.09e-03. acc. prob=0.74]]"
     ]
    },
    {
     "name": "stdout",
     "output_type": "stream",
     "text": [
      "['Alabama']\n",
      "['Alaska']\n",
      "['Arizona']\n",
      "['Arkansas']\n",
      "['California']\n",
      "['Colorado']\n",
      "['Connecticut']\n",
      "['Delaware']\n",
      "['District of Columbia']\n",
      "['Florida']\n",
      "['Georgia']\n",
      "['Hawaii']\n",
      "['Idaho']\n",
      "['Illinois']\n",
      "['Indiana']\n",
      "['Iowa']\n",
      "['Kansas']\n",
      "['Kentucky']\n",
      "['Louisiana']\n",
      "['Maine']\n",
      "['Maryland']\n",
      "['Massachusetts']\n",
      "['Michigan']\n",
      "['Minnesota']\n",
      "['Mississippi']\n",
      "['Missouri']\n"
     ]
    },
    {
     "name": "stderr",
     "output_type": "stream",
     "text": [
      "sample:  48%|████▊     | 144/300 [02:05<03:02,  1.17s/it, 1023 steps of size 5.10e-04. acc. prob=0.89]"
     ]
    },
    {
     "name": "stdout",
     "output_type": "stream",
     "text": [
      "['Montana']\n",
      "['Nebraska']\n",
      "['Nevada']\n",
      "['New Hampshire']\n",
      "['New Jersey']\n",
      "['New Mexico']\n",
      "['New York']\n",
      "['North Carolina']\n",
      "['North Dakota']\n",
      "['Ohio']\n",
      "['Oklahoma']\n",
      "['Oregon']\n",
      "['Pennsylvania']\n",
      "['Rhode Island']\n",
      "['South Carolina']\n",
      "['South Dakota']\n",
      "['Tennessee']\n",
      "['Texas']\n",
      "['Utah']\n",
      "['Vermont']\n",
      "['Virginia']\n",
      "['Washington']\n"
     ]
    },
    {
     "name": "stderr",
     "output_type": "stream",
     "text": [
      "  0%|          | 0/300 [00:00<?, ?it/s]<00:07,  1.19it/s, 1023 steps of size 4.24e-04. acc. prob=0.91]"
     ]
    },
    {
     "name": "stdout",
     "output_type": "stream",
     "text": [
      "['West Virginia']\n",
      "['Wisconsin']\n",
      "['Wyoming']\n",
      "['Alabama', 'Arkansas', 'Georgia', 'Idaho', 'Kentucky', 'Louisiana', 'Mississippi', 'Missouri', 'Oklahoma', 'South Dakota', 'Tennessee', 'Texas', 'West Virginia', 'Wisconsin']\n",
      "(2, 51)\n",
      "(2, 51, 48)\n",
      "(2, 51, 48)\n"
     ]
    },
    {
     "name": "stderr",
     "output_type": "stream",
     "text": [
      "sample:  58%|█████▊    | 174/300 [02:30<02:32,  1.21s/it, 1023 steps of size 7.33e-04. acc. prob=0.83]"
     ]
    },
    {
     "name": "stdout",
     "output_type": "stream",
     "text": [
      "(2, 51)\n",
      "(2, 51, 48)\n",
      "(2, 51, 48)\n"
     ]
    },
    {
     "name": "stderr",
     "output_type": "stream",
     "text": [
      "sample:  99%|█████████▊| 296/300 [03:19<00:03,  1.27it/s, 1023 steps of size 6.76e-04. acc. prob=0.86]"
     ]
    },
    {
     "name": "stdout",
     "output_type": "stream",
     "text": [
      "(2, 50)\n",
      "(2, 50, 48)\n",
      "(2, 50, 48)\n"
     ]
    },
    {
     "name": "stderr",
     "output_type": "stream",
     "text": [
      "  0%|          | 0/300 [00:00<?, ?it/s]<00:02,  1.28it/s, 1023 steps of size 6.76e-04. acc. prob=0.86]"
     ]
    },
    {
     "name": "stdout",
     "output_type": "stream",
     "text": [
      "(2, 50)\n",
      "(2, 50, 48)\n",
      "(2, 50, 48)\n",
      "(2, 50)\n",
      "(2, 50, 48)\n",
      "(2, 50, 48)\n",
      "(1, 51)\n"
     ]
    },
    {
     "name": "stderr",
     "output_type": "stream",
     "text": [
      "warmup:   5%|▌         | 15/300 [00:03<00:41,  6.80it/s, 31 steps of size 1.54e-03. acc. prob=0.61]83]"
     ]
    },
    {
     "name": "stdout",
     "output_type": "stream",
     "text": [
      "(1, 51, 48)\n",
      "(1, 51, 48)\n"
     ]
    },
    {
     "name": "stderr",
     "output_type": "stream",
     "text": [
      "sample: 100%|██████████| 300/300 [03:23<00:00,  1.48it/s, 1023 steps of size 6.76e-04. acc. prob=0.86]\n",
      "warmup:  16%|█▌        | 47/300 [00:06<00:36,  6.85it/s, 1023 steps of size 1.52e-03. acc. prob=0.72]]"
     ]
    },
    {
     "name": "stdout",
     "output_type": "stream",
     "text": [
      "['mu', 'te', 'disp']\n"
     ]
    },
    {
     "name": "stderr",
     "output_type": "stream",
     "text": [
      "sample:  50%|█████     | 150/300 [02:12<03:09,  1.26s/it, 1023 steps of size 5.10e-04. acc. prob=0.89]"
     ]
    },
    {
     "name": "stdout",
     "output_type": "stream",
     "text": [
      "['ypred']\n"
     ]
    },
    {
     "name": "stderr",
     "output_type": "stream",
     "text": [
      "warmup:  27%|██▋       | 82/300 [00:41<03:35,  1.01it/s, 1023 steps of size 7.89e-04. acc. prob=0.74]"
     ]
    },
    {
     "name": "stdout",
     "output_type": "stream",
     "text": [
      "(1, 51)\n"
     ]
    },
    {
     "name": "stderr",
     "output_type": "stream",
     "text": [
      "sample: 100%|██████████| 300/300 [03:37<00:00,  1.38it/s, 1023 steps of size 4.24e-04. acc. prob=0.91]\n"
     ]
    },
    {
     "name": "stdout",
     "output_type": "stream",
     "text": [
      "(1, 51, 48)\n",
      "(1, 51, 48)\n"
     ]
    },
    {
     "name": "stderr",
     "output_type": "stream",
     "text": [
      "sample:  60%|██████    | 181/300 [02:39<02:30,  1.26s/it, 1023 steps of size 7.33e-04. acc. prob=0.82]"
     ]
    },
    {
     "name": "stdout",
     "output_type": "stream",
     "text": [
      "['mu', 'te', 'disp']\n"
     ]
    },
    {
     "name": "stderr",
     "output_type": "stream",
     "text": [
      "warmup:  16%|█▌        | 48/300 [00:09<00:54,  4.62it/s, 1023 steps of size 9.89e-04. acc. prob=0.72]]"
     ]
    },
    {
     "name": "stdout",
     "output_type": "stream",
     "text": [
      "['ypred']\n"
     ]
    },
    {
     "name": "stderr",
     "output_type": "stream",
     "text": [
      "sample:  61%|██████▏   | 184/300 [02:42<02:22,  1.23s/it, 1023 steps of size 7.33e-04. acc. prob=0.83]"
     ]
    },
    {
     "name": "stdout",
     "output_type": "stream",
     "text": [
      "['Alabama']\n",
      "['Alaska']\n",
      "['Arizona']\n",
      "['Arkansas']\n",
      "['California']\n",
      "['Colorado']\n",
      "['Connecticut']\n",
      "['Delaware']\n",
      "['District of Columbia']\n",
      "['Florida']\n",
      "['Georgia']\n",
      "['Hawaii']\n",
      "['Idaho']\n",
      "['Illinois']\n",
      "['Indiana']\n",
      "['Iowa']\n",
      "['Kansas']\n",
      "['Kentucky']\n",
      "['Louisiana']\n",
      "['Maine']\n",
      "['Maryland']\n",
      "['Massachusetts']\n",
      "['Michigan']\n",
      "['Minnesota']\n",
      "['Mississippi']\n",
      "['Missouri']\n",
      "['Montana']\n",
      "['Nebraska']\n",
      "['Nevada']\n",
      "['New Hampshire']\n",
      "['New Jersey']\n",
      "['New Mexico']\n",
      "['New York']\n",
      "['North Carolina']\n",
      "['North Dakota']\n",
      "['Ohio']\n",
      "['Oklahoma']\n",
      "['Oregon']\n",
      "['Pennsylvania']\n",
      "['Rhode Island']\n",
      "['South Carolina']\n",
      "['South Dakota']\n",
      "['Tennessee']\n",
      "['Texas']\n",
      "['Utah']\n",
      "['Vermont']\n",
      "['Virginia']\n",
      "['Washington']\n",
      "['West Virginia']\n",
      "['Wisconsin']\n",
      "['Wyoming']\n"
     ]
    },
    {
     "name": "stderr",
     "output_type": "stream",
     "text": [
      "sample:  52%|█████▏    | 155/300 [02:18<02:54,  1.20s/it, 1023 steps of size 5.10e-04. acc. prob=0.88]"
     ]
    },
    {
     "name": "stdout",
     "output_type": "stream",
     "text": [
      "['Alabama', 'Arkansas', 'Georgia', 'Idaho', 'Kentucky', 'Louisiana', 'Mississippi', 'Missouri', 'Oklahoma', 'South Dakota', 'Tennessee', 'Texas', 'West Virginia', 'Wisconsin']\n"
     ]
    },
    {
     "name": "stderr",
     "output_type": "stream",
     "text": [
      "warmup:  29%|██▉       | 88/300 [00:47<03:26,  1.02it/s, 1023 steps of size 1.65e-03. acc. prob=0.75]"
     ]
    },
    {
     "name": "stdout",
     "output_type": "stream",
     "text": [
      "['Alabama']\n",
      "['Alaska']\n",
      "['Arizona']\n",
      "['Arkansas']\n",
      "['California']\n",
      "['Colorado']\n",
      "['Connecticut']\n",
      "['Delaware']\n",
      "['District of Columbia']\n",
      "['Florida']\n",
      "['Georgia']\n",
      "['Hawaii']\n",
      "['Idaho']\n",
      "['Illinois']\n",
      "['Indiana']\n",
      "['Iowa']\n",
      "['Kansas']\n",
      "['Kentucky']\n",
      "['Louisiana']\n",
      "['Maine']\n",
      "['Maryland']\n",
      "['Massachusetts']\n",
      "['Michigan']\n",
      "['Minnesota']\n",
      "['Mississippi']\n",
      "['Missouri']\n",
      "['Montana']\n",
      "['Nebraska']\n",
      "['Nevada']\n",
      "['New Hampshire']\n",
      "['New Jersey']\n",
      "['New Mexico']\n",
      "['New York']\n",
      "['North Carolina']\n",
      "['North Dakota']\n",
      "['Ohio']\n",
      "['Oklahoma']\n",
      "['Oregon']\n",
      "['Pennsylvania']\n",
      "['Rhode Island']\n",
      "['South Carolina']\n",
      "['South Dakota']\n",
      "['Tennessee']\n",
      "['Texas']\n",
      "['Utah']\n",
      "['Vermont']\n",
      "['Virginia']\n",
      "['Washington']\n",
      "['West Virginia']\n",
      "['Wisconsin']\n",
      "['Wyoming']\n"
     ]
    },
    {
     "name": "stderr",
     "output_type": "stream",
     "text": [
      "sample:  62%|██████▏   | 185/300 [02:44<02:21,  1.23s/it, 1023 steps of size 7.33e-04. acc. prob=0.83]"
     ]
    },
    {
     "name": "stdout",
     "output_type": "stream",
     "text": [
      "['Alabama', 'Arkansas', 'Georgia', 'Idaho', 'Kentucky', 'Louisiana', 'Mississippi', 'Missouri', 'Oklahoma', 'South Dakota', 'Tennessee', 'Texas', 'West Virginia', 'Wisconsin']\n"
     ]
    },
    {
     "name": "stderr",
     "output_type": "stream",
     "text": [
      "sample:  62%|██████▏   | 187/300 [02:46<02:16,  1.21s/it, 1023 steps of size 7.33e-04. acc. prob=0.83]"
     ]
    },
    {
     "name": "stdout",
     "output_type": "stream",
     "text": [
      "(4, 51)\n",
      "(1, 51)\n",
      "(1, 51, 48)\n",
      "(1, 51, 48)\n",
      "(4, 51)\n",
      "(4, 51, 48)\n",
      "(4, 51, 48)\n"
     ]
    },
    {
     "name": "stderr",
     "output_type": "stream",
     "text": [
      "warmup:  31%|███       | 93/300 [00:51<02:34,  1.34it/s, 1023 steps of size 7.69e-04. acc. prob=0.74]]"
     ]
    },
    {
     "name": "stdout",
     "output_type": "stream",
     "text": [
      "(1, 51)\n",
      "(1, 51, 48)\n",
      "(1, 51, 48)\n",
      "(4, 51, 48)\n",
      "(4, 51, 48)\n",
      "(1, 51)\n",
      "(1, 51, 48)\n",
      "(1, 51, 48)\n"
     ]
    },
    {
     "name": "stderr",
     "output_type": "stream",
     "text": [
      "warmup:  32%|███▏      | 97/300 [00:55<03:08,  1.08it/s, 1023 steps of size 3.93e-04. acc. prob=0.74]]"
     ]
    },
    {
     "name": "stdout",
     "output_type": "stream",
     "text": [
      "(4, 51)\n",
      "(4, 51)\n"
     ]
    },
    {
     "name": "stderr",
     "output_type": "stream",
     "text": [
      "warmup:  20%|██        | 61/300 [00:20<02:00,  1.98it/s, 1023 steps of size 5.89e-04. acc. prob=0.73]]"
     ]
    },
    {
     "name": "stdout",
     "output_type": "stream",
     "text": [
      "(4, 51, 48)\n",
      "(4, 51, 48)\n",
      "(4, 51, 48)\n",
      "(4, 51, 48)\n"
     ]
    },
    {
     "name": "stderr",
     "output_type": "stream",
     "text": [
      "sample:  66%|██████▋   | 199/300 [03:00<02:01,  1.20s/it, 1023 steps of size 7.33e-04. acc. prob=0.83]"
     ]
    },
    {
     "name": "stdout",
     "output_type": "stream",
     "text": [
      "(4, 51)\n",
      "(4, 51, 48)\n",
      "(4, 51, 48)\n"
     ]
    },
    {
     "name": "stderr",
     "output_type": "stream",
     "text": [
      "warmup:  24%|██▍       | 73/300 [00:30<03:00,  1.26it/s, 1023 steps of size 9.50e-04. acc. prob=0.74]]"
     ]
    },
    {
     "name": "stdout",
     "output_type": "stream",
     "text": [
      "(4, 51)\n",
      "(4, 51, 48)\n",
      "(4, 51, 48)\n",
      "(4, 51)\n",
      "(4, 51, 48)\n",
      "(4, 51, 48)\n"
     ]
    },
    {
     "name": "stderr",
     "output_type": "stream",
     "text": [
      "sample:  36%|███▋      | 109/300 [01:06<03:04,  1.03it/s, 1023 steps of size 5.61e-04. acc. prob=0.79]"
     ]
    },
    {
     "name": "stdout",
     "output_type": "stream",
     "text": [
      "(4, 51)\n",
      "(4, 51, 48)\n",
      "(4, 51, 48)\n"
     ]
    },
    {
     "name": "stderr",
     "output_type": "stream",
     "text": [
      "sample:  58%|█████▊    | 173/300 [02:40<02:35,  1.22s/it, 1023 steps of size 5.10e-04. acc. prob=0.89]"
     ]
    },
    {
     "name": "stdout",
     "output_type": "stream",
     "text": [
      "(4, 51)\n",
      "(4, 51, 48)\n",
      "(4, 51, 48)\n",
      "(4, 51)\n",
      "(4, 51, 48)\n",
      "(4, 51, 48)\n"
     ]
    },
    {
     "name": "stderr",
     "output_type": "stream",
     "text": [
      "sample: 100%|██████████| 300/300 [04:56<00:00,  1.01it/s, 1023 steps of size 7.33e-04. acc. prob=0.83]\n",
      "sample:  78%|███████▊  | 233/300 [03:02<01:05,  1.03it/s, 1023 steps of size 5.61e-04. acc. prob=0.81]"
     ]
    },
    {
     "name": "stdout",
     "output_type": "stream",
     "text": [
      "['mu', 'te', 'disp']\n"
     ]
    },
    {
     "name": "stderr",
     "output_type": "stream",
     "text": [
      "sample:  85%|████████▍ | 254/300 [02:13<00:28,  1.60it/s, 1023 steps of size 5.89e-04. acc. prob=0.86]"
     ]
    },
    {
     "name": "stdout",
     "output_type": "stream",
     "text": [
      "['ypred']\n"
     ]
    },
    {
     "name": "stderr",
     "output_type": "stream",
     "text": [
      "sample:  44%|████▍     | 132/300 [02:01<03:20,  1.19s/it, 1023 steps of size 9.71e-04. acc. prob=0.79]"
     ]
    },
    {
     "name": "stdout",
     "output_type": "stream",
     "text": [
      "['Alabama']\n",
      "['Alaska']\n",
      "['Arizona']\n",
      "['Arkansas']\n",
      "['California']\n",
      "['Colorado']\n",
      "['Connecticut']\n",
      "['Delaware']\n",
      "['District of Columbia']\n",
      "['Florida']\n",
      "['Georgia']\n",
      "['Hawaii']\n",
      "['Idaho']\n",
      "['Illinois']\n",
      "['Indiana']\n",
      "['Iowa']\n",
      "['Kansas']\n",
      "['Kentucky']\n",
      "['Louisiana']\n"
     ]
    },
    {
     "name": "stderr",
     "output_type": "stream",
     "text": [
      "sample:  75%|███████▍  | 224/300 [02:32<01:03,  1.20it/s, 1023 steps of size 5.00e-04. acc. prob=0.90]"
     ]
    },
    {
     "name": "stdout",
     "output_type": "stream",
     "text": [
      "['Maine']\n",
      "['Maryland']\n",
      "['Massachusetts']\n",
      "['Michigan']\n",
      "['Minnesota']\n",
      "['Mississippi']\n",
      "['Missouri']\n",
      "['Montana']\n",
      "['Nebraska']\n",
      "['Nevada']\n",
      "['New Hampshire']\n",
      "['New Jersey']\n",
      "['New Mexico']\n",
      "['New York']\n",
      "['North Carolina']\n",
      "['North Dakota']\n",
      "['Ohio']\n",
      "['Oklahoma']\n",
      "['Oregon']\n",
      "['Pennsylvania']\n",
      "['Rhode Island']\n",
      "['South Carolina']\n",
      "['South Dakota']\n",
      "['Tennessee']\n",
      "['Texas']\n",
      "['Utah']\n",
      "['Vermont']\n",
      "['Virginia']\n",
      "['Washington']\n",
      "['West Virginia']\n",
      "['Wisconsin']\n",
      "['Wyoming']\n",
      "['Alabama', 'Arkansas', 'Georgia', 'Idaho', 'Kentucky', 'Louisiana', 'Mississippi', 'Missouri', 'Oklahoma', 'South Dakota', 'Tennessee', 'Texas', 'West Virginia', 'Wisconsin']\n"
     ]
    },
    {
     "name": "stderr",
     "output_type": "stream",
     "text": [
      "sample:  45%|████▌     | 136/300 [02:02<03:18,  1.21s/it, 1023 steps of size 8.82e-04. acc. prob=0.72]"
     ]
    },
    {
     "name": "stdout",
     "output_type": "stream",
     "text": [
      "(3, 51)\n"
     ]
    },
    {
     "name": "stderr",
     "output_type": "stream",
     "text": [
      "sample:  76%|███████▌  | 228/300 [02:35<00:59,  1.20it/s, 1023 steps of size 5.00e-04. acc. prob=0.90]"
     ]
    },
    {
     "name": "stdout",
     "output_type": "stream",
     "text": [
      "(3, 51, 48)\n",
      "(3, 51, 48)\n"
     ]
    },
    {
     "name": "stderr",
     "output_type": "stream",
     "text": [
      "sample:  47%|████▋     | 140/300 [02:07<03:23,  1.27s/it, 1023 steps of size 8.82e-04. acc. prob=0.73]"
     ]
    },
    {
     "name": "stdout",
     "output_type": "stream",
     "text": [
      "(3, 51)\n"
     ]
    },
    {
     "name": "stderr",
     "output_type": "stream",
     "text": [
      "sample:  78%|███████▊  | 234/300 [02:40<00:55,  1.19it/s, 1023 steps of size 5.00e-04. acc. prob=0.90]"
     ]
    },
    {
     "name": "stdout",
     "output_type": "stream",
     "text": [
      "(3, 51, 48)\n",
      "(3, 51, 48)\n"
     ]
    },
    {
     "name": "stderr",
     "output_type": "stream",
     "text": [
      "sample:  96%|█████████▌| 287/300 [02:34<00:08,  1.60it/s, 1023 steps of size 5.89e-04. acc. prob=0.86]"
     ]
    },
    {
     "name": "stdout",
     "output_type": "stream",
     "text": [
      "(3, 51)\n",
      "(3, 51, 48)\n",
      "(3, 51, 48)\n"
     ]
    },
    {
     "name": "stderr",
     "output_type": "stream",
     "text": [
      "sample:  96%|█████████▋| 289/300 [02:35<00:06,  1.60it/s, 1023 steps of size 5.89e-04. acc. prob=0.86]"
     ]
    },
    {
     "name": "stdout",
     "output_type": "stream",
     "text": [
      "(3, 51)\n",
      "(3, 51, 48)\n",
      "(3, 51, 48)\n",
      "(3, 51)\n",
      "(3, 51, 48)\n",
      "(3, 51, 48)\n"
     ]
    },
    {
     "name": "stderr",
     "output_type": "stream",
     "text": [
      "sample: 100%|██████████| 300/300 [02:42<00:00,  1.85it/s, 1023 steps of size 5.89e-04. acc. prob=0.86]\n",
      "sample:  85%|████████▌ | 256/300 [02:59<00:40,  1.08it/s, 1023 steps of size 5.00e-04. acc. prob=0.90]"
     ]
    },
    {
     "name": "stdout",
     "output_type": "stream",
     "text": [
      "['mu', 'te', 'disp']\n"
     ]
    },
    {
     "name": "stderr",
     "output_type": "stream",
     "text": [
      "sample: 100%|██████████| 300/300 [05:07<00:00,  1.02s/it, 1023 steps of size 5.10e-04. acc. prob=0.89]\n"
     ]
    },
    {
     "name": "stdout",
     "output_type": "stream",
     "text": [
      "['ypred']\n"
     ]
    },
    {
     "name": "stderr",
     "output_type": "stream",
     "text": [
      "sample:  90%|█████████ | 270/300 [03:37<00:29,  1.02it/s, 1023 steps of size 5.61e-04. acc. prob=0.82]"
     ]
    },
    {
     "name": "stdout",
     "output_type": "stream",
     "text": [
      "['mu', 'te', 'disp']\n"
     ]
    },
    {
     "name": "stderr",
     "output_type": "stream",
     "text": [
      "sample:  88%|████████▊ | 263/300 [03:05<00:31,  1.17it/s, 1023 steps of size 6.14e-04. acc. prob=0.84]"
     ]
    },
    {
     "name": "stdout",
     "output_type": "stream",
     "text": [
      "['ypred']\n"
     ]
    },
    {
     "name": "stderr",
     "output_type": "stream",
     "text": [
      "sample:  88%|████████▊ | 264/300 [03:06<00:30,  1.18it/s, 1023 steps of size 6.14e-04. acc. prob=0.84]"
     ]
    },
    {
     "name": "stdout",
     "output_type": "stream",
     "text": [
      "['Alabama']\n",
      "['Alaska']\n",
      "['Arizona']\n",
      "['Arkansas']\n",
      "['California']\n",
      "['Colorado']\n",
      "['Connecticut']\n",
      "['Delaware']\n",
      "['District of Columbia']\n",
      "['Florida']\n",
      "['Georgia']\n",
      "['Hawaii']\n",
      "['Idaho']\n",
      "['Illinois']\n",
      "['Indiana']\n",
      "['Iowa']\n",
      "['Kansas']\n",
      "['Kentucky']\n",
      "['Louisiana']\n",
      "['Maine']\n",
      "['Maryland']\n",
      "['Massachusetts']\n",
      "['Michigan']\n",
      "['Minnesota']\n",
      "['Mississippi']\n",
      "['Missouri']\n",
      "['Montana']\n",
      "['Nebraska']\n",
      "['Nevada']\n",
      "['New Hampshire']\n",
      "['New Jersey']\n",
      "['New Mexico']\n",
      "['New York']\n",
      "['North Carolina']\n",
      "['North Dakota']\n",
      "['Ohio']\n",
      "['Oklahoma']\n",
      "['Oregon']\n",
      "['Pennsylvania']\n",
      "['Rhode Island']\n",
      "['South Carolina']\n",
      "['South Dakota']\n",
      "['Tennessee']\n",
      "['Texas']\n",
      "['Utah']\n",
      "['Vermont']\n",
      "['Virginia']\n",
      "['Washington']\n",
      "['West Virginia']\n",
      "['Wisconsin']\n",
      "['Wyoming']\n"
     ]
    },
    {
     "name": "stderr",
     "output_type": "stream",
     "text": [
      "sample:  53%|█████▎    | 160/300 [02:31<02:54,  1.24s/it, 1023 steps of size 8.82e-04. acc. prob=0.73]"
     ]
    },
    {
     "name": "stdout",
     "output_type": "stream",
     "text": [
      "['Alabama', 'Arkansas', 'Georgia', 'Idaho', 'Kentucky', 'Louisiana', 'Mississippi', 'Missouri', 'Oklahoma', 'South Dakota', 'Tennessee', 'Texas', 'West Virginia', 'Wisconsin']\n"
     ]
    },
    {
     "name": "stderr",
     "output_type": "stream",
     "text": [
      "sample:  54%|█████▍    | 162/300 [02:34<02:48,  1.22s/it, 1023 steps of size 8.82e-04. acc. prob=0.73]"
     ]
    },
    {
     "name": "stdout",
     "output_type": "stream",
     "text": [
      "['Alabama']\n",
      "['Alaska']\n",
      "['Arizona']\n",
      "['Arkansas']\n",
      "['California']\n",
      "['Colorado']\n",
      "['Connecticut']\n",
      "['Delaware']\n",
      "['District of Columbia']\n",
      "['Florida']\n",
      "['Georgia']\n",
      "['Hawaii']\n",
      "['Idaho']\n",
      "['Illinois']\n",
      "['Indiana']\n",
      "['Iowa']\n",
      "['Kansas']\n",
      "['Kentucky']\n",
      "['Louisiana']\n",
      "['Maine']\n",
      "['Maryland']\n",
      "['Massachusetts']\n",
      "['Michigan']\n",
      "['Minnesota']\n",
      "['Mississippi']\n",
      "['Missouri']\n",
      "['Montana']\n",
      "['Nebraska']\n",
      "['Nevada']\n",
      "['New Hampshire']\n",
      "['New Jersey']\n",
      "['New Mexico']\n",
      "['New York']\n",
      "['North Carolina']\n",
      "['North Dakota']\n",
      "['Ohio']\n",
      "['Oklahoma']\n",
      "['Oregon']\n",
      "['Pennsylvania']\n",
      "['Rhode Island']\n",
      "['South Carolina']\n",
      "['South Dakota']\n",
      "['Tennessee']\n",
      "['Texas']\n",
      "['Utah']\n",
      "['Vermont']\n",
      "['Virginia']\n",
      "['Washington']\n",
      "['West Virginia']\n",
      "['Wisconsin']\n",
      "['Wyoming']\n"
     ]
    },
    {
     "name": "stderr",
     "output_type": "stream",
     "text": [
      "sample:  89%|████████▊ | 266/300 [03:07<00:28,  1.21it/s, 1023 steps of size 5.00e-04. acc. prob=0.90]"
     ]
    },
    {
     "name": "stdout",
     "output_type": "stream",
     "text": [
      "(2, 51)\n",
      "['Alabama', 'Arkansas', 'Georgia', 'Idaho', 'Kentucky', 'Louisiana', 'Mississippi', 'Missouri', 'Oklahoma', 'South Dakota', 'Tennessee', 'Texas', 'West Virginia', 'Wisconsin']\n"
     ]
    },
    {
     "name": "stderr",
     "output_type": "stream",
     "text": [
      "sample:  89%|████████▉ | 267/300 [03:08<00:29,  1.13it/s, 1023 steps of size 5.00e-04. acc. prob=0.90]"
     ]
    },
    {
     "name": "stdout",
     "output_type": "stream",
     "text": [
      "(2, 51, 48)\n",
      "(2, 51, 48)\n"
     ]
    },
    {
     "name": "stderr",
     "output_type": "stream",
     "text": [
      "sample:  90%|████████▉ | 269/300 [03:10<00:25,  1.20it/s, 1023 steps of size 5.00e-04. acc. prob=0.90]"
     ]
    },
    {
     "name": "stdout",
     "output_type": "stream",
     "text": [
      "(2, 50)\n"
     ]
    },
    {
     "name": "stderr",
     "output_type": "stream",
     "text": [
      "sample:  90%|█████████ | 270/300 [03:11<00:25,  1.20it/s, 1023 steps of size 5.00e-04. acc. prob=0.90]"
     ]
    },
    {
     "name": "stdout",
     "output_type": "stream",
     "text": [
      "(2, 50, 48)\n",
      "(2, 50, 48)\n"
     ]
    },
    {
     "name": "stderr",
     "output_type": "stream",
     "text": [
      "sample:  55%|█████▌    | 165/300 [02:42<02:42,  1.20s/it, 1023 steps of size 9.71e-04. acc. prob=0.76]"
     ]
    },
    {
     "name": "stdout",
     "output_type": "stream",
     "text": [
      "(2, 51)\n"
     ]
    },
    {
     "name": "stderr",
     "output_type": "stream",
     "text": [
      "sample:  91%|█████████▏| 274/300 [03:15<00:21,  1.21it/s, 1023 steps of size 6.14e-04. acc. prob=0.84]"
     ]
    },
    {
     "name": "stdout",
     "output_type": "stream",
     "text": [
      "(2, 51, 48)\n",
      "(2, 51, 48)\n"
     ]
    },
    {
     "name": "stderr",
     "output_type": "stream",
     "text": [
      "sample:  56%|█████▌    | 168/300 [02:41<02:39,  1.21s/it, 1023 steps of size 8.82e-04. acc. prob=0.74]"
     ]
    },
    {
     "name": "stdout",
     "output_type": "stream",
     "text": [
      "(2, 50)\n"
     ]
    },
    {
     "name": "stderr",
     "output_type": "stream",
     "text": [
      "sample:  56%|█████▌    | 167/300 [02:45<02:37,  1.19s/it, 1023 steps of size 9.71e-04. acc. prob=0.75]"
     ]
    },
    {
     "name": "stdout",
     "output_type": "stream",
     "text": [
      "(2, 50, 48)\n",
      "(2, 50, 48)\n"
     ]
    },
    {
     "name": "stderr",
     "output_type": "stream",
     "text": [
      "sample:  98%|█████████▊| 293/300 [03:59<00:06,  1.03it/s, 1023 steps of size 5.61e-04. acc. prob=0.81]"
     ]
    },
    {
     "name": "stdout",
     "output_type": "stream",
     "text": [
      "(2, 51)\n",
      "(2, 51, 48)\n",
      "(2, 51, 48)\n"
     ]
    },
    {
     "name": "stderr",
     "output_type": "stream",
     "text": [
      "sample:  96%|█████████▌| 287/300 [03:25<00:10,  1.19it/s, 1023 steps of size 6.14e-04. acc. prob=0.84]"
     ]
    },
    {
     "name": "stdout",
     "output_type": "stream",
     "text": [
      "(2, 50)\n",
      "(2, 50, 48)\n",
      "(2, 50, 48)\n"
     ]
    },
    {
     "name": "stderr",
     "output_type": "stream",
     "text": [
      "  0%|          | 0/300 [00:00<?, ?it/s]<00:10,  1.19it/s, 1023 steps of size 6.14e-04. acc. prob=0.84]"
     ]
    },
    {
     "name": "stdout",
     "output_type": "stream",
     "text": [
      "(2, 51)\n",
      "(2, 51, 48)\n",
      "(2, 51, 48)\n"
     ]
    },
    {
     "name": "stderr",
     "output_type": "stream",
     "text": [
      "sample:  58%|█████▊    | 175/300 [02:54<02:35,  1.25s/it, 1023 steps of size 9.71e-04. acc. prob=0.74]"
     ]
    },
    {
     "name": "stdout",
     "output_type": "stream",
     "text": [
      "(2, 50)\n",
      "(2, 50, 48)\n",
      "(2, 50, 48)\n",
      "(2, 51)\n",
      "(2, 51, 48)\n",
      "(2, 51, 48)\n",
      "(2, 50)\n",
      "(2, 50, 48)\n",
      "(2, 50, 48)\n"
     ]
    },
    {
     "name": "stderr",
     "output_type": "stream",
     "text": [
      "sample: 100%|██████████| 300/300 [04:06<00:00,  1.22it/s, 1023 steps of size 5.61e-04. acc. prob=0.81]\n",
      "sample:  99%|█████████▊| 296/300 [03:33<00:03,  1.11it/s, 1023 steps of size 6.14e-04. acc. prob=0.84]"
     ]
    },
    {
     "name": "stdout",
     "output_type": "stream",
     "text": [
      "['mu', 'te', 'disp']\n"
     ]
    },
    {
     "name": "stderr",
     "output_type": "stream",
     "text": [
      "warmup:  14%|█▍        | 43/300 [00:08<01:09,  3.69it/s, 1023 steps of size 2.03e-03. acc. prob=0.72]]"
     ]
    },
    {
     "name": "stdout",
     "output_type": "stream",
     "text": [
      "['ypred']\n"
     ]
    },
    {
     "name": "stderr",
     "output_type": "stream",
     "text": [
      "sample: 100%|██████████| 300/300 [03:37<00:00,  1.38it/s, 1023 steps of size 6.14e-04. acc. prob=0.84]\n",
      "sample: 100%|██████████| 300/300 [03:36<00:00,  1.39it/s, 1023 steps of size 5.00e-04. acc. prob=0.90]\n",
      "sample:  61%|██████▏   | 184/300 [03:06<02:26,  1.26s/it, 1023 steps of size 9.71e-04. acc. prob=0.74]"
     ]
    },
    {
     "name": "stdout",
     "output_type": "stream",
     "text": [
      "['mu', 'te', 'disp']\n"
     ]
    },
    {
     "name": "stderr",
     "output_type": "stream",
     "text": [
      "sample:  62%|██████▏   | 185/300 [03:07<02:28,  1.29s/it, 1023 steps of size 9.71e-04. acc. prob=0.74]"
     ]
    },
    {
     "name": "stdout",
     "output_type": "stream",
     "text": [
      "['mu', 'te', 'disp']\n"
     ]
    },
    {
     "name": "stderr",
     "output_type": "stream",
     "text": [
      "warmup:  16%|█▌        | 47/300 [00:13<02:41,  1.57it/s, 1023 steps of size 1.76e-03. acc. prob=0.72]"
     ]
    },
    {
     "name": "stdout",
     "output_type": "stream",
     "text": [
      "['ypred']\n"
     ]
    },
    {
     "name": "stderr",
     "output_type": "stream",
     "text": [
      "warmup:  29%|██▊       | 86/300 [00:48<03:42,  1.04s/it, 1023 steps of size 2.06e-03. acc. prob=0.75]]"
     ]
    },
    {
     "name": "stdout",
     "output_type": "stream",
     "text": [
      "['ypred']\n"
     ]
    },
    {
     "name": "stderr",
     "output_type": "stream",
     "text": [
      "sample:  62%|██████▏   | 186/300 [03:09<02:23,  1.26s/it, 1023 steps of size 9.71e-04. acc. prob=0.74]"
     ]
    },
    {
     "name": "stdout",
     "output_type": "stream",
     "text": [
      "['Alabama']\n",
      "['Alaska']\n",
      "['Arizona']\n",
      "['Arkansas']\n",
      "['California']\n",
      "['Colorado']\n",
      "['Connecticut']\n",
      "['Delaware']\n",
      "['District of Columbia']\n",
      "['Florida']\n",
      "['Georgia']\n",
      "['Hawaii']\n",
      "['Idaho']\n",
      "['Illinois']\n",
      "['Indiana']\n",
      "['Iowa']\n",
      "['Kansas']\n",
      "['Kentucky']\n",
      "['Louisiana']\n",
      "['Maine']\n",
      "['Maryland']\n",
      "['Massachusetts']\n",
      "['Michigan']\n",
      "['Minnesota']\n",
      "['Mississippi']\n",
      "['Missouri']\n",
      "['Montana']\n",
      "['Nebraska']\n",
      "['Nevada']\n",
      "['New Hampshire']\n",
      "['New Jersey']\n",
      "['New Mexico']\n",
      "['New York']\n",
      "['North Carolina']\n"
     ]
    },
    {
     "name": "stderr",
     "output_type": "stream",
     "text": [
      "warmup:  17%|█▋        | 50/300 [00:14<02:17,  1.82it/s, 1023 steps of size 4.65e-04. acc. prob=0.72]"
     ]
    },
    {
     "name": "stdout",
     "output_type": "stream",
     "text": [
      "['North Dakota']\n",
      "['Ohio']\n",
      "['Oklahoma']\n",
      "['Oregon']\n",
      "['Pennsylvania']\n",
      "['Rhode Island']\n",
      "['South Carolina']\n",
      "['South Dakota']\n",
      "['Tennessee']\n",
      "['Texas']\n",
      "['Utah']\n",
      "['Vermont']\n",
      "['Virginia']\n",
      "['Washington']\n",
      "['West Virginia']\n",
      "['Wisconsin']\n",
      "['Wyoming']\n",
      "['Alabama', 'Arkansas', 'Georgia', 'Idaho', 'Kentucky', 'Louisiana', 'Mississippi', 'Missouri', 'Oklahoma', 'South Dakota', 'Tennessee', 'Texas', 'West Virginia', 'Wisconsin']\n",
      "['Alabama']\n",
      "['Alaska']\n",
      "['Arizona']\n",
      "['Arkansas']\n",
      "['California']\n",
      "['Colorado']\n",
      "['Connecticut']\n",
      "['Delaware']\n",
      "['District of Columbia']\n",
      "['Florida']\n",
      "['Georgia']\n",
      "['Hawaii']\n",
      "['Idaho']\n",
      "['Illinois']\n",
      "['Indiana']\n",
      "['Iowa']\n",
      "['Kansas']\n",
      "['Kentucky']\n",
      "['Louisiana']\n",
      "['Maine']\n",
      "['Maryland']\n",
      "['Massachusetts']\n",
      "['Michigan']\n",
      "['Minnesota']\n",
      "['Mississippi']\n",
      "['Missouri']\n",
      "['Montana']\n",
      "['Nebraska']\n",
      "['Nevada']\n",
      "['New Hampshire']\n",
      "['New Jersey']\n"
     ]
    },
    {
     "name": "stderr",
     "output_type": "stream",
     "text": [
      "warmup:  16%|█▋        | 49/300 [00:15<03:02,  1.38it/s, 1023 steps of size 1.23e-03. acc. prob=0.72]]"
     ]
    },
    {
     "name": "stdout",
     "output_type": "stream",
     "text": [
      "['New Mexico']\n",
      "['New York']\n",
      "['North Carolina']\n",
      "['North Dakota']\n",
      "['Ohio']\n",
      "['Oklahoma']\n",
      "['Oregon']\n",
      "['Pennsylvania']\n",
      "['Rhode Island']\n",
      "['South Carolina']\n",
      "['South Dakota']\n",
      "['Tennessee']\n",
      "['Texas']\n",
      "['Utah']\n",
      "['Vermont']\n",
      "['Virginia']\n",
      "['Washington']\n",
      "['West Virginia']\n",
      "['Wisconsin']\n",
      "['Wyoming']\n",
      "['Alabama', 'Arkansas', 'Georgia', 'Idaho', 'Kentucky', 'Louisiana', 'Mississippi', 'Missouri', 'Oklahoma', 'South Dakota', 'Tennessee', 'Texas', 'West Virginia', 'Wisconsin']\n"
     ]
    },
    {
     "name": "stderr",
     "output_type": "stream",
     "text": [
      "warmup:  18%|█▊        | 53/300 [00:16<02:42,  1.52it/s, 1023 steps of size 1.22e-03. acc. prob=0.73]]"
     ]
    },
    {
     "name": "stdout",
     "output_type": "stream",
     "text": [
      "(1, 51)\n",
      "(4, 51)\n"
     ]
    },
    {
     "name": "stderr",
     "output_type": "stream",
     "text": [
      "warmup:  30%|███       | 90/300 [00:52<03:29,  1.00it/s, 1023 steps of size 1.19e-03. acc. prob=0.75]]"
     ]
    },
    {
     "name": "stdout",
     "output_type": "stream",
     "text": [
      "(1, 51, 48)\n",
      "(1, 51, 48)\n",
      "(4, 51, 48)\n",
      "(4, 51, 48)\n"
     ]
    },
    {
     "name": "stderr",
     "output_type": "stream",
     "text": [
      "sample:  64%|██████▎   | 191/300 [03:10<02:13,  1.23s/it, 1023 steps of size 8.82e-04. acc. prob=0.73]"
     ]
    },
    {
     "name": "stdout",
     "output_type": "stream",
     "text": [
      "['Alabama']\n",
      "['Alaska']\n",
      "['Arizona']\n",
      "['Arkansas']\n",
      "['California']\n",
      "['Colorado']\n",
      "['Connecticut']\n",
      "['Delaware']\n",
      "['District of Columbia']\n",
      "['Florida']\n",
      "['Georgia']\n",
      "['Hawaii']\n",
      "['Idaho']\n",
      "['Illinois']\n",
      "['Indiana']\n",
      "['Iowa']\n",
      "['Kansas']\n",
      "['Kentucky']\n",
      "['Louisiana']\n",
      "['Maine']\n",
      "['Maryland']\n",
      "['Massachusetts']\n",
      "['Michigan']\n",
      "['Minnesota']\n",
      "['Mississippi']\n",
      "['Missouri']\n",
      "['Montana']\n",
      "['Nebraska']\n",
      "['Nevada']\n",
      "['New Hampshire']\n",
      "['New Jersey']\n",
      "['New Mexico']\n",
      "['New York']\n",
      "['North Carolina']\n",
      "['North Dakota']\n",
      "['Ohio']\n",
      "['Oklahoma']\n",
      "['Oregon']\n",
      "['Pennsylvania']\n",
      "['Rhode Island']\n",
      "['South Carolina']\n",
      "['South Dakota']\n",
      "['Tennessee']\n",
      "['Texas']\n",
      "['Utah']\n",
      "['Vermont']\n",
      "['Virginia']\n",
      "['Washington']\n",
      "['West Virginia']\n",
      "['Wisconsin']\n",
      "['Wyoming']\n",
      "['Alabama', 'Arkansas', 'Georgia', 'Idaho', 'Kentucky', 'Louisiana', 'Mississippi', 'Missouri', 'Oklahoma', 'South Dakota', 'Tennessee', 'Texas', 'West Virginia', 'Wisconsin']\n"
     ]
    },
    {
     "name": "stderr",
     "output_type": "stream",
     "text": [
      "warmup:  32%|███▏      | 95/300 [00:56<02:57,  1.15it/s, 1023 steps of size 6.09e-04. acc. prob=0.74]]"
     ]
    },
    {
     "name": "stdout",
     "output_type": "stream",
     "text": [
      "(4, 51)\n",
      "(1, 51)\n",
      "(4, 51)\n"
     ]
    },
    {
     "name": "stderr",
     "output_type": "stream",
     "text": [
      "warmup:  19%|█▉        | 57/300 [00:22<03:26,  1.18it/s, 1023 steps of size 8.38e-04. acc. prob=0.73]"
     ]
    },
    {
     "name": "stdout",
     "output_type": "stream",
     "text": [
      "(4, 51, 48)\n",
      "(4, 51, 48)\n",
      "(1, 51, 48)\n",
      "(1, 51, 48)\n",
      "(4, 51, 48)\n",
      "(4, 51, 48)\n"
     ]
    },
    {
     "name": "stderr",
     "output_type": "stream",
     "text": [
      "warmup:  21%|██        | 62/300 [00:26<03:22,  1.18it/s, 1023 steps of size 1.09e-03. acc. prob=0.73]]"
     ]
    },
    {
     "name": "stdout",
     "output_type": "stream",
     "text": [
      "(4, 51)\n"
     ]
    },
    {
     "name": "stderr",
     "output_type": "stream",
     "text": [
      "sample:  65%|██████▌   | 196/300 [03:21<02:07,  1.23s/it, 1023 steps of size 9.71e-04. acc. prob=0.74]"
     ]
    },
    {
     "name": "stdout",
     "output_type": "stream",
     "text": [
      "(4, 51, 48)\n",
      "(4, 51, 48)\n"
     ]
    },
    {
     "name": "stderr",
     "output_type": "stream",
     "text": [
      "sample:  34%|███▍      | 103/300 [01:04<03:16,  1.00it/s, 1023 steps of size 6.37e-04. acc. prob=0.86]"
     ]
    },
    {
     "name": "stdout",
     "output_type": "stream",
     "text": [
      "(4, 51)\n",
      "(4, 51, 48)\n",
      "(4, 51, 48)\n"
     ]
    },
    {
     "name": "stderr",
     "output_type": "stream",
     "text": [
      "sample:  35%|███▍      | 104/300 [01:05<03:16,  1.00s/it, 1023 steps of size 6.37e-04. acc. prob=0.84]"
     ]
    },
    {
     "name": "stdout",
     "output_type": "stream",
     "text": [
      "(4, 51)\n",
      "(4, 51, 48)\n",
      "(4, 51, 48)\n",
      "(4, 51)\n",
      "(4, 51, 48)\n",
      "(4, 51, 48)\n"
     ]
    },
    {
     "name": "stderr",
     "output_type": "stream",
     "text": [
      "sample:  67%|██████▋   | 200/300 [03:26<02:02,  1.23s/it, 1023 steps of size 9.71e-04. acc. prob=0.73]"
     ]
    },
    {
     "name": "stdout",
     "output_type": "stream",
     "text": [
      "(1, 51)\n",
      "(1, 51, 48)\n",
      "(1, 51, 48)\n"
     ]
    },
    {
     "name": "stderr",
     "output_type": "stream",
     "text": [
      "warmup:  23%|██▎       | 70/300 [00:33<03:26,  1.11it/s, 1023 steps of size 1.33e-03. acc. prob=0.74]]"
     ]
    },
    {
     "name": "stdout",
     "output_type": "stream",
     "text": [
      "(1, 51)\n",
      "(1, 51, 48)\n",
      "(1, 51, 48)\n"
     ]
    },
    {
     "name": "stderr",
     "output_type": "stream",
     "text": [
      "sample:  68%|██████▊   | 203/300 [03:25<02:02,  1.27s/it, 1023 steps of size 8.82e-04. acc. prob=0.73]"
     ]
    },
    {
     "name": "stdout",
     "output_type": "stream",
     "text": [
      "(1, 51)\n",
      "(1, 51, 48)\n",
      "(1, 51, 48)\n"
     ]
    },
    {
     "name": "stderr",
     "output_type": "stream",
     "text": [
      "warmup:  25%|██▌       | 75/300 [00:37<03:26,  1.09it/s, 1023 steps of size 1.18e-03. acc. prob=0.74]]"
     ]
    },
    {
     "name": "stdout",
     "output_type": "stream",
     "text": [
      "(4, 51)\n",
      "(4, 51, 48)\n",
      "(4, 51, 48)\n"
     ]
    },
    {
     "name": "stderr",
     "output_type": "stream",
     "text": [
      "sample:  37%|███▋      | 112/300 [01:13<03:19,  1.06s/it, 1023 steps of size 6.37e-04. acc. prob=0.85]"
     ]
    },
    {
     "name": "stdout",
     "output_type": "stream",
     "text": [
      "(4, 51)\n",
      "(4, 51, 48)\n",
      "(4, 51, 48)\n"
     ]
    },
    {
     "name": "stderr",
     "output_type": "stream",
     "text": [
      "warmup:  26%|██▋       | 79/300 [00:39<03:21,  1.09it/s, 1023 steps of size 8.08e-04. acc. prob=0.74]]"
     ]
    },
    {
     "name": "stdout",
     "output_type": "stream",
     "text": [
      "(4, 51)\n",
      "(4, 51, 48)\n",
      "(4, 51, 48)\n"
     ]
    },
    {
     "name": "stderr",
     "output_type": "stream",
     "text": [
      "sample: 100%|██████████| 300/300 [05:21<00:00,  1.07s/it, 1023 steps of size 8.82e-04. acc. prob=0.74]\n",
      "sample:  75%|███████▍  | 224/300 [01:57<00:50,  1.51it/s, 1023 steps of size 6.77e-04. acc. prob=0.82]"
     ]
    },
    {
     "name": "stdout",
     "output_type": "stream",
     "text": [
      "['mu', 'te', 'disp']\n"
     ]
    },
    {
     "name": "stderr",
     "output_type": "stream",
     "text": [
      "sample: 100%|██████████| 300/300 [05:26<00:00,  1.09s/it, 1023 steps of size 9.71e-04. acc. prob=0.72]\n",
      "sample:  76%|███████▌  | 227/300 [01:59<00:50,  1.46it/s, 1023 steps of size 6.77e-04. acc. prob=0.82]"
     ]
    },
    {
     "name": "stdout",
     "output_type": "stream",
     "text": [
      "['mu', 'te', 'disp']\n"
     ]
    },
    {
     "name": "stderr",
     "output_type": "stream",
     "text": [
      "sample:  77%|███████▋  | 231/300 [03:08<01:09,  1.01s/it, 1023 steps of size 6.37e-04. acc. prob=0.85]"
     ]
    },
    {
     "name": "stdout",
     "output_type": "stream",
     "text": [
      "['ypred']\n"
     ]
    },
    {
     "name": "stderr",
     "output_type": "stream",
     "text": [
      "sample:  72%|███████▏  | 217/300 [02:34<01:12,  1.14it/s, 1023 steps of size 4.69e-04. acc. prob=0.91]"
     ]
    },
    {
     "name": "stdout",
     "output_type": "stream",
     "text": [
      "['ypred']\n"
     ]
    },
    {
     "name": "stderr",
     "output_type": "stream",
     "text": [
      "sample:  47%|████▋     | 141/300 [01:57<02:52,  1.09s/it, 1023 steps of size 6.59e-04. acc. prob=0.86]"
     ]
    },
    {
     "name": "stdout",
     "output_type": "stream",
     "text": [
      "['Alabama']\n",
      "['Alaska']\n",
      "['Arizona']\n",
      "['Arkansas']\n",
      "['California']\n",
      "['Colorado']\n",
      "['Connecticut']\n",
      "['Delaware']\n",
      "['District of Columbia']\n",
      "['Florida']\n",
      "['Georgia']\n",
      "['Hawaii']\n",
      "['Idaho']\n",
      "['Illinois']\n",
      "['Indiana']\n",
      "['Iowa']\n",
      "['Kansas']\n",
      "['Kentucky']\n",
      "['Louisiana']\n",
      "['Maine']\n",
      "['Maryland']\n",
      "['Massachusetts']\n",
      "['Michigan']\n",
      "['Minnesota']\n",
      "['Mississippi']\n",
      "['Missouri']\n",
      "['Montana']\n"
     ]
    },
    {
     "name": "stderr",
     "output_type": "stream",
     "text": [
      "sample:  78%|███████▊  | 234/300 [02:04<00:40,  1.62it/s, 1023 steps of size 6.77e-04. acc. prob=0.82]"
     ]
    },
    {
     "name": "stdout",
     "output_type": "stream",
     "text": [
      "['Nebraska']\n",
      "['Nevada']\n",
      "['New Hampshire']\n",
      "['New Jersey']\n",
      "['New Mexico']\n",
      "['New York']\n",
      "['North Carolina']\n",
      "['North Dakota']\n",
      "['Ohio']\n",
      "['Oklahoma']\n",
      "['Oregon']\n",
      "['Pennsylvania']\n",
      "['Rhode Island']\n",
      "['South Carolina']\n",
      "['South Dakota']\n",
      "['Tennessee']\n",
      "['Texas']\n",
      "['Utah']\n",
      "['Vermont']\n",
      "['Virginia']\n",
      "['Washington']\n",
      "['West Virginia']\n",
      "['Wisconsin']\n",
      "['Wyoming']\n"
     ]
    },
    {
     "name": "stderr",
     "output_type": "stream",
     "text": [
      "sample:  72%|███████▏  | 216/300 [02:37<01:13,  1.14it/s, 1023 steps of size 6.99e-04. acc. prob=0.81]"
     ]
    },
    {
     "name": "stdout",
     "output_type": "stream",
     "text": [
      "['Alabama', 'Arkansas', 'Georgia', 'Idaho', 'Kentucky', 'Louisiana', 'Mississippi', 'Missouri', 'Oklahoma', 'South Dakota', 'Tennessee', 'Texas', 'West Virginia', 'Wisconsin']\n"
     ]
    },
    {
     "name": "stderr",
     "output_type": "stream",
     "text": [
      "sample:  79%|███████▉  | 238/300 [02:06<00:41,  1.50it/s, 1023 steps of size 6.77e-04. acc. prob=0.82]"
     ]
    },
    {
     "name": "stdout",
     "output_type": "stream",
     "text": [
      "(3, 51)\n"
     ]
    },
    {
     "name": "stderr",
     "output_type": "stream",
     "text": [
      "sample:  48%|████▊     | 144/300 [02:01<02:56,  1.13s/it, 1023 steps of size 6.59e-04. acc. prob=0.87]"
     ]
    },
    {
     "name": "stdout",
     "output_type": "stream",
     "text": [
      "(3, 51, 48)\n",
      "(3, 51, 48)\n"
     ]
    },
    {
     "name": "stderr",
     "output_type": "stream",
     "text": [
      "sample:  48%|████▊     | 145/300 [02:02<02:53,  1.12s/it, 1023 steps of size 6.59e-04. acc. prob=0.87]"
     ]
    },
    {
     "name": "stdout",
     "output_type": "stream",
     "text": [
      "['Alabama']\n",
      "['Alaska']\n",
      "['Arizona']\n",
      "['Arkansas']\n",
      "['California']\n",
      "['Colorado']\n",
      "['Connecticut']\n",
      "['Delaware']\n",
      "['District of Columbia']\n",
      "['Florida']\n",
      "['Georgia']\n",
      "['Hawaii']\n",
      "['Idaho']\n",
      "['Illinois']\n",
      "['Indiana']\n",
      "['Iowa']\n",
      "['Kansas']\n",
      "['Kentucky']\n",
      "['Louisiana']\n",
      "['Maine']\n",
      "['Maryland']\n",
      "['Massachusetts']\n",
      "['Michigan']\n",
      "['Minnesota']\n",
      "['Mississippi']\n",
      "['Missouri']\n",
      "['Montana']\n",
      "['Nebraska']\n",
      "['Nevada']\n",
      "['New Hampshire']\n",
      "['New Jersey']\n",
      "['New Mexico']\n",
      "['New York']\n",
      "['North Carolina']\n",
      "['North Dakota']\n",
      "['Ohio']\n",
      "['Oklahoma']\n",
      "['Oregon']\n",
      "['Pennsylvania']\n",
      "['Rhode Island']\n",
      "['South Carolina']\n",
      "['South Dakota']\n",
      "['Tennessee']\n",
      "['Texas']\n",
      "['Utah']\n",
      "['Vermont']\n",
      "['Virginia']\n",
      "['Washington']\n",
      "['West Virginia']\n",
      "['Wisconsin']\n",
      "['Wyoming']\n"
     ]
    },
    {
     "name": "stderr",
     "output_type": "stream",
     "text": [
      "sample:  74%|███████▎  | 221/300 [02:42<01:08,  1.15it/s, 1023 steps of size 6.99e-04. acc. prob=0.81]"
     ]
    },
    {
     "name": "stdout",
     "output_type": "stream",
     "text": [
      "['Alabama', 'Arkansas', 'Georgia', 'Idaho', 'Kentucky', 'Louisiana', 'Mississippi', 'Missouri', 'Oklahoma', 'South Dakota', 'Tennessee', 'Texas', 'West Virginia', 'Wisconsin']\n"
     ]
    },
    {
     "name": "stderr",
     "output_type": "stream",
     "text": [
      "sample:  75%|███████▍  | 224/300 [02:44<01:06,  1.15it/s, 1023 steps of size 6.99e-04. acc. prob=0.80]"
     ]
    },
    {
     "name": "stdout",
     "output_type": "stream",
     "text": [
      "(2, 51)\n",
      "(3, 51)\n"
     ]
    },
    {
     "name": "stderr",
     "output_type": "stream",
     "text": [
      "sample:  49%|████▉     | 148/300 [02:05<02:47,  1.10s/it, 1023 steps of size 6.59e-04. acc. prob=0.87]"
     ]
    },
    {
     "name": "stdout",
     "output_type": "stream",
     "text": [
      "(3, 51, 48)\n",
      "(3, 51, 48)\n",
      "(2, 51, 48)\n",
      "(2, 51, 48)\n"
     ]
    },
    {
     "name": "stderr",
     "output_type": "stream",
     "text": [
      "sample:  82%|████████▏ | 246/300 [03:23<00:53,  1.00it/s, 1023 steps of size 6.37e-04. acc. prob=0.85]"
     ]
    },
    {
     "name": "stdout",
     "output_type": "stream",
     "text": [
      "(2, 51)\n"
     ]
    },
    {
     "name": "stderr",
     "output_type": "stream",
     "text": [
      "sample:  51%|█████     | 152/300 [02:09<02:39,  1.08s/it, 1023 steps of size 6.59e-04. acc. prob=0.87]"
     ]
    },
    {
     "name": "stdout",
     "output_type": "stream",
     "text": [
      "(2, 51, 48)\n",
      "(2, 51, 48)\n"
     ]
    },
    {
     "name": "stderr",
     "output_type": "stream",
     "text": [
      "sample:  78%|███████▊  | 234/300 [02:53<00:56,  1.16it/s, 1023 steps of size 6.99e-04. acc. prob=0.81]"
     ]
    },
    {
     "name": "stdout",
     "output_type": "stream",
     "text": [
      "(3, 51)\n",
      "(3, 51, 48)\n",
      "(3, 51, 48)\n"
     ]
    },
    {
     "name": "stderr",
     "output_type": "stream",
     "text": [
      "sample:  56%|█████▌    | 168/300 [02:23<02:26,  1.11s/it, 1023 steps of size 6.53e-04. acc. prob=0.85]"
     ]
    },
    {
     "name": "stdout",
     "output_type": "stream",
     "text": [
      "(3, 51)\n",
      "(3, 51, 48)\n",
      "(3, 51, 48)\n",
      "(3, 51)\n",
      "(3, 51, 48)\n",
      "(3, 51, 48)\n"
     ]
    },
    {
     "name": "stderr",
     "output_type": "stream",
     "text": [
      "sample:  90%|████████▉ | 269/300 [02:26<00:19,  1.61it/s, 1023 steps of size 6.77e-04. acc. prob=0.82]"
     ]
    },
    {
     "name": "stdout",
     "output_type": "stream",
     "text": [
      "(2, 51)\n",
      "(2, 51, 48)\n",
      "(2, 51, 48)\n"
     ]
    },
    {
     "name": "stderr",
     "output_type": "stream",
     "text": [
      "sample:  54%|█████▍    | 163/300 [02:21<02:28,  1.09s/it, 1023 steps of size 6.59e-04. acc. prob=0.86]"
     ]
    },
    {
     "name": "stdout",
     "output_type": "stream",
     "text": [
      "(2, 51)\n",
      "(2, 51, 48)\n",
      "(2, 51, 48)\n",
      "(2, 51)\n",
      "(2, 51, 48)\n",
      "(2, 51, 48)\n"
     ]
    },
    {
     "name": "stderr",
     "output_type": "stream",
     "text": [
      "sample: 100%|██████████| 300/300 [02:46<00:00,  1.80it/s, 1023 steps of size 6.77e-04. acc. prob=0.83]\n",
      "warmup:  22%|██▏       | 67/300 [00:20<02:27,  1.58it/s, 1023 steps of size 8.49e-04. acc. prob=0.73]]"
     ]
    },
    {
     "name": "stdout",
     "output_type": "stream",
     "text": [
      "['mu', 'te', 'disp']\n"
     ]
    },
    {
     "name": "stderr",
     "output_type": "stream",
     "text": [
      "warmup:  23%|██▎       | 68/300 [00:28<03:23,  1.14it/s, 1023 steps of size 8.01e-04. acc. prob=0.73]]"
     ]
    },
    {
     "name": "stdout",
     "output_type": "stream",
     "text": [
      "['ypred']\n"
     ]
    },
    {
     "name": "stderr",
     "output_type": "stream",
     "text": [
      "warmup:  23%|██▎       | 69/300 [00:28<03:18,  1.16it/s, 1023 steps of size 1.12e-03. acc. prob=0.74]]"
     ]
    },
    {
     "name": "stdout",
     "output_type": "stream",
     "text": [
      "['Alabama']\n",
      "['Alaska']\n",
      "['Arizona']\n",
      "['Arkansas']\n",
      "['California']\n",
      "['Colorado']\n",
      "['Connecticut']\n",
      "['Delaware']\n",
      "['District of Columbia']\n",
      "['Florida']\n",
      "['Georgia']\n",
      "['Hawaii']\n",
      "['Idaho']\n",
      "['Illinois']\n",
      "['Indiana']\n",
      "['Iowa']\n",
      "['Kansas']\n",
      "['Kentucky']\n",
      "['Louisiana']\n",
      "['Maine']\n",
      "['Maryland']\n",
      "['Massachusetts']\n",
      "['Michigan']\n",
      "['Minnesota']\n",
      "['Mississippi']\n",
      "['Missouri']\n",
      "['Montana']\n",
      "['Nebraska']\n",
      "['Nevada']\n",
      "['New Hampshire']\n",
      "['New Jersey']\n",
      "['New Mexico']\n"
     ]
    },
    {
     "name": "stderr",
     "output_type": "stream",
     "text": [
      "sample:  91%|█████████ | 273/300 [03:23<00:22,  1.19it/s, 1023 steps of size 4.69e-04. acc. prob=0.91]"
     ]
    },
    {
     "name": "stdout",
     "output_type": "stream",
     "text": [
      "['New York']\n",
      "['North Carolina']\n",
      "['North Dakota']\n",
      "['Ohio']\n",
      "['Oklahoma']\n",
      "['Oregon']\n",
      "['Pennsylvania']\n",
      "['Rhode Island']\n",
      "['South Carolina']\n",
      "['South Dakota']\n",
      "['Tennessee']\n",
      "['Texas']\n",
      "['Utah']\n",
      "['Vermont']\n",
      "['Virginia']\n",
      "['Washington']\n",
      "['West Virginia']\n",
      "['Wisconsin']\n",
      "['Wyoming']\n"
     ]
    },
    {
     "name": "stderr",
     "output_type": "stream",
     "text": [
      "sample:  65%|██████▌   | 195/300 [02:52<01:52,  1.07s/it, 1023 steps of size 6.53e-04. acc. prob=0.85]"
     ]
    },
    {
     "name": "stdout",
     "output_type": "stream",
     "text": [
      "['Alabama', 'Arkansas', 'Georgia', 'Idaho', 'Kentucky', 'Louisiana', 'Mississippi', 'Missouri', 'Oklahoma', 'South Dakota', 'Tennessee', 'Texas', 'West Virginia', 'Wisconsin']\n"
     ]
    },
    {
     "name": "stderr",
     "output_type": "stream",
     "text": [
      "warmup:  24%|██▍       | 73/300 [00:25<02:48,  1.35it/s, 1023 steps of size 8.09e-04. acc. prob=0.74]]"
     ]
    },
    {
     "name": "stdout",
     "output_type": "stream",
     "text": [
      "(2, 50)\n"
     ]
    },
    {
     "name": "stderr",
     "output_type": "stream",
     "text": [
      "sample:  66%|██████▌   | 198/300 [02:55<01:50,  1.08s/it, 1023 steps of size 6.53e-04. acc. prob=0.85]"
     ]
    },
    {
     "name": "stdout",
     "output_type": "stream",
     "text": [
      "(2, 50, 48)\n",
      "(2, 50, 48)\n"
     ]
    },
    {
     "name": "stderr",
     "output_type": "stream",
     "text": [
      "sample:  67%|██████▋   | 202/300 [03:00<01:43,  1.05s/it, 1023 steps of size 6.53e-04. acc. prob=0.85]"
     ]
    },
    {
     "name": "stdout",
     "output_type": "stream",
     "text": [
      "(2, 50)\n"
     ]
    },
    {
     "name": "stderr",
     "output_type": "stream",
     "text": [
      "warmup:  26%|██▋       | 79/300 [00:37<03:06,  1.19it/s, 1023 steps of size 8.17e-04. acc. prob=0.74]]"
     ]
    },
    {
     "name": "stdout",
     "output_type": "stream",
     "text": [
      "(2, 50, 48)\n",
      "(2, 50, 48)\n"
     ]
    },
    {
     "name": "stderr",
     "output_type": "stream",
     "text": [
      "warmup:  31%|███       | 93/300 [00:40<02:10,  1.59it/s, 1023 steps of size 3.85e-04. acc. prob=0.73]]"
     ]
    },
    {
     "name": "stdout",
     "output_type": "stream",
     "text": [
      "(2, 50)\n",
      "(2, 50, 48)\n",
      "(2, 50, 48)\n"
     ]
    },
    {
     "name": "stderr",
     "output_type": "stream",
     "text": [
      "sample: 100%|██████████| 300/300 [04:16<00:00,  1.17it/s, 1023 steps of size 6.37e-04. acc. prob=0.84]\n",
      "  0%|          | 0/300 [00:00<?, ?it/s]<01:46,  1.07s/it, 1023 steps of size 6.59e-04. acc. prob=0.83]"
     ]
    },
    {
     "name": "stdout",
     "output_type": "stream",
     "text": [
      "(2, 50)\n",
      "(2, 50, 48)\n",
      "(2, 50, 48)\n"
     ]
    },
    {
     "name": "stderr",
     "output_type": "stream",
     "text": [
      "sample:  97%|█████████▋| 291/300 [03:42<00:07,  1.15it/s, 1023 steps of size 6.99e-04. acc. prob=0.81]"
     ]
    },
    {
     "name": "stdout",
     "output_type": "stream",
     "text": [
      "(2, 50)\n",
      "(2, 50, 48)\n",
      "(2, 50, 48)\n"
     ]
    },
    {
     "name": "stderr",
     "output_type": "stream",
     "text": [
      "sample:  67%|██████▋   | 202/300 [03:03<01:50,  1.13s/it, 1023 steps of size 6.59e-04. acc. prob=0.83]"
     ]
    },
    {
     "name": "stdout",
     "output_type": "stream",
     "text": [
      "['mu', 'te', 'disp']\n"
     ]
    },
    {
     "name": "stderr",
     "output_type": "stream",
     "text": [
      "warmup:  32%|███▏      | 95/300 [00:50<02:39,  1.28it/s, 1023 steps of size 2.13e-04. acc. prob=0.74]]"
     ]
    },
    {
     "name": "stdout",
     "output_type": "stream",
     "text": [
      "['ypred']\n"
     ]
    },
    {
     "name": "stderr",
     "output_type": "stream",
     "text": [
      "sample: 100%|██████████| 300/300 [03:46<00:00,  1.33it/s, 1023 steps of size 4.69e-04. acc. prob=0.91]\n",
      "sample:  99%|█████████▉| 297/300 [03:48<00:02,  1.05it/s, 1023 steps of size 6.99e-04. acc. prob=0.82]"
     ]
    },
    {
     "name": "stdout",
     "output_type": "stream",
     "text": [
      "['mu', 'te', 'disp']\n"
     ]
    },
    {
     "name": "stderr",
     "output_type": "stream",
     "text": [
      "sample:  69%|██████▉   | 207/300 [03:09<01:47,  1.15s/it, 1023 steps of size 6.59e-04. acc. prob=0.83]"
     ]
    },
    {
     "name": "stdout",
     "output_type": "stream",
     "text": [
      "['ypred']\n"
     ]
    },
    {
     "name": "stderr",
     "output_type": "stream",
     "text": [
      "sample: 100%|██████████| 300/300 [03:50<00:00,  1.30it/s, 1023 steps of size 6.99e-04. acc. prob=0.82]\n",
      "sample:  70%|██████▉   | 209/300 [03:12<01:41,  1.12s/it, 1023 steps of size 6.59e-04. acc. prob=0.83]"
     ]
    },
    {
     "name": "stdout",
     "output_type": "stream",
     "text": [
      "['Alabama']\n",
      "['Alaska']\n",
      "['Arizona']\n",
      "['Arkansas']\n",
      "['California']\n",
      "['Colorado']\n",
      "['Connecticut']\n",
      "['Delaware']\n",
      "['District of Columbia']\n",
      "['Florida']\n",
      "['Georgia']\n",
      "['Hawaii']\n",
      "['Idaho']\n",
      "['Illinois']\n",
      "['Indiana']\n",
      "['Iowa']\n",
      "['Kansas']\n",
      "['Kentucky']\n",
      "['Louisiana']\n",
      "['Maine']\n",
      "['Maryland']\n",
      "['Massachusetts']\n",
      "['Michigan']\n",
      "['Minnesota']\n",
      "['Mississippi']\n",
      "['Missouri']\n",
      "['Montana']\n",
      "['Nebraska']\n",
      "['Nevada']\n",
      "['New Hampshire']\n",
      "['New Jersey']\n",
      "['New Mexico']\n",
      "['New York']\n",
      "['North Carolina']\n",
      "['North Dakota']\n",
      "['Ohio']\n",
      "['Oklahoma']\n",
      "['Oregon']\n",
      "['Pennsylvania']\n",
      "['Rhode Island']\n",
      "['South Carolina']\n",
      "['South Dakota']\n",
      "['Tennessee']\n",
      "['Texas']\n",
      "['Utah']\n",
      "['Vermont']\n",
      "['Virginia']\n",
      "['Washington']\n",
      "['West Virginia']\n",
      "['Wisconsin']\n",
      "['Wyoming']\n",
      "['Alabama', 'Arkansas', 'Georgia', 'Idaho', 'Kentucky', 'Louisiana', 'Mississippi', 'Missouri', 'Oklahoma', 'South Dakota', 'Tennessee', 'Texas', 'West Virginia', 'Wisconsin']\n"
     ]
    },
    {
     "name": "stderr",
     "output_type": "stream",
     "text": [
      "sample:  74%|███████▎  | 221/300 [03:21<01:29,  1.13s/it, 1023 steps of size 6.53e-04. acc. prob=0.85]"
     ]
    },
    {
     "name": "stdout",
     "output_type": "stream",
     "text": [
      "['mu', 'te', 'disp']\n"
     ]
    },
    {
     "name": "stderr",
     "output_type": "stream",
     "text": [
      "sample:  70%|███████   | 211/300 [03:14<01:36,  1.09s/it, 1023 steps of size 6.59e-04. acc. prob=0.83]"
     ]
    },
    {
     "name": "stdout",
     "output_type": "stream",
     "text": [
      "['ypred']\n"
     ]
    },
    {
     "name": "stderr",
     "output_type": "stream",
     "text": [
      "sample:  71%|███████   | 212/300 [03:15<01:33,  1.06s/it, 1023 steps of size 6.59e-04. acc. prob=0.83]"
     ]
    },
    {
     "name": "stdout",
     "output_type": "stream",
     "text": [
      "(1, 51)\n"
     ]
    },
    {
     "name": "stderr",
     "output_type": "stream",
     "text": [
      "sample:  35%|███▌      | 106/300 [01:00<02:49,  1.15it/s, 1023 steps of size 5.25e-04. acc. prob=0.85]"
     ]
    },
    {
     "name": "stdout",
     "output_type": "stream",
     "text": [
      "(1, 51, 48)\n",
      "(1, 51, 48)\n"
     ]
    },
    {
     "name": "stderr",
     "output_type": "stream",
     "text": [
      "warmup:  17%|█▋        | 52/300 [00:16<02:06,  1.97it/s, 1023 steps of size 5.44e-04. acc. prob=0.72]]"
     ]
    },
    {
     "name": "stdout",
     "output_type": "stream",
     "text": [
      "(1, 51)\n"
     ]
    },
    {
     "name": "stderr",
     "output_type": "stream",
     "text": [
      "sample:  38%|███▊      | 115/300 [00:57<02:10,  1.41it/s, 1023 steps of size 7.18e-04. acc. prob=0.81]"
     ]
    },
    {
     "name": "stdout",
     "output_type": "stream",
     "text": [
      "(1, 51, 48)\n",
      "(1, 51, 48)\n"
     ]
    },
    {
     "name": "stderr",
     "output_type": "stream",
     "text": [
      "warmup:  21%|██▏       | 64/300 [00:24<02:46,  1.42it/s, 1023 steps of size 1.48e-03. acc. prob=0.74]]"
     ]
    },
    {
     "name": "stdout",
     "output_type": "stream",
     "text": [
      "(1, 51)\n",
      "(1, 51, 48)\n",
      "(1, 51, 48)\n"
     ]
    },
    {
     "name": "stderr",
     "output_type": "stream",
     "text": [
      "sample:  43%|████▎     | 128/300 [01:06<02:03,  1.40it/s, 1023 steps of size 7.18e-04. acc. prob=0.83]"
     ]
    },
    {
     "name": "stdout",
     "output_type": "stream",
     "text": [
      "(1, 51)\n",
      "(1, 51, 48)\n",
      "(1, 51, 48)\n",
      "(1, 51)\n",
      "(1, 51, 48)\n",
      "(1, 51, 48)\n"
     ]
    },
    {
     "name": "stderr",
     "output_type": "stream",
     "text": [
      "sample: 100%|██████████| 300/300 [04:32<00:00,  1.10it/s, 1023 steps of size 6.53e-04. acc. prob=0.85]\n",
      "sample:  70%|███████   | 211/300 [02:03<01:01,  1.45it/s, 1023 steps of size 7.18e-04. acc. prob=0.81]"
     ]
    },
    {
     "name": "stdout",
     "output_type": "stream",
     "text": [
      "['mu', 'te', 'disp']\n"
     ]
    },
    {
     "name": "stderr",
     "output_type": "stream",
     "text": [
      "sample:  69%|██████▉   | 207/300 [02:12<01:05,  1.42it/s, 1023 steps of size 5.25e-04. acc. prob=0.89]"
     ]
    },
    {
     "name": "stdout",
     "output_type": "stream",
     "text": [
      "['ypred']\n"
     ]
    },
    {
     "name": "stderr",
     "output_type": "stream",
     "text": [
      "sample: 100%|██████████| 300/300 [04:33<00:00,  1.10it/s, 1023 steps of size 6.59e-04. acc. prob=0.84]\n",
      "sample:  52%|█████▏    | 155/300 [01:05<01:17,  1.86it/s, 1023 steps of size 4.25e-04. acc. prob=0.93]"
     ]
    },
    {
     "name": "stdout",
     "output_type": "stream",
     "text": [
      "['mu', 'te', 'disp']\n"
     ]
    },
    {
     "name": "stderr",
     "output_type": "stream",
     "text": [
      "sample:  53%|█████▎    | 159/300 [01:07<01:14,  1.90it/s, 1023 steps of size 4.25e-04. acc. prob=0.93]"
     ]
    },
    {
     "name": "stdout",
     "output_type": "stream",
     "text": [
      "['ypred']\n"
     ]
    },
    {
     "name": "stderr",
     "output_type": "stream",
     "text": [
      "sample: 100%|██████████| 300/300 [03:00<00:00,  1.66it/s, 1023 steps of size 7.18e-04. acc. prob=0.78]\n",
      "sample:  81%|████████▏ | 244/300 [02:20<00:35,  1.57it/s, 1023 steps of size 6.92e-04. acc. prob=0.85]"
     ]
    },
    {
     "name": "stdout",
     "output_type": "stream",
     "text": [
      "['mu', 'te', 'disp']\n"
     ]
    },
    {
     "name": "stderr",
     "output_type": "stream",
     "text": [
      "sample:  85%|████████▍ | 254/300 [01:55<00:24,  1.89it/s, 1023 steps of size 4.25e-04. acc. prob=0.93]"
     ]
    },
    {
     "name": "stdout",
     "output_type": "stream",
     "text": [
      "['ypred']\n"
     ]
    },
    {
     "name": "stderr",
     "output_type": "stream",
     "text": [
      "sample: 100%|██████████| 300/300 [03:11<00:00,  1.57it/s, 1023 steps of size 5.25e-04. acc. prob=0.88]\n",
      "sample:  87%|████████▋ | 260/300 [01:58<00:20,  1.92it/s, 1023 steps of size 4.25e-04. acc. prob=0.92]"
     ]
    },
    {
     "name": "stdout",
     "output_type": "stream",
     "text": [
      "['mu', 'te', 'disp']\n"
     ]
    },
    {
     "name": "stderr",
     "output_type": "stream",
     "text": [
      "sample:  84%|████████▍ | 252/300 [02:25<00:30,  1.60it/s, 1023 steps of size 6.92e-04. acc. prob=0.85]"
     ]
    },
    {
     "name": "stdout",
     "output_type": "stream",
     "text": [
      "['ypred']\n"
     ]
    },
    {
     "name": "stderr",
     "output_type": "stream",
     "text": [
      "sample: 100%|██████████| 300/300 [02:17<00:00,  2.18it/s, 1023 steps of size 4.25e-04. acc. prob=0.92]\n",
      "sample:  95%|█████████▍| 284/300 [02:44<00:09,  1.72it/s, 1023 steps of size 6.92e-04. acc. prob=0.84]"
     ]
    },
    {
     "name": "stdout",
     "output_type": "stream",
     "text": [
      "['mu', 'te', 'disp']\n"
     ]
    },
    {
     "name": "stderr",
     "output_type": "stream",
     "text": [
      "sample:  95%|█████████▌| 285/300 [02:44<00:09,  1.65it/s, 1023 steps of size 6.92e-04. acc. prob=0.84]"
     ]
    },
    {
     "name": "stdout",
     "output_type": "stream",
     "text": [
      "['ypred']\n"
     ]
    },
    {
     "name": "stderr",
     "output_type": "stream",
     "text": [
      "sample: 100%|██████████| 300/300 [02:53<00:00,  1.73it/s, 1023 steps of size 6.92e-04. acc. prob=0.84]\n"
     ]
    },
    {
     "name": "stdout",
     "output_type": "stream",
     "text": [
      "['mu', 'te', 'disp']\n",
      "['ypred']\n"
     ]
    }
   ],
   "source": [
    "## Some defaults for testing\n",
    "dist = \"NB\"\n",
    "outcome_type = \"births\"\n",
    "cat_name = \"total\"\n",
    "rank = 5\n",
    "sample_disp = False\n",
    "missingness=True\n",
    "disp_param = 1e-4\n",
    "model_treated = True\n",
    "placebo_time = \"2019-03-01\"\n",
    "num_chains = 1\n",
    "num_samples = 100\n",
    "num_warmup=100\n",
    "start_time = '2016-01-01'\n",
    "end_time = '2024-01-01'\n",
    "def run_model(dist, outcome_type=\"births\", cat_name=\"total\", rank=5, missingness=True, \n",
    "         disp_param=1e-4, sample_disp=False, placebo_state = None, \n",
    "         start_time = '2016-01-01', end_time = '2023-12-31',\n",
    "         placebo_time = None, dobbs_donor_sensitivity=False,\n",
    "         model_treated=True, results_file_suffix = \"\",\n",
    "         num_chains=num_chains, num_warmup=1000, num_samples=1000, thinning=1):\n",
    "    \n",
    "    numpyro.set_host_device_count(num_chains)\n",
    "\n",
    "    # df = pd.read_csv('data/dobbsbimonthlybirths_10_23_24.csv')\n",
    "    df = pd.read_csv('/Users/shaokangyang/Library/CloudStorage/GoogleDrive-sky.ang510@gmail.com/My Drive/Code/dobbs_fertility/data/fertility_data_birth_update.csv')\n",
    "    \n",
    "    from clean_monthly_birth_data import prep_data, clean_dataframe, create_unit_placebo_dataset, create_time_placebo_dataset\n",
    "    \n",
    "    df = clean_dataframe(df, outcome_type, cat_name,  \n",
    "                         dobbs_donor_sensitivity=dobbs_donor_sensitivity, csv_filename=None)\n",
    "    df = df[df['time'] <= pd.to_datetime(end_time)]\n",
    "    df = df.sort_values(by=['state', 'year', 'bmcode']) \n",
    "    df = df.drop_duplicates()\n",
    "\n",
    "    if placebo_state is not None and placebo_state != \"Texas\":\n",
    "        df = create_unit_placebo_dataset(df, placebo_state = placebo_state)\n",
    "    \n",
    "    if placebo_time is not None:\n",
    "        df = create_time_placebo_dataset(df, new_treatment_start = placebo_time)\n",
    "    else:\n",
    "        # Only use data from 2016 onwards if not using a placebo time\n",
    "        df = df[df['time'] >= pd.to_datetime(start_time)]  \n",
    "\n",
    "    data_dict_cat = prep_data(df, outcome_type=outcome_type, group=cat_name)\n",
    "\n",
    "    data_dict_cat['Y'].shape\n",
    "    data_dict_cat['denominators'].shape\n",
    "    data_dict_cat['control_idx_array'].shape\n",
    "    \n",
    "    import numpy as np\n",
    "    from jax import random\n",
    "    from numpyro.infer import MCMC, NUTS, Predictive\n",
    "\n",
    "    #from models.monthly_model import monthly_model\n",
    "\n",
    "    # set the random seed\n",
    "    rng_key = random.PRNGKey(8675309)\n",
    "    # split the random key\n",
    "    rng_key, rng_key_ = random.split(rng_key)\n",
    "    # Setup the sampler\n",
    "    kernel = NUTS(model)\n",
    "\n",
    "    mcmc = MCMC(\n",
    "        kernel,\n",
    "        num_warmup=num_warmup,\n",
    "        num_samples=num_samples,\n",
    "        num_chains=num_chains,\n",
    "        progress_bar=True,\n",
    "        thinning=thinning\n",
    "    )\n",
    "\n",
    "    mcmc.run(\n",
    "        rng_key_,\n",
    "        y=data_dict_cat['Y'],\n",
    "        denominators=data_dict_cat['denominators'],\n",
    "        control_idx_array=data_dict_cat['control_idx_array'],\n",
    "        missing_idx_array=data_dict_cat['missing_idx_array'],\n",
    "        rank=rank,\n",
    "        outcome_dist=dist,\n",
    "        adjust_for_missingness=missingness,\n",
    "        nb_disp = disp_param,\n",
    "        sample_disp = sample_disp,\n",
    "        model_treated = model_treated\n",
    "    )\n",
    "\n",
    "    samples = mcmc.get_samples(group_by_chain=True)\n",
    "    predictive = Predictive(model, mcmc.get_samples(group_by_chain=False))\n",
    "    rng_key, rng_key_ = random.split(rng_key)\n",
    "\n",
    "    predictions = predictive(\n",
    "        rng_key_,\n",
    "        denominators=data_dict_cat['denominators'],\n",
    "        control_idx_array=None, #data_dict_cat['control_idx_array'],\n",
    "        missing_idx_array=None, #data_dict_cat['missing_idx_array'],\n",
    "        rank=rank,\n",
    "        outcome_dist=dist,\n",
    "        nb_disp = disp_param,\n",
    "        sample_disp = sample_disp,\n",
    "        model_treated = False\n",
    "    )['y_obs']\n",
    "    K, D, N = data_dict_cat['denominators'].shape\n",
    "    pred_mat = predictions.reshape(mcmc.num_chains, int(mcmc.num_samples / mcmc.thinning), K, D, N)\n",
    "   \n",
    "    ## Take Python output and convert to draws matrix form\n",
    "    params = dict_to_tidybayes({'mu': samples['mu_ctrl'], 'te': samples['te'], 'disp' : samples['disp']})\n",
    "    preds = dict_to_tidybayes({\"ypred\" : pred_mat})\n",
    "\n",
    "    preds[\".chain\"] = params[\".chain\"]\n",
    "    preds[\".draw\"] = params[\".draw\"]\n",
    "\n",
    "    all_samples = params.merge(preds, left_on = ['.draw', '.chain'], right_on = ['.draw', '.chain'])\n",
    "    results_df = pd.DataFrame(all_samples)\n",
    "\n",
    "    ## save input df\n",
    "    df.to_csv('/Users/shaokangyang/Library/CloudStorage/GoogleDrive-sky.ang510@gmail.com/My Drive/Code/fertility_results/2024/df_{}.csv'.format(results_file_suffix))\n",
    "    ## save posterior samples\n",
    "    results_df.to_csv(\n",
    "        '/Users/shaokangyang/Library/CloudStorage/GoogleDrive-sky.ang510@gmail.com/My Drive/Code/fertility_results/2024/{}_{}_{}_{}_{}.csv'.format(dist, \"births\", cat_name, rank, results_file_suffix)\n",
    "    )\n",
    "\n",
    "    \n",
    "if __name__ == '__main__':\n",
    "    from clean_monthly_birth_data import subgroup_definitions\n",
    "    from joblib import Parallel, delayed\n",
    "\n",
    "    # Define the inputs for the function\n",
    "    inputs = [6, 7, 8, 9, 10, 11, 12]\n",
    "    outcome_type = \"births\" \n",
    "    cats = list(subgroup_definitions[outcome_type].keys())\n",
    "    dists = ['NB'] # Poisson or NB\n",
    "    missing_flags = [True]\n",
    "    # disp_params = [1e-4, 1e-3]\n",
    "    disp_params = [1e-4]\n",
    "    ## placebo_times = [\"2020-05-01\"]\n",
    "    placebo_times = [None]\n",
    "    placebo_states = [None]\n",
    "    sample_disp = False\n",
    "    dobbs_donor_sensitivity = False\n",
    "\n",
    "    args = [(dist, cat, rank, m, disp, p, tm) for dist in dists for rank in inputs for cat in cats \n",
    "            for m in missing_flags for disp in disp_params for p in placebo_states \n",
    "            for tm in placebo_times]\n",
    "    # Run the function in parallel\n",
    "    results = Parallel(n_jobs=8)(delayed(run_model)(dist=i[0], outcome_type=outcome_type, cat_name=i[1], rank=i[2], missingness=i[3], \n",
    "                                                disp_param=i[4],\n",
    "                                                sample_disp=sample_disp, placebo_state=i[5], placebo_time = i[6], \n",
    "                                                dobbs_donor_sensitivity=dobbs_donor_sensitivity, \n",
    "                                                results_file_suffix=\"through_june\", num_chains=1, num_samples=200, num_warmup=100, thinning=2) for i in args)"
   ]
  },
  {
   "cell_type": "code",
   "execution_count": 18,
   "metadata": {},
   "outputs": [
    {
     "name": "stdout",
     "output_type": "stream",
     "text": [
      "['Alabama']\n",
      "['Alabama']\n",
      "['Alaska']\n",
      "['Alaska']\n",
      "['Arizona']\n",
      "['Alabama']\n",
      "['Alabama']\n",
      "['Arizona']\n",
      "['Alabama']\n",
      "['Arkansas']\n",
      "['Arkansas']\n",
      "['Alaska']\n",
      "['Alaska']\n",
      "['California']\n",
      "['Alaska']\n",
      "['California']\n",
      "['Arizona']\n",
      "['Arizona']\n",
      "['Colorado']\n",
      "['Colorado']\n",
      "['Arkansas']\n",
      "['Connecticut']\n",
      "['Arizona']\n",
      "['Arkansas']\n",
      "['Alabama']\n",
      "['Connecticut']\n",
      "['California']\n",
      "['Delaware']\n",
      "['California']\n",
      "['Alabama']\n",
      "['Arkansas']\n",
      "['Delaware']\n",
      "['Colorado']\n",
      "['District of Columbia']\n",
      "['Alaska']\n",
      "['Colorado']\n",
      "['Alaska']\n",
      "['District of Columbia']\n",
      "['California']\n",
      "['Connecticut']\n",
      "['Florida']\n",
      "['Arizona']\n",
      "['Connecticut']\n",
      "['Delaware']\n",
      "['Florida']\n",
      "['Colorado']\n",
      "['Arizona']\n",
      "['Arkansas']\n",
      "['Georgia']\n",
      "['Delaware']\n",
      "['District of Columbia']\n",
      "['Connecticut']\n",
      "['Arkansas']\n",
      "['Georgia']\n",
      "['District of Columbia']\n",
      "['California']\n",
      "['Hawaii']\n",
      "['Florida']\n",
      "['California']\n",
      "['Idaho']\n",
      "['Georgia']\n",
      "['Florida']\n",
      "['Delaware']\n",
      "['Colorado']\n",
      "['Colorado']\n",
      "['Hawaii']\n",
      "['Georgia']\n",
      "['District of Columbia']\n",
      "['Connecticut']\n",
      "['Hawaii']\n",
      "['Illinois']\n",
      "['Hawaii']\n",
      "['Florida']\n",
      "['Delaware']\n",
      "['Idaho']\n",
      "['Idaho']\n",
      "['Connecticut']\n",
      "['Indiana']\n",
      "['Idaho']\n",
      "['District of Columbia']\n",
      "['Georgia']\n",
      "['Illinois']\n",
      "['Illinois']\n",
      "['Iowa']\n",
      "['Delaware']\n",
      "['Florida']\n",
      "['Hawaii']\n",
      "['District of Columbia']\n",
      "['Indiana']\n",
      "['Illinois']\n",
      "['Florida']\n",
      "['Indiana']\n",
      "['Iowa']\n",
      "['Georgia']\n",
      "['Idaho']\n",
      "['Indiana']\n",
      "['Kansas']\n",
      "['Georgia']\n",
      "['Iowa']\n",
      "['Hawaii']\n",
      "['Kansas']\n",
      "['Illinois']\n",
      "['Iowa']\n",
      "['Hawaii']\n",
      "['Kentucky']\n",
      "['Kansas']\n",
      "['Indiana']\n",
      "['Idaho']\n",
      "['Kentucky']\n",
      "['Kansas']\n",
      "['Idaho']\n",
      "['Kentucky']\n",
      "['Louisiana']\n",
      "['Iowa']\n",
      "['Illinois']\n",
      "['Louisiana']\n",
      "['Illinois']\n",
      "['Maine']\n",
      "['Kansas']\n",
      "['Louisiana']\n",
      "['Kentucky']\n",
      "['Indiana']\n",
      "['Maine']\n",
      "['Indiana']\n",
      "['Maryland']\n",
      "['Kentucky']\n",
      "['Louisiana']\n",
      "['Iowa']\n",
      "['Maine']\n",
      "['Iowa']\n",
      "['Massachusetts']\n",
      "['Maryland']\n",
      "['Louisiana']\n",
      "['Maine']\n",
      "['Kansas']\n",
      "['Kansas']\n",
      "['Massachusetts']\n",
      "['Maryland']\n",
      "['Michigan']\n",
      "['Maine']\n",
      "['Maryland']\n",
      "['Kentucky']\n",
      "['Michigan']\n",
      "['Minnesota']\n",
      "['Kentucky']\n",
      "['Massachusetts']\n",
      "['Louisiana']\n",
      "['Massachusetts']\n",
      "['Minnesota']\n",
      "['Mississippi']\n",
      "['Maryland']\n",
      "['Michigan']\n",
      "['Louisiana']\n",
      "['Michigan']\n",
      "['Mississippi']\n",
      "['Maine']\n",
      "['Missouri']\n",
      "['Massachusetts']\n",
      "['Minnesota']\n",
      "['Minnesota']\n",
      "['Maryland']\n",
      "['Montana']\n",
      "['Missouri']\n",
      "['Maine']\n",
      "['Mississippi']\n",
      "['Michigan']\n",
      "['Nebraska']\n",
      "['Mississippi']\n",
      "['Montana']\n",
      "['Massachusetts']\n",
      "['Minnesota']\n",
      "['Missouri']\n",
      "['Maryland']\n",
      "['Nebraska']\n",
      "['Nevada']\n",
      "['Michigan']\n",
      "['Missouri']\n",
      "['Mississippi']\n",
      "['Massachusetts']\n",
      "['Montana']\n",
      "['Nevada']\n",
      "['Minnesota']\n",
      "['Missouri']\n",
      "['New Hampshire']\n",
      "['Montana']\n",
      "['Michigan']\n",
      "['New Hampshire']\n",
      "['Nebraska']\n",
      "['Minnesota']\n",
      "['New Jersey']\n",
      "['Nevada']\n",
      "['Nebraska']\n",
      "['Mississippi']\n",
      "['New Mexico']\n",
      "['Montana']\n",
      "['Nevada']\n",
      "['New Hampshire']\n",
      "['Missouri']\n",
      "['New York']\n",
      "['New Jersey']\n",
      "['New Hampshire']\n",
      "['Mississippi']\n",
      "['New Jersey']\n",
      "['Montana']\n",
      "['North Carolina']\n",
      "['Nebraska']\n",
      "['Missouri']\n",
      "['New Mexico']\n",
      "['New Jersey']\n",
      "['North Dakota']\n",
      "['New Mexico']\n",
      "['Nebraska']\n",
      "['Nevada']\n",
      "['Montana']\n",
      "['New York']\n",
      "['New Mexico']\n",
      "['New Hampshire']\n",
      "['New York']\n",
      "['Nevada']\n",
      "['Nebraska']\n",
      "['North Carolina']\n",
      "['New York']\n",
      "['Ohio']\n",
      "['New Jersey']\n",
      "['New Hampshire']\n",
      "['Nevada']\n",
      "['North Carolina']\n",
      "['North Dakota']\n",
      "['North Carolina']\n",
      "['Oklahoma']\n",
      "['New Mexico']\n",
      "['New Jersey']\n",
      "['New Hampshire']\n",
      "['North Dakota']\n",
      "['Oregon']\n",
      "['New York']\n",
      "['Ohio']\n",
      "['New Mexico']\n",
      "['North Dakota']\n",
      "['Ohio']\n",
      "['New Jersey']\n",
      "['New York']\n",
      "['North Carolina']\n",
      "['Oklahoma']\n",
      "['Ohio']\n",
      "['Pennsylvania']\n",
      "['Alabama']\n",
      "['Oklahoma']\n",
      "['New Mexico']\n",
      "['North Carolina']\n",
      "['Oregon']\n",
      "['North Dakota']\n",
      "['Oregon']\n",
      "['Oklahoma']\n",
      "['Alaska']\n",
      "['New York']\n",
      "['North Dakota']\n",
      "['Rhode Island']\n",
      "['Pennsylvania']\n",
      "['Ohio']\n",
      "['Pennsylvania']\n",
      "['Oregon']\n",
      "['Arizona']\n",
      "['North Carolina']\n",
      "['Ohio']\n",
      "['South Carolina']\n",
      "['Oklahoma']\n",
      "['Rhode Island']\n",
      "['Pennsylvania']\n",
      "['North Dakota']\n",
      "['Arkansas']\n",
      "['Rhode Island']\n",
      "['Oklahoma']\n",
      "['South Dakota']\n",
      "['Rhode Island']\n",
      "['California']\n",
      "['South Carolina']\n",
      "['Oregon']\n",
      "['Ohio']\n",
      "['Oregon']\n",
      "['South Carolina']\n",
      "['South Dakota']\n",
      "['Colorado']\n",
      "['South Carolina']\n",
      "['Tennessee']\n",
      "['Oklahoma']\n",
      "['Pennsylvania']\n",
      "['South Dakota']\n",
      "['Pennsylvania']\n",
      "['Tennessee']\n",
      "['Connecticut']\n",
      "['Texas']\n",
      "['Oregon']\n",
      "['Tennessee']\n",
      "['South Dakota']\n",
      "['Rhode Island']\n",
      "['Rhode Island']\n",
      "['Texas']\n",
      "['Utah']\n",
      "['Delaware']\n",
      "['Pennsylvania']\n",
      "['Texas']\n",
      "['Tennessee']\n",
      "['South Carolina']\n",
      "['South Carolina']\n",
      "['Vermont']\n",
      "['Rhode Island']\n",
      "['Utah']\n",
      "['Utah']\n",
      "['District of Columbia']\n",
      "['Texas']\n",
      "['Virginia']\n",
      "['South Carolina']\n",
      "['South Dakota']\n",
      "['South Dakota']\n",
      "['Vermont']\n",
      "['Vermont']\n",
      "['Florida']\n",
      "['Washington']\n",
      "['South Dakota']\n",
      "['Tennessee']\n",
      "['Virginia']\n",
      "['Utah']\n",
      "['Tennessee']\n",
      "['Virginia']\n",
      "['West Virginia']\n",
      "['Georgia']\n",
      "['Washington']\n",
      "['Texas']\n",
      "['Washington']\n",
      "['Wisconsin']\n",
      "['Tennessee']\n",
      "['Texas']\n",
      "['West Virginia']\n",
      "['West Virginia']\n",
      "['Utah']\n",
      "['Wyoming']\n",
      "['Hawaii']\n",
      "['Utah']\n",
      "['Texas']\n",
      "['Wisconsin']\n",
      "['Wisconsin']\n",
      "['Idaho']\n",
      "['Vermont']\n",
      "['Vermont']\n",
      "['Utah']\n",
      "['Wyoming']\n",
      "['Illinois']\n",
      "['Wyoming']\n",
      "['Virginia']\n",
      "['Washington']\n",
      "['Virginia']\n",
      "['Indiana']\n",
      "['Washington']\n",
      "['Vermont']\n",
      "['West Virginia']\n",
      "['Iowa']\n",
      "['West Virginia']\n",
      "['Vermont']\n",
      "['Virginia']\n",
      "['Wisconsin']\n",
      "['Kansas']\n",
      "['Wisconsin']\n",
      "['Washington']\n",
      "['Wyoming']\n",
      "['Kentucky']\n",
      "['West Virginia']\n",
      "['Wyoming']\n",
      "['Louisiana']\n",
      "['Wisconsin']\n",
      "['Maine']\n",
      "['Wyoming']\n",
      "['Maryland']\n",
      "['Virginia']\n",
      "['Massachusetts']\n",
      "['Michigan']\n",
      "['Washington']\n",
      "['Minnesota']\n",
      "['West Virginia']\n",
      "['Mississippi']\n",
      "['Wisconsin']\n",
      "['Missouri']\n",
      "['Wyoming']\n",
      "['Montana']\n",
      "['Nebraska']\n",
      "['Nevada']\n",
      "['New Hampshire']\n",
      "['Alabama', 'Arkansas', 'Georgia', 'Idaho', 'Kentucky', 'Louisiana', 'Mississippi', 'Missouri', 'Oklahoma', 'South Dakota', 'Tennessee', 'Texas', 'West Virginia', 'Wisconsin']\n",
      "['New Jersey']\n",
      "⚠️ Warning: `dobbscode_sensitivity` column not found, skipping donor sensitivity filtering.\n",
      "['Alabama', 'Arkansas', 'Georgia', 'Idaho', 'Kentucky', 'Louisiana', 'Mississippi', 'Missouri', 'Oklahoma', 'South Dakota', 'Tennessee', 'Texas', 'West Virginia', 'Wisconsin']\n",
      "⚠️ Warning: `dobbscode_sensitivity` column not found, skipping donor sensitivity filtering.\n",
      "['New Mexico']\n",
      "['Alabama', 'Arkansas', 'Georgia', 'Idaho', 'Kentucky', 'Louisiana', 'Mississippi', 'Missouri', 'Oklahoma', 'South Dakota', 'Tennessee', 'Texas', 'West Virginia', 'Wisconsin']\n",
      "⚠️ Warning: `dobbscode_sensitivity` column not found, skipping donor sensitivity filtering.\n",
      "['New York']\n",
      "['North Carolina']\n",
      "['North Dakota']\n",
      "['Alabama', 'Arkansas', 'Georgia', 'Idaho', 'Kentucky', 'Louisiana', 'Mississippi', 'Missouri', 'Oklahoma', 'South Dakota', 'Tennessee', 'Texas', 'West Virginia', 'Wisconsin']\n",
      "['Ohio']\n",
      "⚠️ Warning: `dobbscode_sensitivity` column not found, skipping donor sensitivity filtering.\n",
      "['Oklahoma']\n",
      "['Oregon']\n",
      "['Alabama', 'Arkansas', 'Georgia', 'Idaho', 'Kentucky', 'Louisiana', 'Mississippi', 'Missouri', 'Oklahoma', 'South Dakota', 'Tennessee', 'Texas', 'West Virginia', 'Wisconsin']\n",
      "['Alabama', 'Arkansas', 'Georgia', 'Idaho', 'Kentucky', 'Louisiana', 'Mississippi', 'Missouri', 'Oklahoma', 'South Dakota', 'Tennessee', 'Texas', 'West Virginia', 'Wisconsin']\n",
      "⚠️ Warning: `dobbscode_sensitivity` column not found, skipping donor sensitivity filtering.\n",
      "['Pennsylvania']\n",
      "⚠️ Warning: `dobbscode_sensitivity` column not found, skipping donor sensitivity filtering.\n",
      "['Rhode Island']\n",
      "['South Carolina']\n",
      "['South Dakota']\n",
      "['Tennessee']\n",
      "['Texas']\n",
      "['Utah']\n",
      "['Vermont']\n",
      "['Alabama', 'Arkansas', 'Georgia', 'Idaho', 'Kentucky', 'Louisiana', 'Mississippi', 'Missouri', 'Oklahoma', 'South Dakota', 'Tennessee', 'Texas', 'West Virginia', 'Wisconsin']\n",
      "['Virginia']\n",
      "⚠️ Warning: `dobbscode_sensitivity` column not found, skipping donor sensitivity filtering.\n",
      "['Washington']\n",
      "['West Virginia']\n",
      "['Wisconsin']\n",
      "['Wyoming']\n",
      "['Alabama', 'Arkansas', 'Georgia', 'Idaho', 'Kentucky', 'Louisiana', 'Mississippi', 'Missouri', 'Oklahoma', 'South Dakota', 'Tennessee', 'Texas', 'West Virginia', 'Wisconsin']\n",
      "⚠️ Warning: `dobbscode_sensitivity` column not found, skipping donor sensitivity filtering.\n",
      "(4, 51)\n",
      "(4, 51)\n",
      "(4, 51)\n",
      "(4, 51, 48)\n",
      "(4, 51, 48)\n",
      "(4, 51)\n",
      "(4, 51, 48)\n",
      "(4, 51, 48)\n",
      "(4, 51, 48)\n",
      "(4, 51, 48)\n",
      "(4, 51, 48)\n",
      "(4, 51, 48)\n",
      "(4, 51)\n",
      "(4, 51, 48)\n",
      "(4, 51, 48)\n",
      "(4, 51)\n",
      "(4, 51, 48)\n",
      "(4, 51, 48)\n",
      "(4, 51)\n",
      "(4, 51, 48)\n",
      "(4, 51, 48)\n",
      "(4, 51)\n",
      "(4, 51, 48)\n",
      "(4, 51, 48)\n",
      "(4, 51)\n",
      "(4, 51)\n",
      "(4, 51, 48)\n",
      "(4, 51, 48)\n",
      "(4, 51, 48)\n",
      "(4, 51, 48)\n",
      "(4, 51)\n",
      "(4, 51)\n",
      "(4, 51)\n",
      "(4, 51, 48)\n",
      "(4, 51, 48)\n",
      "(4, 51, 48)\n",
      "(4, 51, 48)\n",
      "(4, 51, 48)\n",
      "(4, 51, 48)\n",
      "(4, 51)\n",
      "(4, 51, 48)\n",
      "(4, 51, 48)\n",
      "(4, 51)\n",
      "(4, 51, 48)\n",
      "(4, 51, 48)\n",
      "(4, 51)\n",
      "(4, 51)\n",
      "(4, 51)\n",
      "(4, 51)\n",
      "(4, 51, 48)\n",
      "(4, 51, 48)\n",
      "(4, 51, 48)\n",
      "(4, 51, 48)\n",
      "(4, 51, 48)\n",
      "(4, 51, 48)\n",
      "(4, 51, 48)\n",
      "(4, 51, 48)\n",
      "(4, 51)\n",
      "(4, 51)\n",
      "(4, 51, 48)\n",
      "(4, 51, 48)\n",
      "(4, 51)\n",
      "(4, 51, 48)\n",
      "(4, 51, 48)\n",
      "(4, 51, 48)\n",
      "(4, 51, 48)\n"
     ]
    },
    {
     "name": "stderr",
     "output_type": "stream",
     "text": [
      "Compiling.. :   0%|          | 0/1500 [00:00<?, ?it/s]\n",
      "  0%|          | 0/1500 [00:00<?, ?it/s]\u001b[A\n",
      "Compiling.. :   0%|          | 0/1500 [00:00<?, ?it/s]\u001b[A\n",
      "  0%|          | 0/1500 [00:00<?, ?it/s]\u001b[A\n",
      "Compiling.. :   0%|          | 0/1500 [00:00<?, ?it/s]\u001b[A\n",
      "  0%|          | 0/1500 [00:00<?, ?it/s]\u001b[A\n",
      "Compiling.. :   0%|          | 0/1500 [00:00<?, ?it/s]\u001b[A\n",
      "  0%|          | 0/1500 [00:00<?, ?it/s]\u001b[A\n",
      "Compiling.. :   0%|          | 0/1500 [00:00<?, ?it/s]\u001b[A\n",
      "  0%|          | 0/1500 [00:00<?, ?it/s]\u001b[A\n",
      "Compiling.. :   0%|          | 0/1500 [00:00<?, ?it/s]\u001b[A\n",
      "  0%|          | 0/1500 [00:00<?, ?it/s]\u001b[A\n",
      "Compiling.. :   0%|          | 0/1500 [00:00<?, ?it/s]\u001b[A\n",
      "  0%|          | 0/1500 [00:00<?, ?it/s]\u001b[A\n",
      "Compiling.. :   0%|          | 0/1500 [00:00<?, ?it/s]\u001b[A"
     ]
    },
    {
     "name": "stdout",
     "output_type": "stream",
     "text": [
      "(4, 51)\n",
      "(4, 51, 48)\n",
      "(4, 51, 48)\n",
      "(4, 51)\n",
      "(4, 51)\n",
      "(4, 51, 48)\n",
      "(4, 51, 48)\n",
      "(4, 51)\n",
      "(4, 51, 48)\n",
      "(4, 51, 48)\n",
      "(4, 51, 48)\n",
      "(4, 51, 48)\n",
      "(4, 51)\n",
      "(4, 51)\n",
      "(4, 51, 48)\n",
      "(4, 51, 48)\n",
      "(4, 51)\n",
      "(4, 51, 48)\n",
      "(4, 51, 48)\n",
      "(4, 51, 48)\n",
      "(4, 51, 48)\n",
      "(4, 51)\n",
      "(4, 51, 48)\n",
      "(4, 51, 48)\n",
      "(4, 51)\n",
      "(4, 51, 48)\n",
      "(4, 51, 48)\n"
     ]
    },
    {
     "name": "stderr",
     "output_type": "stream",
     "text": [
      "Compiling.. :   0%|          | 0/1500 [00:00<?, ?it/s]\n",
      "  0%|          | 0/1500 [00:00<?, ?it/s]\u001b[A\n",
      "Compiling.. :   0%|          | 0/1500 [00:00<?, ?it/s]\u001b[A"
     ]
    },
    {
     "name": "stdout",
     "output_type": "stream",
     "text": [
      "(4, 51)\n",
      "(4, 51)\n",
      "(4, 51, 48)\n",
      "(4, 51, 48)\n",
      "(4, 51, 48)\n",
      "(4, 51, 48)\n",
      "(4, 51)\n",
      "(4, 51, 48)\n",
      "(4, 51, 48)\n",
      "(4, 51)\n",
      "(4, 51, 48)\n",
      "(4, 51, 48)\n",
      "(4, 51)\n",
      "(4, 51, 48)\n",
      "(4, 51, 48)\n",
      "(4, 51)\n",
      "(4, 51, 48)\n",
      "(4, 51, 48)\n",
      "(4, 51)\n",
      "(4, 51, 48)\n",
      "(4, 51, 48)\n",
      "(4, 51)\n",
      "(4, 51, 48)\n",
      "(4, 51, 48)\n",
      "(4, 51)\n",
      "(4, 51, 48)\n",
      "(4, 51, 48)\n"
     ]
    },
    {
     "name": "stderr",
     "output_type": "stream",
     "text": [
      "Running chain 0:   0%|          | 0/1500 [00:13<?, ?it/s]\n",
      "Running chain 0:   0%|          | 0/1500 [00:14<?, ?it/s]\u001b[A\n",
      "Running chain 0:   0%|          | 0/1500 [00:14<?, ?it/s]\u001b[A\n",
      "Running chain 0:   0%|          | 0/1500 [00:14<?, ?it/s]\u001b[A\n",
      "Running chain 1:   0%|          | 0/1500 [00:14<?, ?it/s]\u001b[A\n",
      "Running chain 0:   0%|          | 0/1500 [00:14<?, ?it/s]\u001b[A\n",
      "Running chain 0:   0%|          | 0/1500 [00:14<?, ?it/s]\u001b[A\n",
      "Running chain 0:   0%|          | 0/1500 [00:15<?, ?it/s]\u001b[A\n",
      "Running chain 1:   0%|          | 0/1500 [00:15<?, ?it/s]\u001b[A\n",
      "Running chain 0:   5%|▌         | 75/1500 [01:44<28:47,  1.21s/it]\u001b[A\n",
      "Running chain 1:   5%|▌         | 75/1500 [01:53<31:28,  1.33s/it]\u001b[A\n",
      "Running chain 0:   5%|▌         | 75/1500 [02:04<34:38,  1.46s/it]\u001b[A\n",
      "Running chain 0:   5%|▌         | 75/1500 [02:04<34:39,  1.46s/it]\u001b[A\n",
      "Running chain 0:   5%|▌         | 75/1500 [02:10<36:41,  1.55s/it]\u001b[A\n",
      "Running chain 1:   5%|▌         | 75/1500 [02:12<37:25,  1.58s/it]\u001b[A\n",
      "Running chain 0:   5%|▌         | 75/1500 [02:17<39:00,  1.64s/it]\u001b[A\n",
      "Running chain 0:  10%|█         | 150/1500 [04:19<38:26,  1.71s/it][A\n",
      "Running chain 1:  10%|█         | 150/1500 [04:24<39:28,  1.75s/it]\u001b[A\n",
      "Running chain 0:  10%|█         | 150/1500 [04:55<43:44,  1.94s/it]\u001b[A\n",
      "Running chain 1:  10%|█         | 150/1500 [04:58<44:12,  1.97s/it]\u001b[A\n",
      "Running chain 0:  10%|█         | 150/1500 [05:06<45:56,  2.04s/it]\u001b[A\n",
      "Running chain 0:  10%|█         | 150/1500 [05:10<46:09,  2.05s/it]\u001b[A\n",
      "Running chain 1:  10%|█         | 150/1500 [05:13<46:29,  2.07s/it]\u001b[A\n",
      "Running chain 0:  10%|█         | 150/1500 [05:27<49:04,  2.18s/it]\u001b[A\n",
      "Running chain 0:  15%|█▌        | 225/1500 [06:44<38:34,  1.82s/it]\u001b[A\n",
      "Running chain 1:  15%|█▌        | 225/1500 [06:53<39:06,  1.84s/it]\u001b[A\n",
      "Running chain 0:  15%|█▌        | 225/1500 [07:40<43:46,  2.06s/it]\u001b[A\n",
      "Running chain 0:  15%|█▌        | 225/1500 [07:57<45:19,  2.13s/it]\u001b[A\n",
      "Running chain 1:  15%|█▌        | 225/1500 [08:01<45:58,  2.16s/it]\u001b[A\n",
      "Running chain 1:  15%|█▌        | 225/1500 [08:03<45:53,  2.16s/it]\u001b[A\n",
      "Running chain 0:  15%|█▌        | 225/1500 [08:14<47:53,  2.25s/it]\u001b[A\n",
      "Running chain 0:  15%|█▌        | 225/1500 [08:41<50:20,  2.37s/it]\u001b[A\n",
      "Running chain 0:  20%|██        | 300/1500 [09:11<37:23,  1.87s/it]\u001b[A\n",
      "Running chain 1:  20%|██        | 300/1500 [09:15<37:11,  1.86s/it]\u001b[A\n",
      "Running chain 0:  20%|██        | 300/1500 [10:25<42:16,  2.11s/it]\u001b[A\n",
      "Running chain 0:  20%|██        | 300/1500 [10:48<43:52,  2.19s/it]\u001b[A\n",
      "Running chain 1:  20%|██        | 300/1500 [10:55<44:32,  2.23s/it]\u001b[A\n",
      "Running chain 0:  20%|██        | 300/1500 [11:01<44:55,  2.25s/it]\u001b[A\n",
      "Running chain 0:  20%|██        | 300/1500 [11:19<46:47,  2.34s/it]\u001b[A\n",
      "Running chain 0:  25%|██▌       | 375/1500 [11:41<35:56,  1.92s/it]\u001b[A\n",
      "Running chain 0:  20%|██        | 300/1500 [11:51<48:39,  2.43s/it]\u001b[A\n",
      "Running chain 1:  20%|██        | 300/1500 [12:09<49:37,  2.48s/it]\u001b[A\n",
      "Running chain 0:  25%|██▌       | 375/1500 [13:12<40:28,  2.16s/it]\u001b[A\n",
      "Running chain 0:  25%|██▌       | 375/1500 [13:42<41:57,  2.24s/it]\u001b[A\n",
      "Running chain 1:  25%|██▌       | 375/1500 [13:43<41:37,  2.22s/it]\u001b[A\n",
      "Running chain 0:  30%|███       | 450/1500 [14:10<33:58,  1.94s/it]\u001b[A\n",
      "Running chain 1:  30%|███       | 450/1500 [14:13<33:50,  1.93s/it]\u001b[A\n",
      "Running chain 0:  25%|██▌       | 375/1500 [14:24<44:43,  2.39s/it]\u001b[A\n",
      "Running chain 0:  25%|██▌       | 375/1500 [14:37<44:42,  2.38s/it]\u001b[A\n",
      "Running chain 0:  30%|███       | 450/1500 [15:08<35:55,  2.05s/it]\u001b[A\n",
      "Running chain 0:  30%|███       | 450/1500 [16:00<38:14,  2.19s/it]\u001b[A\n",
      "Running chain 0:  35%|███▌      | 525/1500 [16:30<31:10,  1.92s/it]\u001b[A\n",
      "Running chain 0:  30%|███       | 450/1500 [16:38<39:48,  2.27s/it]\u001b[A\n",
      "Running chain 1:  30%|███       | 450/1500 [16:39<39:41,  2.27s/it]\u001b[A\n",
      "Running chain 0:  30%|███       | 450/1500 [16:55<40:23,  2.31s/it]\u001b[A\n",
      "Running chain 1:  30%|███       | 450/1500 [17:24<42:15,  2.41s/it]\u001b[A\n",
      "Running chain 0:  30%|███       | 450/1500 [17:31<42:22,  2.42s/it]\u001b[A\n",
      "Running chain 0:  30%|███       | 450/1500 [18:22<44:21,  2.53s/it]\u001b[A\n",
      "Running chain 0:  35%|███▌      | 525/1500 [18:42<35:23,  2.18s/it]\u001b[A\n",
      "Running chain 0:  40%|████      | 600/1500 [19:00<29:06,  1.94s/it]\u001b[A\n",
      "Running chain 0:  35%|███▌      | 525/1500 [19:28<36:55,  2.27s/it]\u001b[A\n",
      "Running chain 1:  35%|███▌      | 525/1500 [19:32<37:00,  2.28s/it]\u001b[A\n",
      "Running chain 0:  35%|███▌      | 525/1500 [19:46<37:25,  2.30s/it]\u001b[A\n",
      "Running chain 0:  40%|████      | 600/1500 [20:23<31:11,  2.08s/it]\u001b[A\n",
      "Running chain 0:  35%|███▌      | 525/1500 [20:32<39:16,  2.42s/it]\u001b[A\n",
      "Running chain 0:  35%|███▌      | 525/1500 [21:30<41:02,  2.53s/it]\u001b[A\n",
      "Running chain 1:  45%|████▌     | 675/1500 [21:36<26:59,  1.96s/it]\u001b[A\n",
      "Running chain 1:  40%|████      | 600/1500 [21:36<33:09,  2.21s/it]\u001b[A\n",
      "Running chain 0:  40%|████      | 600/1500 [22:25<34:31,  2.30s/it]\u001b[A\n",
      "Running chain 1:  40%|████      | 600/1500 [22:27<34:23,  2.29s/it]\u001b[A\n",
      "Running chain 0:  40%|████      | 600/1500 [22:44<34:50,  2.32s/it]\u001b[A\n",
      "Running chain 0:  45%|████▌     | 675/1500 [23:01<28:40,  2.09s/it]\u001b[A\n",
      "Running chain 0:  40%|████      | 600/1500 [23:39<36:35,  2.44s/it]\u001b[A\n",
      "Running chain 0:  50%|█████     | 750/1500 [24:01<24:43,  1.98s/it]\u001b[A\n",
      "Running chain 0:  45%|████▌     | 675/1500 [24:16<30:17,  2.20s/it]\u001b[A\n",
      "Running chain 0:  40%|████      | 600/1500 [24:45<38:11,  2.55s/it]\u001b[A\n",
      "Running chain 1:  40%|████      | 600/1500 [25:10<38:43,  2.58s/it]\u001b[A\n",
      "Running chain 0:  45%|████▌     | 675/1500 [25:22<31:54,  2.32s/it]\u001b[A\n",
      "Running chain 1:  50%|█████     | 750/1500 [25:24<26:09,  2.09s/it]\u001b[A\n",
      "Running chain 0:  55%|█████▌    | 825/1500 [26:31<22:19,  1.98s/it]\u001b[A\n",
      "Running chain 1:  55%|█████▌    | 825/1500 [26:38<22:23,  1.99s/it]\u001b[A\n",
      "Running chain 0:  45%|████▌     | 675/1500 [26:46<33:49,  2.46s/it]\u001b[A\n",
      "Running chain 0:  50%|█████     | 750/1500 [27:08<27:52,  2.23s/it]\u001b[A\n",
      "Running chain 0:  45%|████▌     | 675/1500 [28:03<35:24,  2.58s/it]\u001b[A\n",
      "Running chain 0:  55%|█████▌    | 825/1500 [28:20<23:42,  2.11s/it]\u001b[A\n",
      "Running chain 0:  50%|█████     | 750/1500 [28:22<29:18,  2.34s/it]\u001b[A\n",
      "Running chain 1:  45%|████▌     | 675/1500 [28:29<35:49,  2.61s/it]\u001b[A\n",
      "Running chain 0:  60%|██████    | 900/1500 [29:03<19:58,  2.00s/it]\u001b[A\n",
      "Running chain 1:  60%|██████    | 900/1500 [29:10<20:01,  2.00s/it]\u001b[A\n",
      "Running chain 0:  55%|█████▌    | 825/1500 [29:58<25:14,  2.24s/it]\u001b[A\n",
      "Running chain 1:  55%|█████▌    | 825/1500 [30:01<25:07,  2.23s/it]\u001b[A\n",
      "Running chain 0:  50%|█████     | 750/1500 [30:02<30:49,  2.47s/it]\u001b[A\n",
      "Running chain 0:  55%|█████▌    | 825/1500 [31:19<26:24,  2.35s/it]\u001b[A\n",
      "Running chain 0:  50%|█████     | 750/1500 [31:20<32:23,  2.59s/it]\u001b[A\n",
      "Running chain 0:  55%|█████▌    | 825/1500 [31:35<26:27,  2.35s/it]\u001b[A\n",
      "Running chain 1:  65%|██████▌   | 975/1500 [31:40<17:29,  2.00s/it]\u001b[A\n",
      "Running chain 0:  60%|██████    | 900/1500 [32:48<22:29,  2.25s/it]\u001b[A\n",
      "Running chain 1:  60%|██████    | 900/1500 [32:52<22:29,  2.25s/it]\u001b[A\n",
      "Running chain 0:  55%|█████▌    | 825/1500 [33:05<28:03,  2.49s/it]\u001b[A\n",
      "Running chain 0:  55%|█████▌    | 825/1500 [33:14<28:03,  2.49s/it]\u001b[A\n",
      "Running chain 0:  70%|███████   | 1050/1500 [34:08<15:06,  2.02s/it][A\n",
      "Running chain 0:  60%|██████    | 900/1500 [34:19<23:38,  2.36s/it]]\u001b[A\n",
      "Running chain 1:  60%|██████    | 900/1500 [34:22<23:44,  2.37s/it]\u001b[A\n",
      "Running chain 0:  55%|█████▌    | 825/1500 [34:38<29:21,  2.61s/it]\u001b[A\n",
      "Running chain 0:  65%|██████▌   | 975/1500 [35:37<19:41,  2.25s/it]\u001b[A\n",
      "Running chain 1:  65%|██████▌   | 975/1500 [35:46<19:51,  2.27s/it]\u001b[A\n",
      "Running chain 1:  60%|██████    | 900/1500 [36:05<24:54,  2.49s/it]\u001b[A\n",
      "Running chain 0:  60%|██████    | 900/1500 [36:15<25:04,  2.51s/it]]\u001b[A\n",
      "Running chain 0:  75%|███████▌  | 1125/1500 [36:39<12:36,  2.02s/it][A\n",
      "Running chain 0:  65%|██████▌   | 975/1500 [37:18<20:44,  2.37s/it]]\u001b[A\n",
      "Running chain 1:  65%|██████▌   | 975/1500 [37:21<20:48,  2.38s/it]\u001b[A\n",
      "Running chain 0:  70%|███████   | 1050/1500 [38:28<16:56,  2.26s/it][A\n",
      "Running chain 1:  60%|██████    | 900/1500 [38:31<26:30,  2.65s/it]\u001b[A\n",
      "Running chain 1:  70%|███████   | 1050/1500 [38:36<16:59,  2.27s/it]\u001b[A\n",
      "Running chain 0:  75%|███████▌  | 1125/1500 [39:06<13:22,  2.14s/it]\u001b[A\n",
      "Running chain 0:  80%|████████  | 1200/1500 [39:12<10:06,  2.02s/it][A\n",
      "Running chain 0:  65%|██████▌   | 975/1500 [39:24<21:58,  2.51s/it]]\u001b[A\n",
      "Running chain 0:  70%|███████   | 1050/1500 [40:17<17:49,  2.38s/it][A\n",
      "Running chain 1:  70%|███████   | 1050/1500 [40:18<17:47,  2.37s/it]\u001b[A\n",
      "Running chain 0:  75%|███████▌  | 1125/1500 [41:17<14:06,  2.26s/it]\u001b[A\n",
      "Running chain 1:  75%|███████▌  | 1125/1500 [41:26<14:09,  2.27s/it]\u001b[A\n",
      "Running chain 0:  80%|████████  | 1200/1500 [41:48<10:43,  2.15s/it]\u001b[A\n",
      "Running chain 1:  65%|██████▌   | 975/1500 [41:50<23:12,  2.65s/it]\u001b[A\n",
      "Running chain 1:  85%|████████▌ | 1275/1500 [41:51<07:34,  2.02s/it]\u001b[A\n",
      "Running chain 0:  70%|███████   | 1050/1500 [42:33<18:50,  2.51s/it]\u001b[A\n",
      "Running chain 0:  70%|███████   | 1050/1500 [42:39<18:46,  2.50s/it]\u001b[A\n",
      "Running chain 0:  75%|███████▌  | 1125/1500 [43:17<14:53,  2.38s/it]\u001b[A\n",
      "Running chain 0:  80%|████████  | 1200/1500 [44:07<11:17,  2.26s/it]\u001b[A\n",
      "Running chain 0:  90%|█████████ | 1350/1500 [44:16<05:03,  2.02s/it]\u001b[A\n",
      "Running chain 1:  80%|████████  | 1200/1500 [44:18<11:22,  2.27s/it]\u001b[A\n",
      "Running chain 0:  70%|███████   | 1050/1500 [44:33<19:44,  2.63s/it]\u001b[A\n",
      "Running chain 1:  70%|███████   | 1050/1500 [45:07<19:51,  2.65s/it]\u001b[A\n",
      "Running chain 0:  75%|███████▌  | 1125/1500 [45:48<15:40,  2.51s/it]\u001b[A\n",
      "Running chain 1:  75%|███████▌  | 1125/1500 [45:49<15:45,  2.52s/it]\u001b[A\n",
      "Running chain 0:  80%|████████  | 1200/1500 [46:16<11:55,  2.39s/it]\u001b[A\n",
      "Running chain 0:  95%|█████████▌| 1425/1500 [46:49<02:32,  2.03s/it]\u001b[A\n",
      "Running chain 1:  90%|█████████ | 1350/1500 [46:55<05:22,  2.15s/it]\u001b[A\n",
      "Running chain 0:  85%|████████▌ | 1275/1500 [46:58<08:29,  2.27s/it]\u001b[A\n",
      "Running chain 0:  75%|███████▌  | 1125/1500 [47:52<16:29,  2.64s/it]\u001b[A\n",
      "Running chain 1:  75%|███████▌  | 1125/1500 [48:26<16:33,  2.65s/it]\u001b[A\n",
      "Running chain 0:  80%|████████  | 1200/1500 [48:54<12:29,  2.50s/it]\u001b[A\n",
      "Running chain 1:  80%|████████  | 1200/1500 [48:57<12:35,  2.52s/it]\u001b[A\n",
      "Running chain 0: 100%|██████████| 1500/1500 [49:21<00:00,  1.97s/it]\u001b[A\n",
      "\n",
      "Running chain 1:  85%|████████▌ | 1275/1500 [49:21<08:56,  2.38s/it]\u001b[A\n",
      "Running chain 1: 100%|██████████| 1500/1500 [49:27<00:00,  1.98s/it]\u001b[A\n",
      "Running chain 0:  85%|████████▌ | 1275/1500 [49:30<08:55,  2.38s/it]"
     ]
    },
    {
     "name": "stdout",
     "output_type": "stream",
     "text": [
      "['mu', 'te', 'disp']\n"
     ]
    },
    {
     "name": "stderr",
     "output_type": "stream",
     "text": [
      "\n",
      "Running chain 1:  95%|█████████▌| 1425/1500 [49:35<02:41,  2.15s/it]\u001b[A"
     ]
    },
    {
     "name": "stdout",
     "output_type": "stream",
     "text": [
      "['ypred']\n"
     ]
    },
    {
     "name": "stderr",
     "output_type": "stream",
     "text": [
      "Running chain 0:  90%|█████████ | 1350/1500 [49:46<05:39,  2.26s/it]\n",
      "Running chain 1:  90%|█████████ | 1350/1500 [49:53<05:37,  2.25s/it]\u001b[A"
     ]
    },
    {
     "name": "stdout",
     "output_type": "stream",
     "text": [
      "['Alabama']\n",
      "['Alaska']\n",
      "['Arizona']\n",
      "['Arkansas']\n",
      "['California']\n",
      "['Colorado']\n",
      "['Connecticut']\n",
      "['Delaware']\n",
      "['District of Columbia']\n",
      "['Florida']\n",
      "['Georgia']\n",
      "['Hawaii']\n",
      "['Idaho']\n",
      "['Illinois']\n",
      "['Indiana']\n",
      "['Iowa']\n",
      "['Kansas']\n",
      "['Kentucky']\n",
      "['Louisiana']\n",
      "['Maine']\n",
      "['Maryland']\n",
      "['Massachusetts']\n",
      "['Michigan']\n",
      "['Minnesota']\n",
      "['Mississippi']\n",
      "['Missouri']\n",
      "['Montana']\n",
      "['Nebraska']\n",
      "['Nevada']\n",
      "['New Hampshire']\n",
      "['New Jersey']\n",
      "['New Mexico']\n",
      "['New York']\n",
      "['North Carolina']\n",
      "['North Dakota']\n",
      "['Ohio']\n",
      "['Oklahoma']\n",
      "['Oregon']\n",
      "['Pennsylvania']\n",
      "['Rhode Island']\n",
      "['South Carolina']\n",
      "['South Dakota']\n",
      "['Tennessee']\n",
      "['Texas']\n",
      "['Utah']\n",
      "['Vermont']\n",
      "['Virginia']\n",
      "['Washington']\n",
      "['West Virginia']\n",
      "['Wisconsin']\n",
      "['Wyoming']\n",
      "['Alabama', 'Arkansas', 'Georgia', 'Idaho', 'Kentucky', 'Louisiana', 'Mississippi', 'Missouri', 'Oklahoma', 'South Dakota', 'Tennessee', 'Texas', 'West Virginia', 'Wisconsin']\n",
      "⚠️ Warning: `dobbscode_sensitivity` column not found, skipping donor sensitivity filtering.\n",
      "(4, 51)\n",
      "(4, 51, 48)\n",
      "(4, 51, 48)\n",
      "(4, 51)\n",
      "(4, 51, 48)\n",
      "(4, 51, 48)\n",
      "(4, 51)\n",
      "(4, 51, 48)\n",
      "(4, 51, 48)\n"
     ]
    },
    {
     "name": "stderr",
     "output_type": "stream",
     "text": [
      "Compiling.. :   0%|          | 0/1500 [00:00<?, ?it/s]\n",
      "  0%|          | 0/1500 [00:00<?, ?it/s]\u001b[A\n",
      "Compiling.. :   0%|          | 0/1500 [00:00<?, ?it/s]\u001b[A"
     ]
    },
    {
     "name": "stdout",
     "output_type": "stream",
     "text": [
      "(4, 51)\n",
      "(4, 51, 48)\n",
      "(4, 51, 48)\n",
      "(4, 51)\n",
      "(4, 51, 48)\n",
      "(4, 51, 48)\n"
     ]
    },
    {
     "name": "stderr",
     "output_type": "stream",
     "text": [
      "Running chain 0:   0%|          | 0/1500 [00:17<?, ?it/s]\n",
      "Running chain 0:  80%|████████  | 1200/1500 [51:03<13:03,  2.61s/it]\n",
      "Running chain 1:  80%|████████  | 1200/1500 [51:39<13:07,  2.62s/it]\u001b[A\n",
      "Running chain 0:  85%|████████▌ | 1275/1500 [51:57<09:18,  2.48s/it]\u001b[A\n",
      "Running chain 1:  85%|████████▌ | 1275/1500 [52:02<09:23,  2.50s/it]\u001b[A\n",
      "Running chain 0:  90%|█████████ | 1350/1500 [52:10<05:54,  2.37s/it]\u001b[A\n",
      "Running chain 1: 100%|██████████| 1500/1500 [52:11<00:00,  2.09s/it]\u001b[A\n",
      "\n",
      "Running chain 0: 100%|██████████| 1500/1500 [52:19<00:00,  2.09s/it]\u001b[A\n"
     ]
    },
    {
     "name": "stdout",
     "output_type": "stream",
     "text": [
      "['mu', 'te', 'disp']\n"
     ]
    },
    {
     "name": "stderr",
     "output_type": "stream",
     "text": [
      "Running chain 0:   5%|▌         | 75/1500 [02:17<37:54,  1.60s/it]t]\n",
      "Running chain 1:   5%|▌         | 75/1500 [02:18<38:17,  1.61s/it]\u001b[A"
     ]
    },
    {
     "name": "stdout",
     "output_type": "stream",
     "text": [
      "['ypred']\n"
     ]
    },
    {
     "name": "stderr",
     "output_type": "stream",
     "text": [
      "Running chain 0:  95%|█████████▌| 1425/1500 [52:33<02:48,  2.25s/it]\n",
      "Running chain 1:  95%|█████████▌| 1425/1500 [52:38<02:47,  2.24s/it]\u001b[A"
     ]
    },
    {
     "name": "stdout",
     "output_type": "stream",
     "text": [
      "['Alabama']\n",
      "['Alaska']\n",
      "['Arizona']\n",
      "['Arkansas']\n",
      "['California']\n",
      "['Colorado']\n",
      "['Connecticut']\n",
      "['Delaware']\n",
      "['District of Columbia']\n",
      "['Florida']\n",
      "['Georgia']\n",
      "['Hawaii']\n",
      "['Idaho']\n",
      "['Illinois']\n",
      "['Indiana']\n",
      "['Iowa']\n",
      "['Kansas']\n",
      "['Kentucky']\n",
      "['Louisiana']\n",
      "['Maine']\n",
      "['Maryland']\n",
      "['Massachusetts']\n",
      "['Michigan']\n",
      "['Minnesota']\n",
      "['Mississippi']\n",
      "['Missouri']\n",
      "['Montana']\n",
      "['Nebraska']\n",
      "['Nevada']\n",
      "['New Hampshire']\n",
      "['New Jersey']\n",
      "['New Mexico']\n",
      "['New York']\n",
      "['North Carolina']\n",
      "['North Dakota']\n",
      "['Ohio']\n",
      "['Oklahoma']\n",
      "['Oregon']\n",
      "['Pennsylvania']\n",
      "['Rhode Island']\n",
      "['South Carolina']\n",
      "['South Dakota']\n",
      "['Tennessee']\n",
      "['Texas']\n",
      "['Utah']\n",
      "['Vermont']\n",
      "['Virginia']\n",
      "['Washington']\n",
      "['West Virginia']\n",
      "['Wisconsin']\n",
      "['Wyoming']\n",
      "['Alabama', 'Arkansas', 'Georgia', 'Idaho', 'Kentucky', 'Louisiana', 'Mississippi', 'Missouri', 'Oklahoma', 'South Dakota', 'Tennessee', 'Texas', 'West Virginia', 'Wisconsin']\n",
      "⚠️ Warning: `dobbscode_sensitivity` column not found, skipping donor sensitivity filtering.\n",
      "(4, 51)\n",
      "(4, 51, 48)\n",
      "(4, 51, 48)\n",
      "(4, 51)\n",
      "(4, 51, 48)\n",
      "(4, 51, 48)\n",
      "(4, 51)\n",
      "(4, 51, 48)\n",
      "(4, 51, 48)\n"
     ]
    },
    {
     "name": "stderr",
     "output_type": "stream",
     "text": [
      "Compiling.. :   0%|          | 0/1500 [00:00<?, ?it/s]\n",
      "  0%|          | 0/1500 [00:00<?, ?it/s]\u001b[A\n",
      "Compiling.. :   0%|          | 0/1500 [00:00<?, ?it/s]\u001b[A"
     ]
    },
    {
     "name": "stdout",
     "output_type": "stream",
     "text": [
      "(4, 51)\n",
      "(4, 51, 48)\n",
      "(4, 51, 48)\n",
      "(4, 51)\n",
      "(4, 51, 48)\n",
      "(4, 51, 48)\n"
     ]
    },
    {
     "name": "stderr",
     "output_type": "stream",
     "text": [
      "Running chain 0:   0%|          | 0/1500 [00:18<?, ?it/s]\n",
      "Running chain 0:  85%|████████▌ | 1275/1500 [54:17<09:45,  2.60s/it]\n",
      "Running chain 1:  90%|█████████ | 1350/1500 [54:46<06:12,  2.48s/it]\u001b[A\n",
      "Running chain 0:  90%|█████████ | 1350/1500 [55:00<06:10,  2.47s/it]\u001b[A\n",
      "Running chain 0:  95%|█████████▌| 1425/1500 [55:05<02:56,  2.36s/it]\u001b[A\n",
      "Running chain 1:  95%|█████████▌| 1425/1500 [55:07<02:56,  2.35s/it]\u001b[A\n",
      "Running chain 0: 100%|██████████| 1500/1500 [55:21<00:00,  2.21s/it]\u001b[A\n",
      "\n",
      "Running chain 1: 100%|██████████| 1500/1500 [55:25<00:00,  2.22s/it]\u001b[A\n",
      "Running chain 0:   5%|▌         | 75/1500 [02:23<39:49,  1.68s/it]\n",
      "Running chain 1:   5%|▌         | 75/1500 [02:27<41:01,  1.73s/it]\u001b[A"
     ]
    },
    {
     "name": "stdout",
     "output_type": "stream",
     "text": [
      "['mu', 'te', 'disp']\n",
      "['ypred']\n"
     ]
    },
    {
     "name": "stderr",
     "output_type": "stream",
     "text": [
      "Running chain 0:  10%|█         | 150/1500 [05:45<51:26,  2.29s/it]\n",
      "Running chain 1:  10%|█         | 150/1500 [05:45<51:24,  2.28s/it]\u001b[A"
     ]
    },
    {
     "name": "stdout",
     "output_type": "stream",
     "text": [
      "['Alabama']\n",
      "['Alaska']\n",
      "['Arizona']\n",
      "['Arkansas']\n",
      "['California']\n",
      "['Colorado']\n",
      "['Connecticut']\n",
      "['Delaware']\n",
      "['District of Columbia']\n",
      "['Florida']\n",
      "['Georgia']\n",
      "['Hawaii']\n",
      "['Idaho']\n",
      "['Illinois']\n",
      "['Indiana']\n",
      "['Iowa']\n",
      "['Kansas']\n",
      "['Kentucky']\n",
      "['Louisiana']\n",
      "['Maine']\n",
      "['Maryland']\n",
      "['Massachusetts']\n",
      "['Michigan']\n",
      "['Minnesota']\n",
      "['Mississippi']\n",
      "['Missouri']\n",
      "['Montana']\n",
      "['Nebraska']\n",
      "['Nevada']\n",
      "['New Hampshire']\n",
      "['New Jersey']\n",
      "['New Mexico']\n",
      "['New York']\n",
      "['North Carolina']\n",
      "['North Dakota']\n",
      "['Ohio']\n",
      "['Oklahoma']\n",
      "['Oregon']\n",
      "['Pennsylvania']\n",
      "['Rhode Island']\n",
      "['South Carolina']\n",
      "['South Dakota']\n",
      "['Tennessee']\n",
      "['Texas']\n",
      "['Utah']\n",
      "['Vermont']\n",
      "['Virginia']\n",
      "['Washington']\n",
      "['West Virginia']\n",
      "['Wisconsin']\n",
      "['Wyoming']\n",
      "['Alabama', 'Arkansas', 'Georgia', 'Idaho', 'Kentucky', 'Louisiana', 'Mississippi', 'Missouri', 'Oklahoma', 'South Dakota', 'Tennessee', 'Texas', 'West Virginia', 'Wisconsin']\n",
      "⚠️ Warning: `dobbscode_sensitivity` column not found, skipping donor sensitivity filtering.\n",
      "(4, 51)\n",
      "(4, 51, 48)\n",
      "(4, 51, 48)\n",
      "(4, 51)\n",
      "(4, 51, 48)\n",
      "(4, 51, 48)\n",
      "(4, 51)\n",
      "(4, 51, 48)\n",
      "(4, 51, 48)\n"
     ]
    },
    {
     "name": "stderr",
     "output_type": "stream",
     "text": [
      "Compiling.. :   0%|          | 0/1500 [00:00<?, ?it/s]\n",
      "  0%|          | 0/1500 [00:00<?, ?it/s]\u001b[A\n",
      "Compiling.. :   0%|          | 0/1500 [00:00<?, ?it/s]\u001b[A"
     ]
    },
    {
     "name": "stdout",
     "output_type": "stream",
     "text": [
      "(4, 51)\n",
      "(4, 51, 48)\n",
      "(4, 51, 48)\n",
      "(4, 51)\n",
      "(4, 51, 48)\n",
      "(4, 51, 48)\n"
     ]
    },
    {
     "name": "stderr",
     "output_type": "stream",
     "text": [
      "Running chain 0:   0%|          | 0/1500 [00:19<?, ?it/s]\n",
      "Running chain 0:  90%|█████████ | 1350/1500 [57:31<06:30,  2.60s/it]\n",
      "Running chain 1:  95%|█████████▌| 1425/1500 [57:52<03:06,  2.48s/it]\u001b[A\n",
      "Running chain 1: 100%|██████████| 1500/1500 [57:58<00:00,  2.32s/it]\u001b[A\n",
      "Running chain 0: 100%|██████████| 1500/1500 [58:00<00:00,  2.32s/it]\n",
      "\n",
      "Running chain 1: 100%|██████████| 1500/1500 [58:03<00:00,  2.32s/it]\u001b[A\n",
      "Running chain 0:  95%|█████████▌| 1425/1500 [58:04<03:06,  2.48s/it]"
     ]
    },
    {
     "name": "stdout",
     "output_type": "stream",
     "text": [
      "['mu', 'te', 'disp']\n"
     ]
    },
    {
     "name": "stderr",
     "output_type": "stream",
     "text": [
      "\n",
      "Running chain 1:  90%|█████████ | 1350/1500 [58:08<06:31,  2.61s/it]\u001b[A\n",
      "Running chain 0: 100%|██████████| 1500/1500 [58:14<00:00,  2.33s/it]\u001b[A\n"
     ]
    },
    {
     "name": "stdout",
     "output_type": "stream",
     "text": [
      "['ypred']\n",
      "['mu', 'te', 'disp']\n",
      "['ypred']\n"
     ]
    },
    {
     "name": "stderr",
     "output_type": "stream",
     "text": [
      "Running chain 0:   5%|▌         | 75/1500 [02:27<40:23,  1.70s/it]"
     ]
    },
    {
     "name": "stdout",
     "output_type": "stream",
     "text": [
      "['Alabama']\n",
      "['Alaska']\n",
      "['Arizona']\n",
      "['Arkansas']\n",
      "['California']\n",
      "['Colorado']\n",
      "['Connecticut']\n",
      "['Delaware']\n",
      "['District of Columbia']\n",
      "['Florida']\n",
      "['Georgia']\n",
      "['Hawaii']\n",
      "['Idaho']\n",
      "['Illinois']\n",
      "['Indiana']\n",
      "['Iowa']\n",
      "['Kansas']\n",
      "['Kentucky']\n",
      "['Louisiana']\n",
      "['Maine']\n",
      "['Maryland']\n",
      "['Massachusetts']\n",
      "['Michigan']\n",
      "['Minnesota']\n",
      "['Mississippi']\n",
      "['Missouri']\n",
      "['Montana']\n",
      "['Nebraska']\n",
      "['Nevada']\n",
      "['New Hampshire']\n",
      "['New Jersey']\n",
      "['New Mexico']\n",
      "['New York']\n",
      "['North Carolina']\n",
      "['North Dakota']\n",
      "['Ohio']\n",
      "['Oklahoma']\n",
      "['Oregon']\n",
      "['Pennsylvania']\n",
      "['Rhode Island']\n",
      "['South Carolina']\n",
      "['South Dakota']\n",
      "['Tennessee']\n",
      "['Texas']\n",
      "['Utah']\n",
      "['Vermont']\n",
      "['Virginia']\n",
      "['Washington']\n",
      "['West Virginia']\n",
      "['Wisconsin']\n",
      "['Wyoming']\n",
      "['Alabama', 'Arkansas', 'Georgia', 'Idaho', 'Kentucky', 'Louisiana', 'Mississippi', 'Missouri', 'Oklahoma', 'South Dakota', 'Tennessee', 'Texas', 'West Virginia', 'Wisconsin']\n",
      "⚠️ Warning: `dobbscode_sensitivity` column not found, skipping donor sensitivity filtering.\n",
      "(4, 51)\n",
      "(4, 51, 48)\n",
      "(4, 51, 48)\n",
      "(4, 51)\n",
      "(4, 51, 48)\n",
      "(4, 51, 48)\n",
      "(4, 51)\n",
      "(4, 51, 48)\n",
      "(4, 51, 48)\n"
     ]
    },
    {
     "name": "stderr",
     "output_type": "stream",
     "text": [
      "Compiling.. :   0%|          | 0/1500 [00:00<?, ?it/s]\n",
      "  0%|          | 0/1500 [00:00<?, ?it/s]\u001b[A\n",
      "Compiling.. :   0%|          | 0/1500 [00:00<?, ?it/s]\u001b[A"
     ]
    },
    {
     "name": "stdout",
     "output_type": "stream",
     "text": [
      "(4, 51)\n",
      "(4, 51, 48)\n",
      "(4, 51, 48)\n",
      "(4, 51)\n",
      "(4, 51, 48)\n",
      "(4, 51, 48)\n"
     ]
    },
    {
     "name": "stderr",
     "output_type": "stream",
     "text": [
      "\n",
      "Running chain 1:   5%|▌         | 75/1500 [02:36<43:23,  1.83s/it]\u001b[A"
     ]
    },
    {
     "name": "stdout",
     "output_type": "stream",
     "text": [
      "['Alabama']\n",
      "['Alaska']\n",
      "['Arizona']\n",
      "['Arkansas']\n",
      "['California']\n",
      "['Colorado']\n",
      "['Connecticut']\n",
      "['Delaware']\n",
      "['District of Columbia']\n",
      "['Florida']\n",
      "['Georgia']\n",
      "['Hawaii']\n",
      "['Idaho']\n",
      "['Illinois']\n",
      "['Indiana']\n",
      "['Iowa']\n",
      "['Kansas']\n",
      "['Kentucky']\n",
      "['Louisiana']\n",
      "['Maine']\n",
      "['Maryland']\n",
      "['Massachusetts']\n",
      "['Michigan']\n",
      "['Minnesota']\n",
      "['Mississippi']\n",
      "['Missouri']\n",
      "['Montana']\n",
      "['Nebraska']\n",
      "['Nevada']\n",
      "['New Hampshire']\n",
      "['New Jersey']\n",
      "['New Mexico']\n",
      "['New York']\n",
      "['North Carolina']\n",
      "['North Dakota']\n",
      "['Ohio']\n",
      "['Oklahoma']\n",
      "['Oregon']\n",
      "['Pennsylvania']\n",
      "['Rhode Island']\n",
      "['South Carolina']\n",
      "['South Dakota']\n",
      "['Tennessee']\n",
      "['Texas']\n",
      "['Utah']\n",
      "['Vermont']\n",
      "['Virginia']\n",
      "['Washington']\n",
      "['West Virginia']\n",
      "['Wisconsin']\n",
      "['Wyoming']\n",
      "['Alabama', 'Arkansas', 'Georgia', 'Idaho', 'Kentucky', 'Louisiana', 'Mississippi', 'Missouri', 'Oklahoma', 'South Dakota', 'Tennessee', 'Texas', 'West Virginia', 'Wisconsin']\n",
      "⚠️ Warning: `dobbscode_sensitivity` column not found, skipping donor sensitivity filtering.\n",
      "(4, 51)\n",
      "(4, 51, 48)\n",
      "(4, 51, 48)\n",
      "(4, 51)\n",
      "(4, 51, 48)\n",
      "(4, 51, 48)\n",
      "(4, 51)\n",
      "(4, 51, 48)\n",
      "(4, 51, 48)\n"
     ]
    },
    {
     "name": "stderr",
     "output_type": "stream",
     "text": [
      "Compiling.. :   0%|          | 0/1500 [00:00<?, ?it/s]\n",
      "  0%|          | 0/1500 [00:00<?, ?it/s]\u001b[A\n",
      "Compiling.. :   0%|          | 0/1500 [00:00<?, ?it/s]\u001b[A"
     ]
    },
    {
     "name": "stdout",
     "output_type": "stream",
     "text": [
      "(4, 51)\n",
      "(4, 51, 48)\n",
      "(4, 51, 48)\n",
      "(4, 51)\n",
      "(4, 51, 48)\n",
      "(4, 51, 48)\n"
     ]
    },
    {
     "name": "stderr",
     "output_type": "stream",
     "text": [
      "Running chain 0:   0%|          | 0/1500 [00:16<?, ?it/s] 2.35s/it]\n",
      "Running chain 1:   0%|          | 0/1500 [00:16<?, ?it/s]\u001b[A\n",
      "Running chain 0:   0%|          | 0/1500 [00:20<?, ?it/s] 2.37s/it]\u001b[A\n",
      "Running chain 1:   0%|          | 0/1500 [00:20<?, ?it/s]\u001b[A\n",
      "Running chain 0:  95%|█████████▌| 1425/1500 [1:00:44<03:14,  2.59s/it]\n",
      "Running chain 1: 100%|██████████| 1500/1500 [1:00:53<00:00,  2.44s/it]\u001b[A\n",
      "Running chain 0: 100%|██████████| 1500/1500 [1:01:04<00:00,  2.44s/it]\n",
      "Running chain 0: 100%|██████████| 1500/1500 [1:01:07<00:00,  2.44s/it]\n"
     ]
    },
    {
     "name": "stdout",
     "output_type": "stream",
     "text": [
      "['mu', 'te', 'disp']\n"
     ]
    },
    {
     "name": "stderr",
     "output_type": "stream",
     "text": [
      "\n",
      "Running chain 1: 100%|██████████| 1500/1500 [1:01:13<00:00,  2.45s/it]\u001b[A\n",
      "Running chain 0:   5%|▌         | 75/1500 [02:28<42:02,  1.77s/it]\n",
      "Running chain 1:  95%|█████████▌| 1425/1500 [1:01:16<03:13,  2.58s/it]\u001b[A"
     ]
    },
    {
     "name": "stdout",
     "output_type": "stream",
     "text": [
      "['ypred']\n"
     ]
    },
    {
     "name": "stderr",
     "output_type": "stream",
     "text": [
      "\n",
      "Running chain 1:   5%|▌         | 75/1500 [02:32<43:07,  1.82s/it]\u001b[A"
     ]
    },
    {
     "name": "stdout",
     "output_type": "stream",
     "text": [
      "['mu', 'te', 'disp']\n",
      "['ypred']\n"
     ]
    },
    {
     "name": "stderr",
     "output_type": "stream",
     "text": [
      "\n",
      "Running chain 0:   5%|▌         | 75/1500 [02:39<44:04,  1.86s/it]\u001b[A"
     ]
    },
    {
     "name": "stdout",
     "output_type": "stream",
     "text": [
      "['Alabama']\n",
      "['Alaska']\n",
      "['Arizona']\n",
      "['Arkansas']\n",
      "['California']\n",
      "['Colorado']\n",
      "['Connecticut']\n",
      "['Delaware']\n",
      "['District of Columbia']\n",
      "['Florida']\n",
      "['Georgia']\n",
      "['Hawaii']\n",
      "['Idaho']\n",
      "['Illinois']\n",
      "['Indiana']\n",
      "['Iowa']\n",
      "['Kansas']\n",
      "['Kentucky']\n",
      "['Louisiana']\n",
      "['Maine']\n",
      "['Maryland']\n",
      "['Massachusetts']\n",
      "['Michigan']\n",
      "['Minnesota']\n",
      "['Mississippi']\n",
      "['Missouri']\n",
      "['Montana']\n",
      "['Nebraska']\n",
      "['Nevada']\n",
      "['New Hampshire']\n",
      "['New Jersey']\n",
      "['New Mexico']\n",
      "['New York']\n",
      "['North Carolina']\n",
      "['North Dakota']\n",
      "['Ohio']\n",
      "['Oklahoma']\n",
      "['Oregon']\n",
      "['Pennsylvania']\n",
      "['Rhode Island']\n",
      "['South Carolina']\n",
      "['South Dakota']\n",
      "['Tennessee']\n",
      "['Texas']\n",
      "['Utah']\n",
      "['Vermont']\n",
      "['Virginia']\n",
      "['Washington']\n",
      "['West Virginia']\n",
      "['Wisconsin']\n",
      "['Wyoming']\n",
      "['Alabama', 'Arkansas', 'Georgia', 'Idaho', 'Kentucky', 'Louisiana', 'Mississippi', 'Missouri', 'Oklahoma', 'South Dakota', 'Tennessee', 'Texas', 'West Virginia', 'Wisconsin']\n",
      "⚠️ Warning: `dobbscode_sensitivity` column not found, skipping donor sensitivity filtering.\n",
      "(4, 51)\n",
      "(4, 51, 48)\n",
      "(4, 51, 48)\n",
      "(4, 51)\n",
      "(4, 51, 48)\n",
      "(4, 51, 48)\n",
      "(4, 51)\n",
      "(4, 51, 48)\n",
      "(4, 51, 48)\n"
     ]
    },
    {
     "name": "stderr",
     "output_type": "stream",
     "text": [
      "Compiling.. :   0%|          | 0/1500 [00:00<?, ?it/s]\n",
      "  0%|          | 0/1500 [00:00<?, ?it/s]\u001b[A\n",
      "Compiling.. :   0%|          | 0/1500 [00:00<?, ?it/s]\u001b[A"
     ]
    },
    {
     "name": "stdout",
     "output_type": "stream",
     "text": [
      "(4, 51)\n",
      "(4, 51, 48)\n",
      "(4, 51, 48)\n",
      "(4, 51)\n",
      "(4, 51, 48)\n",
      "(4, 51, 48)\n"
     ]
    },
    {
     "name": "stderr",
     "output_type": "stream",
     "text": [
      "Running chain 0:   0%|          | 0/1500 [00:16<?, ?it/s]\n",
      "Running chain 0:  10%|█         | 150/1500 [05:52<52:00,  2.31s/it]\n",
      "Running chain 0:  15%|█▌        | 225/1500 [09:22<53:58,  2.54s/it]\u001b[A\n",
      "Running chain 1:  15%|█▌        | 225/1500 [09:29<54:34,  2.57s/it]\u001b[A\n",
      "Running chain 0: 100%|██████████| 1500/1500 [1:03:40<00:00,  2.55s/it]\n",
      "\n",
      "Running chain 1: 100%|██████████| 1500/1500 [1:04:07<00:00,  2.56s/it]\u001b[A\n",
      "Running chain 0:   5%|▌         | 75/1500 [02:21<39:27,  1.66s/it]\n",
      "Running chain 1:   5%|▌         | 75/1500 [02:21<39:29,  1.66s/it]\u001b[A"
     ]
    },
    {
     "name": "stdout",
     "output_type": "stream",
     "text": [
      "['mu', 'te', 'disp']\n",
      "['ypred']\n"
     ]
    },
    {
     "name": "stderr",
     "output_type": "stream",
     "text": [
      "Running chain 0:  10%|█         | 150/1500 [05:45<51:03,  2.27s/it]\n",
      "Running chain 1:  10%|█         | 150/1500 [05:47<51:14,  2.28s/it]\u001b[A\n",
      "Running chain 0:  15%|█▌        | 225/1500 [08:56<50:26,  2.37s/it]\u001b[A\n",
      "Running chain 0:  20%|██        | 300/1500 [12:24<49:52,  2.49s/it]\u001b[A\n",
      "Running chain 1:  25%|██▌       | 375/1500 [15:17<46:02,  2.46s/it]\u001b[A\n",
      "Running chain 0:  10%|█         | 150/1500 [05:28<48:22,  2.15s/it]\u001b[A\n",
      "Running chain 0:  15%|█▌        | 225/1500 [08:38<48:34,  2.29s/it]\u001b[A\n",
      "Running chain 0:  15%|█▌        | 225/1500 [08:51<49:03,  2.31s/it]\u001b[A\n",
      "Running chain 0:  20%|██        | 300/1500 [11:39<45:54,  2.30s/it]\u001b[A\n",
      "Running chain 1:  15%|█▌        | 225/1500 [08:58<50:03,  2.36s/it]\u001b[A\n",
      "Running chain 0:  30%|███       | 450/1500 [18:04<41:24,  2.37s/it]\u001b[A\n",
      "Running chain 0:  20%|██        | 300/1500 [11:26<45:26,  2.27s/it]\u001b[A\n",
      "Running chain 1:  20%|██        | 300/1500 [11:28<45:25,  2.27s/it]\u001b[A\n",
      "Running chain 0:  15%|█▌        | 225/1500 [08:30<48:25,  2.28s/it]\u001b[A\n",
      "Running chain 0:  20%|██        | 300/1500 [11:44<46:06,  2.31s/it]\u001b[A\n",
      "Running chain 1:  20%|██        | 300/1500 [11:48<46:23,  2.32s/it]\u001b[A\n",
      "Running chain 0:  30%|███       | 450/1500 [18:03<41:16,  2.36s/it]\u001b[A\n",
      "Running chain 0:  25%|██▌       | 375/1500 [14:20<42:52,  2.29s/it]\u001b[A\n",
      "Running chain 1:  25%|██▌       | 375/1500 [14:21<42:51,  2.29s/it]\u001b[A\n",
      "Running chain 0:  20%|██        | 300/1500 [11:30<46:34,  2.33s/it]\u001b[A\n",
      "Running chain 0:  40%|████      | 600/1500 [23:20<33:28,  2.23s/it]\u001b[A\n",
      "Running chain 0:  25%|██▌       | 375/1500 [14:40<43:34,  2.32s/it]\u001b[A\n",
      "Running chain 1:  25%|██▌       | 375/1500 [14:46<43:54,  2.34s/it]\u001b[A\n",
      "Running chain 0:  35%|███▌      | 525/1500 [20:50<37:38,  2.32s/it]\u001b[A\n",
      "Running chain 1:  35%|███▌      | 525/1500 [19:43<35:38,  2.19s/it]\u001b[A\n",
      "Running chain 0:  45%|████▌     | 675/1500 [26:03<30:26,  2.21s/it]\u001b[A\n",
      "Running chain 1:  45%|████▌     | 675/1500 [26:04<30:32,  2.22s/it]\u001b[A\n",
      "Running chain 0:  30%|███       | 450/1500 [17:39<40:59,  2.34s/it]\u001b[A\n",
      "Running chain 1:  30%|███       | 450/1500 [17:44<41:07,  2.35s/it]\u001b[A\n",
      "Running chain 0:  40%|████      | 600/1500 [23:40<34:28,  2.30s/it]\u001b[A\n",
      "Running chain 1:  40%|████      | 600/1500 [22:29<32:59,  2.20s/it]\u001b[A\n",
      "Running chain 0:  50%|█████     | 750/1500 [28:46<27:28,  2.20s/it]\u001b[A\n",
      "Running chain 1:  50%|█████     | 750/1500 [28:47<27:34,  2.21s/it]\u001b[A\n",
      "Running chain 0:  30%|███       | 450/1500 [17:41<42:13,  2.41s/it]\u001b[A\n",
      "Running chain 0:  35%|███▌      | 525/1500 [20:36<38:09,  2.35s/it]\u001b[A\n",
      "Running chain 0:  45%|████▌     | 675/1500 [26:30<31:29,  2.29s/it]\u001b[A\n",
      "Running chain 1:  45%|████▌     | 675/1500 [25:15<30:19,  2.20s/it]\u001b[A\n",
      "Running chain 0:  55%|█████▌    | 825/1500 [31:28<24:37,  2.19s/it]\u001b[A\n",
      "Running chain 0:  50%|█████     | 750/1500 [29:17<28:23,  2.27s/it]\u001b[A\n",
      "Running chain 0:  40%|████      | 600/1500 [23:32<35:15,  2.35s/it]\u001b[A\n",
      "Running chain 1:  40%|████      | 600/1500 [23:34<35:11,  2.35s/it]\u001b[A\n",
      "Running chain 0:  35%|███▌      | 525/1500 [20:43<39:16,  2.42s/it]\u001b[A\n",
      "Running chain 1:  50%|█████     | 750/1500 [28:01<27:33,  2.20s/it]\u001b[A\n",
      "Running chain 0:  50%|█████     | 750/1500 [28:15<27:45,  2.22s/it]\u001b[A\n",
      "Running chain 0:  55%|█████▌    | 825/1500 [32:05<25:25,  2.26s/it]\u001b[A\n",
      "Running chain 0:  45%|████▌     | 675/1500 [26:30<32:24,  2.36s/it]\u001b[A\n",
      "Running chain 1:  45%|████▌     | 675/1500 [26:31<32:20,  2.35s/it]\u001b[A\n",
      "Running chain 0:  40%|████      | 600/1500 [23:47<36:25,  2.43s/it]\u001b[A\n",
      "Running chain 1:  55%|█████▌    | 825/1500 [30:46<24:46,  2.20s/it]\u001b[A\n",
      "Running chain 0:  55%|█████▌    | 825/1500 [31:00<24:55,  2.22s/it]\u001b[A\n",
      "Running chain 0:  60%|██████    | 900/1500 [34:54<22:35,  2.26s/it]\u001b[A\n",
      "Running chain 0:  50%|█████     | 750/1500 [29:28<29:31,  2.36s/it]\u001b[A\n",
      "Running chain 1:  50%|█████     | 750/1500 [29:28<29:26,  2.35s/it]\u001b[A\n",
      "Running chain 0:  45%|████▌     | 675/1500 [26:52<33:33,  2.44s/it]\u001b[A\n",
      "Running chain 0:  70%|███████   | 1050/1500 [39:35<16:16,  2.17s/it][A\n",
      "Running chain 0:  60%|██████    | 900/1500 [33:47<22:10,  2.22s/it]]\u001b[A\n",
      "Running chain 0:  65%|██████▌   | 975/1500 [37:42<19:42,  2.25s/it]\u001b[A\n",
      "Running chain 1:  65%|██████▌   | 975/1500 [37:44<19:45,  2.26s/it]\u001b[A\n",
      "Running chain 0:  55%|█████▌    | 825/1500 [32:27<26:39,  2.37s/it]\u001b[A\n",
      "Running chain 0:  75%|███████▌  | 1125/1500 [42:16<13:31,  2.17s/it][A\n",
      "Running chain 1:  75%|███████▌  | 1125/1500 [42:17<13:33,  2.17s/it]\u001b[A\n",
      "Running chain 0:  65%|██████▌   | 975/1500 [36:35<19:27,  2.22s/it]\u001b[A\n",
      "Running chain 0:  70%|███████   | 1050/1500 [40:31<16:54,  2.25s/it][A\n",
      "Running chain 1:  70%|███████   | 1050/1500 [40:33<16:55,  2.26s/it]\u001b[A\n",
      "Running chain 0:  60%|██████    | 900/1500 [35:26<23:42,  2.37s/it]\u001b[A\n",
      "Running chain 0:  55%|█████▌    | 825/1500 [33:02<27:33,  2.45s/it]\u001b[A\n",
      "Running chain 0:  80%|████████  | 1200/1500 [45:00<10:50,  2.17s/it]\u001b[A\n",
      "Running chain 0:  70%|███████   | 1050/1500 [39:19<16:36,  2.21s/it]\u001b[A\n",
      "Running chain 0:  75%|███████▌  | 1125/1500 [43:21<14:06,  2.26s/it][A\n",
      "Running chain 1:  75%|███████▌  | 1125/1500 [43:22<14:05,  2.25s/it]\u001b[A\n",
      "Running chain 0:  65%|██████▌   | 975/1500 [38:24<20:45,  2.37s/it]\u001b[A\n",
      "Running chain 0:  60%|██████    | 900/1500 [36:07<24:34,  2.46s/it]\u001b[A\n",
      "Running chain 0:  85%|████████▌ | 1275/1500 [47:43<08:08,  2.17s/it]\u001b[A\n",
      "Running chain 0:  75%|███████▌  | 1125/1500 [42:05<13:50,  2.21s/it]\u001b[A\n",
      "Running chain 0:  80%|████████  | 1200/1500 [46:10<11:17,  2.26s/it]\u001b[A\n",
      "Running chain 1:  80%|████████  | 1200/1500 [46:11<11:16,  2.26s/it]\u001b[A\n",
      "Running chain 0:  70%|███████   | 1050/1500 [41:21<17:46,  2.37s/it]\u001b[A\n",
      "Running chain 0:  90%|█████████ | 1350/1500 [50:24<05:24,  2.16s/it]\u001b[A\n",
      "Running chain 1:  80%|████████  | 1200/1500 [44:36<11:02,  2.21s/it]\u001b[A\n",
      "Running chain 0:  80%|████████  | 1200/1500 [44:51<11:04,  2.21s/it][A\n",
      "Running chain 0:  85%|████████▌ | 1275/1500 [49:00<08:28,  2.26s/it]\u001b[A\n",
      "Running chain 1:  85%|████████▌ | 1275/1500 [49:01<08:27,  2.26s/it]\u001b[A\n",
      "Running chain 0:  75%|███████▌  | 1125/1500 [44:19<14:49,  2.37s/it]\u001b[A\n",
      "Running chain 0:  95%|█████████▌| 1425/1500 [53:07<02:42,  2.17s/it]\u001b[A\n",
      "Running chain 0:  85%|████████▌ | 1275/1500 [47:39<08:19,  2.22s/it]\u001b[A\n",
      "Running chain 0:  70%|███████   | 1050/1500 [42:17<18:27,  2.46s/it]\u001b[A\n",
      "Running chain 0:  80%|████████  | 1200/1500 [46:07<11:33,  2.31s/it]\u001b[A\n",
      "Running chain 1:  90%|█████████ | 1350/1500 [51:50<05:38,  2.26s/it]\u001b[A\n",
      "Running chain 1: 100%|██████████| 1500/1500 [55:48<00:00,  2.23s/it]\u001b[A\n",
      "Running chain 0: 100%|██████████| 1500/1500 [55:50<00:00,  2.23s/it]\n"
     ]
    },
    {
     "name": "stdout",
     "output_type": "stream",
     "text": [
      "['mu', 'te', 'disp']\n"
     ]
    },
    {
     "name": "stderr",
     "output_type": "stream",
     "text": [
      "\n",
      "Running chain 0:  80%|████████  | 1200/1500 [47:17<11:52,  2.37s/it]\u001b[A"
     ]
    },
    {
     "name": "stdout",
     "output_type": "stream",
     "text": [
      "['ypred']\n"
     ]
    },
    {
     "name": "stderr",
     "output_type": "stream",
     "text": [
      "\n",
      "Running chain 0:  90%|█████████ | 1350/1500 [50:22<05:30,  2.21s/it]\u001b[A\n",
      "Running chain 0:  75%|███████▌  | 1125/1500 [45:14<15:11,  2.43s/it]\u001b[A\n",
      "Running chain 0:  95%|█████████▌| 1425/1500 [54:26<02:45,  2.21s/it]\u001b[A\n",
      "Running chain 0:  85%|████████▌ | 1275/1500 [48:47<08:27,  2.26s/it]\u001b[A\n",
      "Running chain 1:  95%|█████████▌| 1425/1500 [52:28<02:38,  2.11s/it]\u001b[A\n",
      "Running chain 0:  95%|█████████▌| 1425/1500 [52:44<02:38,  2.11s/it]\u001b[A\n",
      "Running chain 0: 100%|██████████| 1500/1500 [56:50<00:00,  2.27s/it]\u001b[A\n",
      "\n",
      "Running chain 1: 100%|██████████| 1500/1500 [56:51<00:00,  2.27s/it]\u001b[A\n",
      "\n",
      "Running chain 1:  90%|█████████ | 1350/1500 [51:10<05:26,  2.17s/it]\u001b[A"
     ]
    },
    {
     "name": "stdout",
     "output_type": "stream",
     "text": [
      "['mu', 'te', 'disp']\n"
     ]
    },
    {
     "name": "stderr",
     "output_type": "stream",
     "text": [
      "Running chain 0:  90%|█████████ | 1350/1500 [51:13<05:24,  2.16s/it]"
     ]
    },
    {
     "name": "stdout",
     "output_type": "stream",
     "text": [
      "['ypred']\n"
     ]
    },
    {
     "name": "stderr",
     "output_type": "stream",
     "text": [
      "\n",
      "Running chain 1: 100%|██████████| 1500/1500 [54:41<00:00,  2.19s/it]\u001b[A\n",
      "\n",
      "Running chain 0: 100%|██████████| 1500/1500 [54:53<00:00,  2.20s/it]\u001b[A\n"
     ]
    },
    {
     "name": "stdout",
     "output_type": "stream",
     "text": [
      "['mu', 'te', 'disp']\n",
      "['ypred']\n"
     ]
    },
    {
     "name": "stderr",
     "output_type": "stream",
     "text": [
      "\n",
      "Running chain 0:  85%|████████▌ | 1275/1500 [50:02<08:04,  2.15s/it]\u001b[A\n",
      "Running chain 0:  95%|█████████▌| 1425/1500 [53:12<02:29,  1.99s/it]\u001b[A\n",
      "Running chain 0:  95%|█████████▌| 1425/1500 [54:03<02:26,  1.96s/it]\u001b[A\n",
      "Running chain 1: 100%|██████████| 1500/1500 [54:57<00:00,  2.20s/it]\u001b[A\n",
      "\n",
      "Running chain 0: 100%|██████████| 1500/1500 [55:00<00:00,  2.20s/it]\u001b[A\n"
     ]
    },
    {
     "name": "stdout",
     "output_type": "stream",
     "text": [
      "['mu', 'te', 'disp']\n",
      "['ypred']\n"
     ]
    },
    {
     "name": "stderr",
     "output_type": "stream",
     "text": [
      "\n",
      "Running chain 1: 100%|██████████| 1500/1500 [55:49<00:00,  2.23s/it]\u001b[A\n",
      "Running chain 0: 100%|██████████| 1500/1500 [55:51<00:00,  2.23s/it]\n"
     ]
    },
    {
     "name": "stdout",
     "output_type": "stream",
     "text": [
      "['mu', 'te', 'disp']\n",
      "['ypred']\n"
     ]
    },
    {
     "name": "stderr",
     "output_type": "stream",
     "text": [
      "\n",
      "Running chain 0:  95%|█████████▌| 1425/1500 [53:45<02:15,  1.81s/it]\u001b[A\n",
      "Running chain 1: 100%|██████████| 1500/1500 [55:28<00:00,  2.22s/it]\u001b[A\n",
      "Running chain 0: 100%|██████████| 1500/1500 [55:29<00:00,  2.22s/it]\n"
     ]
    },
    {
     "name": "stdout",
     "output_type": "stream",
     "text": [
      "['mu', 'te', 'disp']\n",
      "['ypred']\n"
     ]
    }
   ],
   "source": [
    "from run_model import run_model\n",
    "from joblib import Parallel, delayed\n",
    "\n",
    "# Only rerun subgroups that may be missing ypred\n",
    "rerun_cats = ['race', 'edu']\n",
    "\n",
    "inputs = [6, 7, 8, 9, 10, 11, 12]  # latent ranks\n",
    "outcome_type = \"births\"\n",
    "dists = ['NB']\n",
    "missing_flags = [True]\n",
    "disp_params = [1e-4]\n",
    "placebo_times = [None]\n",
    "placebo_states = [None]\n",
    "sample_disp = False\n",
    "results_file_suffix = \"rerun_ypred_fix\"  # Distinct output\n",
    "\n",
    "# Generate parameter combinations\n",
    "args = [(dist, cat, rank, m, disp, p, tm)\n",
    "        for dist in dists\n",
    "        for rank in inputs\n",
    "        for cat in rerun_cats\n",
    "        for m in missing_flags\n",
    "        for disp in disp_params\n",
    "        for p in placebo_states\n",
    "        for tm in placebo_times]\n",
    "\n",
    "# Run the models in parallel\n",
    "results = Parallel(n_jobs=8)(delayed(run_model)(\n",
    "    dist=i[0], outcome_type=outcome_type, cat_name=i[1], rank=i[2],\n",
    "    missingness=i[3], disp_param=i[4], sample_disp=sample_disp,\n",
    "    placebo_state=i[5], placebo_time=i[6],\n",
    "    results_file_suffix=results_file_suffix,\n",
    "    num_chains=2, num_samples=1000, num_warmup=500, thinning=5,\n",
    "    dobbs_donor_sensitivity=True  # or False if not filtering\n",
    ") for i in args)\n"
   ]
  }
 ],
 "metadata": {
  "kernelspec": {
   "display_name": "Python 3",
   "language": "python",
   "name": "python3"
  },
  "language_info": {
   "codemirror_mode": {
    "name": "ipython",
    "version": 3
   },
   "file_extension": ".py",
   "mimetype": "text/x-python",
   "name": "python",
   "nbconvert_exporter": "python",
   "pygments_lexer": "ipython3",
   "version": "3.11.8"
  }
 },
 "nbformat": 4,
 "nbformat_minor": 2
}
